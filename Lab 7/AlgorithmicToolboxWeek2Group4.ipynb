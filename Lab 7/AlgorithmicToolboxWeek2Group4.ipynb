{
  "nbformat": 4,
  "nbformat_minor": 0,
  "metadata": {
    "colab": {
      "name": "AlgorithmicToolboxWeek2Group4.ipynb",
      "provenance": [],
      "collapsed_sections": []
    },
    "kernelspec": {
      "name": "python3",
      "display_name": "Python 3"
    },
    "language_info": {
      "name": "python"
    }
  },
  "cells": [
    {
      "cell_type": "markdown",
      "metadata": {
        "id": "LSxCBotKTqFy"
      },
      "source": [
        "# 1. Fibonacci Number\n",
        "\n",
        "**Problem Description**\n",
        "\n",
        "**Task.** Given an integer 𝑛, find the 𝑛th Fibonacci number 𝐹𝑛.\n",
        "\n",
        "\n",
        "**Input Format.** The input consists of a single integer 𝑛.\n",
        "\n",
        "\n",
        "**Constraints.** 0 ≤ 𝑛 ≤ 45.\n",
        "\n",
        "\n",
        "**Output Format.** Output 𝐹𝑛.\n",
        "\n",
        "\n",
        "**Sample 1.**\n",
        "\n",
        "Input:\n",
        "```\n",
        "  10\n",
        "```\n",
        "Output:\n",
        "```\n",
        "  55\n",
        "```\n",
        "$$ F_{10}= 55 $$"
      ]
    },
    {
      "cell_type": "code",
      "metadata": {
        "colab": {
          "base_uri": "https://localhost:8080/"
        },
        "id": "L7IxX1BgTpmY",
        "outputId": "7af15c8c-1fcf-4a06-97fd-9a4b373800c6"
      },
      "source": [
        "#Implementation of a fibonacci con la formula de Binet\n",
        "from math import sqrt\n",
        "\n",
        "# constants\n",
        "sqrt5 = sqrt(5)\n",
        "phi_plus = (1 + sqrt5)/2\n",
        "phi_minus = (1 - sqrt5)/2  \n",
        "\n",
        "def fib_binet(n):\n",
        "    return round((phi_plus**n - phi_minus**n)/sqrt5)\n",
        "\n",
        "n = int(input())\n",
        "print(fib_binet(n))"
      ],
      "execution_count": null,
      "outputs": [
        {
          "output_type": "stream",
          "name": "stdout",
          "text": [
            "100\n",
            "354224848179263111168\n"
          ]
        }
      ]
    },
    {
      "cell_type": "markdown",
      "metadata": {
        "id": "Z_iGSy5ZEGdX"
      },
      "source": [
        "# 2. Last Digit of a Large Fibonacci Number\n",
        "**Problem Description**\n",
        "\n",
        "**Task.** Given an integer 𝑛, find the last digit of the 𝑛th Fibonacci number 𝐹𝑛 (that is, 𝐹𝑛 mod 10).\n",
        "\n",
        "**Input Format.** The input consists of a single integer n.\n",
        "\n",
        "\n",
        "**Constraints.** 0 ≤ 𝑛 ≤ 10^7.\n",
        "\n",
        "\n",
        "**Output Format.** Output the last digit of 𝐹𝑛."
      ]
    },
    {
      "cell_type": "code",
      "metadata": {
        "colab": {
          "base_uri": "https://localhost:8080/"
        },
        "id": "2fZKwyBpFzZ3",
        "outputId": "b9b19033-1fa5-4658-bf3d-9f6aa9b01193"
      },
      "source": [
        "def get_fibonacci_last_digit(n):\n",
        "    if (n < 1):\n",
        "        return n\n",
        "\n",
        "    prev = 0\n",
        "    curr = 1\n",
        "\n",
        "    for _ in range(n - 1):\n",
        "        prev, curr = curr % 10, (prev + curr) % 10\n",
        "\n",
        "    return curr % 10\n",
        "\n",
        "n = int(input())\n",
        "print(get_fibonacci_last_digit(n))"
      ],
      "execution_count": null,
      "outputs": [
        {
          "output_type": "stream",
          "name": "stdout",
          "text": [
            "327305\n",
            "5\n"
          ]
        }
      ]
    },
    {
      "cell_type": "markdown",
      "metadata": {
        "id": "522L5VZfNwz5"
      },
      "source": [
        "#3. Greatest Common Divisor\n",
        "**Problem Description**\n",
        "\n",
        "**Task.** Given two integers 𝑎 and 𝑏, find their greatest common divisor.\n",
        "\n",
        "**Input Format.** The two integers 𝑎, 𝑏 are given in the same line separated by space.\n",
        "\n",
        "\n",
        "\n",
        "**Constraints.** 1 ≤ 𝑎, 𝑏 ≤ 2 · 109.\n",
        "\n",
        "\n",
        "**Output Format.**  Output GCD(𝑎, 𝑏)."
      ]
    },
    {
      "cell_type": "code",
      "metadata": {
        "colab": {
          "base_uri": "https://localhost:8080/"
        },
        "id": "-x-UycUVCqiB",
        "outputId": "66c2599f-9c0a-4a9f-b139-d26249e5a37b"
      },
      "source": [
        "def euclidean_algorithm(x, y):\n",
        "    while y:\n",
        "        q = x // y\n",
        "        x, y = y, x % y\n",
        "    return x\n",
        "\n",
        "x, y = map(int, input().split())\n",
        "print(euclidean_algorithm(x,y))"
      ],
      "execution_count": null,
      "outputs": [
        {
          "output_type": "stream",
          "name": "stdout",
          "text": [
            "28851538 1183019\n",
            "17657\n"
          ]
        }
      ]
    },
    {
      "cell_type": "markdown",
      "source": [
        "#4. Least Common Multiple\n",
        "**Problem Description**\n",
        "\n",
        "**Task.** Given two integers 𝑎 and 𝑏, find their least common multiple.\n",
        "\n",
        "\n",
        "**Input Format.** The two integers 𝑎 and 𝑏 are given in the same line separated by space.\n",
        "\n",
        "\n",
        "\n",
        "**Constraints.** 1 ≤ 𝑎, 𝑏 ≤ 2 · 109.\n",
        "\n",
        "\n",
        "**Output Format.**  Output the least common multiple of 𝑎 and 𝑏."
      ],
      "metadata": {
        "id": "0k38psdjaBci"
      }
    },
    {
      "cell_type": "markdown",
      "source": [
        "**How to Find LCM by GCF**\n",
        "\n",
        "The formula to find the LCM using the Greatest Common Factor GCF of a set of numbers is:\n",
        "\n",
        "LCM(a,b) = (a×b)/GCD(a,b)\n",
        "\n",
        "Example: Find LCM(6,10)\n",
        "\n",
        "Find the GCD(6,10) = 2\n",
        "Use the LCM by GCD formula to calculate (6×10)/2 = 60/2 = 30\n",
        "So LCM(6,10) = 30\n",
        "A factor is a number that results when you can evenly divide one number by another. In this sense, a factor is also known as a divisor.\n",
        "\n",
        "The greatest common factor of two or more numbers is the largest number shared by all the factors.\n",
        "\n"
      ],
      "metadata": {
        "id": "Rqym1RP1fYFx"
      }
    },
    {
      "cell_type": "code",
      "metadata": {
        "id": "HxLZ2MElLduz",
        "colab": {
          "base_uri": "https://localhost:8080/"
        },
        "outputId": "62f6c198-3946-46fc-d453-101529fef168"
      },
      "source": [
        "def euclidean_algorithm(x, y):\n",
        "    while y:\n",
        "        q = x // y\n",
        "        x, y = y, x % y\n",
        "    return x\n",
        "def LCM(x,y):\n",
        "  return(int((x*y)/euclidean_algorithm(x,y)))\n",
        "x, y = map(int, input().split())\n",
        "print(LCM(x,y))"
      ],
      "execution_count": null,
      "outputs": [
        {
          "output_type": "stream",
          "name": "stdout",
          "text": [
            "28851538 1183019\n",
            "1933053046\n"
          ]
        }
      ]
    },
    {
      "cell_type": "markdown",
      "source": [
        "#5.  Fibonacci Number Again\n",
        "\n",
        "**Problem Description**\n",
        "\n",
        "**Task.** Given two integers 𝑛 and 𝑚, output 𝐹𝑛 mod 𝑚 (that is, the remainder of 𝐹𝑛 when divided by 𝑚)\n",
        "\n",
        "\n",
        "**Input Format.**  The input consists of two integers 𝑛 and 𝑚 given on the same line (separated by a space).\n",
        "\n",
        "\n",
        "\n",
        "**Constraints.** 1 ≤ 𝑛 ≤ 1018\n",
        ", 2 ≤ 𝑚 ≤ 103\n",
        ".\n",
        "\n",
        "\n",
        "\n",
        "**Output Format.**  . Output 𝐹𝑛 mod m."
      ],
      "metadata": {
        "id": "XJKKqPd4JBRn"
      }
    },
    {
      "cell_type": "code",
      "source": [
        "def Huge_Fib(n,m):\n",
        "\n",
        "    v1, v2, v3 = 1, 1, 0  \n",
        "    for rec in bin(n)[3:]:\n",
        "        calc = (v2*v2) % m\n",
        "        v1, v2, v3 = (v1*v1+calc) % m, ((v1+v3)*v2) % m, (calc+v3*v3) % m\n",
        "        if rec == '1': v1, v2, v3 = (v1+v2) % m, v1, v2\n",
        "    print(v2);        \n",
        "\n",
        "n,m = map(int, input().split());   \n",
        "Huge_Fib(n,m)"
      ],
      "metadata": {
        "colab": {
          "base_uri": "https://localhost:8080/"
        },
        "id": "i9994po6Ja4b",
        "outputId": "55b176ab-edc7-461b-9695-214c9406cd97"
      },
      "execution_count": null,
      "outputs": [
        {
          "output_type": "stream",
          "name": "stdout",
          "text": [
            "2816213588 239\n",
            "151\n"
          ]
        }
      ]
    },
    {
      "cell_type": "markdown",
      "source": [
        "#6. Last Digit of the Sum of Fibonacci Numbers\n",
        "\n",
        "**Problem Description**\n",
        "\n",
        "**Task.** Given an integer 𝑛, find the last digit of the sum 𝐹0 + 𝐹1 + · · · + 𝐹𝑛.\n",
        "\n",
        "\n",
        "\n",
        "**Input Format.**  The input consists of a single integer 𝑛.\n",
        "\n",
        "\n",
        "\n",
        "**Constraints.** 0 ≤ 𝑛 ≤ 1018\n",
        ".\n",
        "\n",
        "\n",
        "\n",
        "**Output Format.**  . Output the last digit of 𝐹0 + 𝐹1 + · · · + 𝐹𝑛."
      ],
      "metadata": {
        "id": "85PkELKujTPV"
      }
    },
    {
      "cell_type": "code",
      "source": [
        "F = [0, 1]\n",
        "last = [0, 1]\n",
        "for i in range(2, 60):\n",
        "    F.append(F[i - 1] + F[i - 2])\n",
        "    last.append(int(str(F[i])[-1]))\n",
        "\n",
        "# Sn = 2 * F[n] + F[n-1] - 1\n",
        "n = int(input())\n",
        "result = 2 * last[n % 60] + last[(n - 1) % 60] - 1\n",
        "print(result % 10)"
      ],
      "metadata": {
        "colab": {
          "base_uri": "https://localhost:8080/"
        },
        "id": "NE3QASttjRrG",
        "outputId": "5be881bd-ad81-49c4-8716-46b7812a9f83"
      },
      "execution_count": null,
      "outputs": [
        {
          "output_type": "stream",
          "name": "stdout",
          "text": [
            "2\n",
            "2\n"
          ]
        }
      ]
    },
    {
      "cell_type": "markdown",
      "source": [
        "#7. Last Digit of the Sum of Fibonacci Numbers Again\n",
        "\n",
        "**Problem Description**\n",
        "\n",
        "**Task.** Given two non-negative integers 𝑚 and 𝑛, where 𝑚 ≤ 𝑛, find the last digit of the sum 𝐹𝑚 + 𝐹𝑚+1 +\n",
        "· · · + 𝐹𝑛.\n",
        "\n",
        "\n",
        "\n",
        "**Input Format.**  The input consists of two non-negative integers 𝑚 and 𝑛 separated by a space\n",
        "\n",
        "\n",
        "**Constraints.** 0 ≤ 𝑚 ≤ 𝑛 ≤ 1018\n",
        "\n",
        "\n",
        "\n",
        "**Output Format.**  . Output the last digit of 𝐹𝑚 + 𝐹𝑚+1 + · · · + 𝐹𝑛."
      ],
      "metadata": {
        "id": "C3MBLCWipLeg"
      }
    },
    {
      "cell_type": "code",
      "source": [
        "def get_fibonacci_last_digit(n):\n",
        "    if (n < 1):\n",
        "        return n\n",
        "\n",
        "    prev = 0\n",
        "    curr = 1\n",
        "\n",
        "    for _ in range(n - 1):\n",
        "        prev, curr = curr % 10, (prev + curr) % 10\n",
        "\n",
        "    return curr % 10\n",
        "\n",
        "def get_fibonacci_sum(n):\n",
        "    # Little trick:\n",
        "    # Pisano period modulo 10 is 60\n",
        "    # Sum of n Fibonacci numbers is F(n + 2) - 1\n",
        "    last_digit = get_fibonacci_last_digit((n + 2) % 60)\n",
        "    sum_last_digit =  get_last_digit_after_subtraction(last_digit, 1)\n",
        "    return sum_last_digit\n",
        "\n",
        "def get_fibonacci_partial_sum(a, b):\n",
        "    last_digit_partial_sum = get_last_digit_after_subtraction(get_fibonacci_sum(b), get_fibonacci_sum(a - 1))\n",
        "\n",
        "    return last_digit_partial_sum\n",
        "\n",
        "def get_last_digit_after_subtraction(last_digit_minuend, last_digit_subtrahend):\n",
        "    if (last_digit_minuend < last_digit_subtrahend):\n",
        "        last_digit_minuend = last_digit_minuend + 10;\n",
        "    return last_digit_minuend - last_digit_subtrahend\n",
        "\n",
        "a,b = map(int, input().split());  \n",
        "print(get_fibonacci_partial_sum(a,b))"
      ],
      "metadata": {
        "colab": {
          "base_uri": "https://localhost:8080/"
        },
        "id": "Q60oucbprYYm",
        "outputId": "e6be60c1-e0c1-4664-ee49-ad47c1899ae9"
      },
      "execution_count": null,
      "outputs": [
        {
          "output_type": "stream",
          "name": "stdout",
          "text": [
            "10 200\n",
            "2\n"
          ]
        }
      ]
    },
    {
      "cell_type": "markdown",
      "source": [
        "#8. Last Digit of the Sum of Fibonacci Numbers Again\n",
        "\n",
        "**Problem Description**\n",
        "\n",
        "**Task.** Compute the last digit of 𝐹\n",
        "2\n",
        "0 + 𝐹\n",
        "2\n",
        "1 + · · · + 𝐹\n",
        "2\n",
        "\n",
        "\n",
        "\n",
        "\n",
        "**Input Format.**  Integer 𝑛.\n",
        "\n",
        "\n",
        "**Constraints.** 0 ≤ 𝑛 ≤ 1018\n",
        ".\n",
        "\n",
        "\n",
        "\n",
        "**Output Format.**  . The last digit of 𝐹\n",
        "2\n",
        "0 + 𝐹\n",
        "2\n",
        "1 + · · · + 𝐹\n",
        "2\n",
        "𝑛\n",
        ".\n"
      ],
      "metadata": {
        "id": "ithjWxJyfEeH"
      }
    },
    {
      "cell_type": "code",
      "source": [
        "F = [0, 1]\n",
        "last = [0, 1]\n",
        "for i in range(2, 60):\n",
        "    F.append(F[i - 1] + F[i - 2])\n",
        "    last.append(int(str(F[i])[-1]))\n",
        "\n",
        "n = int(input())\n",
        "S = last[n % 60] * last[n % 60] + last[n % 60] * last[(n - 1) % 60]\n",
        "\n",
        "print(S % 10)"
      ],
      "metadata": {
        "colab": {
          "base_uri": "https://localhost:8080/"
        },
        "id": "yQ1G2i6LfBLQ",
        "outputId": "deed55b5-c9be-4cfb-886d-28a940f2b6c0"
      },
      "execution_count": null,
      "outputs": [
        {
          "output_type": "stream",
          "name": "stdout",
          "text": [
            "0\n",
            "0\n"
          ]
        }
      ]
    }
  ]
}