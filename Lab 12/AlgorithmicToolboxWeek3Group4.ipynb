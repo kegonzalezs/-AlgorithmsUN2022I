{
  "nbformat": 4,
  "nbformat_minor": 0,
  "metadata": {
    "colab": {
      "name": "AlgorithmicToolboxWeek3Group4.ipynb",
      "provenance": [],
      "collapsed_sections": []
    },
    "kernelspec": {
      "name": "python3",
      "display_name": "Python 3"
    },
    "language_info": {
      "name": "python"
    }
  },
  "cells": [
    {
      "cell_type": "markdown",
      "metadata": {
        "id": "WI4eGNqWi0h5"
      },
      "source": [
        "#Week 3: Greedy Algorithmics\n",
        "\n",
        "Integrantes:\n",
        "\n",
        "- Rodrigo Sierra Agredo\n",
        "- Sergio David Lopez Pardo\n",
        "- Kevin Jair Gonzalez Sanchez"
      ]
    },
    {
      "cell_type": "markdown",
      "metadata": {
        "id": "OezDfW6PkL9j"
      },
      "source": [
        "##3-1: Money Change"
      ]
    },
    {
      "cell_type": "code",
      "metadata": {
        "colab": {
          "base_uri": "https://localhost:8080/"
        },
        "id": "trpInJP7iu6p",
        "outputId": "ac5144c4-a1ac-4b80-8208-ccfc1d11d640"
      },
      "source": [
        "%%writefile ex3_1.py\n",
        "\n",
        "n = int(input())\n",
        "\n",
        "c = 0\n",
        "\n",
        "for i in [10, 5, 1]:\n",
        "    if n>=i:\n",
        "        q = n//i\n",
        "        c = c + q\n",
        "        n = n%i\n",
        "        if n == 0:\n",
        "            print(c)\n",
        "            quit()"
      ],
      "execution_count": null,
      "outputs": [
        {
          "output_type": "stream",
          "text": [
            "Writing ex3_1.py\n"
          ],
          "name": "stdout"
        }
      ]
    },
    {
      "cell_type": "code",
      "metadata": {
        "colab": {
          "base_uri": "https://localhost:8080/"
        },
        "id": "szietYRKk43i",
        "outputId": "c09f5fc0-e3a5-4bd6-cf74-91eadc46ef8c"
      },
      "source": [
        "!python ex3_1.py"
      ],
      "execution_count": null,
      "outputs": [
        {
          "output_type": "stream",
          "text": [
            "2\n",
            "2\n"
          ],
          "name": "stdout"
        }
      ]
    },
    {
      "cell_type": "code",
      "metadata": {
        "colab": {
          "base_uri": "https://localhost:8080/"
        },
        "id": "2-tLAqLhk5Gy",
        "outputId": "69420757-ebb5-40f2-f9d2-e61ea4cc11a3"
      },
      "source": [
        "!python ex3_1.py"
      ],
      "execution_count": null,
      "outputs": [
        {
          "output_type": "stream",
          "text": [
            "28\n",
            "6\n"
          ],
          "name": "stdout"
        }
      ]
    },
    {
      "cell_type": "markdown",
      "metadata": {
        "id": "WEvo_zo6kXfp"
      },
      "source": [
        "##3-2: Maximum Value of the Loot"
      ]
    },
    {
      "cell_type": "code",
      "metadata": {
        "colab": {
          "base_uri": "https://localhost:8080/"
        },
        "id": "NIjthmJ_kfMT",
        "outputId": "cec5149c-c33d-4e0d-b643-024d5a7b6abf"
      },
      "source": [
        "%%writefile ex3_2.py\n",
        "\n",
        "n, W = list(map(int, input().split()))\n",
        "l = []\n",
        "tv = 0\n",
        "\n",
        "if W == 0:\n",
        "    print(0)\n",
        "    quit()\n",
        "\n",
        "for _ in range(n):\n",
        "    v, w = list(map(int, input().split()))\n",
        "    if v == 0:\n",
        "        continue\n",
        "    l.append((v, w))\n",
        "\n",
        "l.sort(key = lambda x: x[0]/x[1], reverse = True)\n",
        "\n",
        "for v,w in l:\n",
        "    if W==0:\n",
        "        print(tv)\n",
        "        quit()\n",
        "    a = min(w, W)\n",
        "    tv = tv + a*v/w\n",
        "    W = W - a\n",
        "\n",
        "print(tv)"
      ],
      "execution_count": null,
      "outputs": [
        {
          "output_type": "stream",
          "text": [
            "Writing ex3_2.py\n"
          ],
          "name": "stdout"
        }
      ]
    },
    {
      "cell_type": "code",
      "metadata": {
        "colab": {
          "base_uri": "https://localhost:8080/"
        },
        "id": "HKzjHfnjlA1y",
        "outputId": "a9dc6f49-366c-4a4b-ce13-793d69709c58"
      },
      "source": [
        "!python ex3_2.py"
      ],
      "execution_count": null,
      "outputs": [
        {
          "output_type": "stream",
          "text": [
            "3 50\n",
            "60 20\n",
            "100 50\n",
            "120 30\n",
            "180.0\n"
          ],
          "name": "stdout"
        }
      ]
    },
    {
      "cell_type": "code",
      "metadata": {
        "colab": {
          "base_uri": "https://localhost:8080/"
        },
        "id": "aRCwvNJYlBGA",
        "outputId": "184822c6-e8a0-4b8f-9ff7-1c1518d85f00"
      },
      "source": [
        "!python ex3_2.py"
      ],
      "execution_count": null,
      "outputs": [
        {
          "output_type": "stream",
          "text": [
            "1 10\n",
            "500 30\n",
            "166.66666666666666\n"
          ],
          "name": "stdout"
        }
      ]
    },
    {
      "cell_type": "markdown",
      "metadata": {
        "id": "mxfCYO-vkfeJ"
      },
      "source": [
        "##3-3: Car Fueling"
      ]
    },
    {
      "cell_type": "code",
      "metadata": {
        "colab": {
          "base_uri": "https://localhost:8080/"
        },
        "id": "vb2jo2_KkjYy",
        "outputId": "88bd2a82-48ea-425a-9257-84ff92611200"
      },
      "source": [
        "%%writefile ex3_3.py\n",
        "\n",
        "d = int(input())\n",
        "m = int(input())\n",
        "n = int(input())\n",
        "\n",
        "stops = list(map(int, input().split()))\n",
        "\n",
        "stops.append(d)\n",
        "no_stops = 0\n",
        "ld = d\n",
        "cd = 0\n",
        "for i in range(len(stops) - 1):\n",
        "    if (ld == 0):\n",
        "        break\n",
        "    elif ((stops[i + 1] - stops[i]) > m):\n",
        "        no_stops = -1\n",
        "        break\n",
        "    elif ((cd + m) >= stops[i] and (cd + m) < stops[i + 1]):\n",
        "        cd = stops[i]\n",
        "        ld = d - stops[i]\n",
        "        no_stops +=  1\n",
        "\n",
        "print(no_stops)"
      ],
      "execution_count": null,
      "outputs": [
        {
          "output_type": "stream",
          "text": [
            "Writing ex3_3.py\n"
          ],
          "name": "stdout"
        }
      ]
    },
    {
      "cell_type": "code",
      "metadata": {
        "colab": {
          "base_uri": "https://localhost:8080/"
        },
        "id": "zQx-4BuWlJJS",
        "outputId": "41023891-3bb1-45f1-b5b8-6e41dee66c1a"
      },
      "source": [
        "!python ex3_3.py"
      ],
      "execution_count": null,
      "outputs": [
        {
          "output_type": "stream",
          "text": [
            "950\n",
            "400\n",
            "4\n",
            "200 375 550 750\n",
            "2\n"
          ],
          "name": "stdout"
        }
      ]
    },
    {
      "cell_type": "code",
      "metadata": {
        "colab": {
          "base_uri": "https://localhost:8080/"
        },
        "id": "Oq9ABL07lJbi",
        "outputId": "194c955f-5ec9-4512-d472-86342d6e8b1d"
      },
      "source": [
        "!python ex3_3.py"
      ],
      "execution_count": null,
      "outputs": [
        {
          "output_type": "stream",
          "text": [
            "10\n",
            "3\n",
            "4\n",
            "1 2 5 9\n",
            "-1\n"
          ],
          "name": "stdout"
        }
      ]
    },
    {
      "cell_type": "code",
      "metadata": {
        "colab": {
          "base_uri": "https://localhost:8080/"
        },
        "id": "JGxwgGNIn9oX",
        "outputId": "9d2e0e8c-5e28-4e33-e4d2-3e21330d58e0"
      },
      "source": [
        "!python ex3_3.py"
      ],
      "execution_count": null,
      "outputs": [
        {
          "output_type": "stream",
          "text": [
            "200\n",
            "250\n",
            "2\n",
            "100\n",
            "0\n"
          ],
          "name": "stdout"
        }
      ]
    },
    {
      "cell_type": "markdown",
      "metadata": {
        "id": "Y8V2VobDkj2C"
      },
      "source": [
        "##3-4: Maximum Advertisement Revenue"
      ]
    },
    {
      "cell_type": "code",
      "metadata": {
        "colab": {
          "base_uri": "https://localhost:8080/"
        },
        "id": "Z7tUDzQ4kpTa",
        "outputId": "341a7b8d-a24e-4a63-b2c9-4d852b19f689"
      },
      "source": [
        "%%writefile ex3_4.py\n",
        "\n",
        "n = int(input())\n",
        "a = list(map(int, input().split()))\n",
        "b = list(map(int, input().split()))\n",
        "\n",
        "b.sort()\n",
        "a.sort()\n",
        "\n",
        "result = sum([a[i]*b[i] for i in range(n)])\n",
        "\n",
        "print(result)"
      ],
      "execution_count": null,
      "outputs": [
        {
          "output_type": "stream",
          "text": [
            "Writing ex3_4.py\n"
          ],
          "name": "stdout"
        }
      ]
    },
    {
      "cell_type": "code",
      "metadata": {
        "colab": {
          "base_uri": "https://localhost:8080/"
        },
        "id": "hmbq8z92lOAM",
        "outputId": "a3ce096c-3d73-4ca1-a57d-066ff5a85290"
      },
      "source": [
        "!python ex3_4.py"
      ],
      "execution_count": null,
      "outputs": [
        {
          "output_type": "stream",
          "text": [
            "1\n",
            "23\n",
            "39\n",
            "897\n"
          ],
          "name": "stdout"
        }
      ]
    },
    {
      "cell_type": "code",
      "metadata": {
        "colab": {
          "base_uri": "https://localhost:8080/"
        },
        "id": "eQ1I5KuLlOQS",
        "outputId": "68061e40-0954-4221-d365-865c726b28dd"
      },
      "source": [
        "!python ex3_4.py"
      ],
      "execution_count": null,
      "outputs": [
        {
          "output_type": "stream",
          "text": [
            "3\n",
            "1 3 -5\n",
            "-2 4 1\n",
            "23\n"
          ],
          "name": "stdout"
        }
      ]
    },
    {
      "cell_type": "markdown",
      "metadata": {
        "id": "MA7vaWS4kpiM"
      },
      "source": [
        "##3-5: Collecting Signatures"
      ]
    },
    {
      "cell_type": "code",
      "metadata": {
        "colab": {
          "base_uri": "https://localhost:8080/"
        },
        "id": "XDgqETCmksDC",
        "outputId": "1d259e5a-e8ce-40a6-afdb-32432938961c"
      },
      "source": [
        "%%writefile ex3_5.py\n",
        "\n",
        "n = int(input())\n",
        "\n",
        "l = []\n",
        "\n",
        "for e in range(n):\n",
        "    a, b = list(map(int, input().split()))\n",
        "    l.append((a,b))\n",
        "\n",
        "l.sort(key = lambda x: x[1])\n",
        "\n",
        "i = 0\n",
        "coord = []\n",
        "\n",
        "while i < n:\n",
        "    c = l[i]\n",
        "    while i < n-1 and c[1]>=l[i+1][0]:\n",
        "        i += 1\n",
        "\n",
        "    coord.append(c[1])\n",
        "    i += 1\n",
        "\n",
        "print(len(coord))\n",
        "\n",
        "print(' '.join([str(i) for i in coord]))"
      ],
      "execution_count": null,
      "outputs": [
        {
          "output_type": "stream",
          "text": [
            "Writing ex3_5.py\n"
          ],
          "name": "stdout"
        }
      ]
    },
    {
      "cell_type": "code",
      "metadata": {
        "colab": {
          "base_uri": "https://localhost:8080/"
        },
        "id": "eUi1wuetlVgr",
        "outputId": "b4fad5dc-87f7-4477-fe3e-9c772f76d85b"
      },
      "source": [
        "!python ex3_5.py"
      ],
      "execution_count": null,
      "outputs": [
        {
          "output_type": "stream",
          "text": [
            "3\n",
            "1 3\n",
            "2 5\n",
            "3 6\n",
            "1\n",
            "3\n"
          ],
          "name": "stdout"
        }
      ]
    },
    {
      "cell_type": "code",
      "metadata": {
        "colab": {
          "base_uri": "https://localhost:8080/"
        },
        "id": "QSmfxYFtlVuk",
        "outputId": "9d926306-9354-470e-ad98-bde5921e3bcf"
      },
      "source": [
        "!python ex3_5.py"
      ],
      "execution_count": null,
      "outputs": [
        {
          "output_type": "stream",
          "text": [
            "4\n",
            "4 7\n",
            "1 3\n",
            "2 5\n",
            "5 6\n",
            "2\n",
            "3 6\n"
          ],
          "name": "stdout"
        }
      ]
    },
    {
      "cell_type": "markdown",
      "metadata": {
        "id": "XQkPS90NkrRK"
      },
      "source": [
        "##3-6: Maximum Number of Prizes"
      ]
    },
    {
      "cell_type": "code",
      "metadata": {
        "colab": {
          "base_uri": "https://localhost:8080/"
        },
        "id": "FbcSzSXlku9K",
        "outputId": "3cd26457-7c3d-403a-fa5f-39b1ca439e38"
      },
      "source": [
        "%%writefile ex3_6.py\n",
        "\n",
        "n = int(input())\n",
        "\n",
        "W = n\n",
        "p = []\n",
        "\n",
        "if n == 1:\n",
        "    print(1)\n",
        "    print(1)\n",
        "    quit()\n",
        "\n",
        "for i in range(1, n):\n",
        "    if W>2*i:\n",
        "        p.append(i)\n",
        "        W = W - i\n",
        "    else:\n",
        "        p.append(W)\n",
        "        break\n",
        "\n",
        "print(len(p))\n",
        "print(' '.join([str(i) for i in p]))"
      ],
      "execution_count": null,
      "outputs": [
        {
          "output_type": "stream",
          "text": [
            "Writing ex3_6.py\n"
          ],
          "name": "stdout"
        }
      ]
    },
    {
      "cell_type": "code",
      "metadata": {
        "colab": {
          "base_uri": "https://localhost:8080/"
        },
        "id": "HQDU9RJnlZqa",
        "outputId": "26eb2cc8-646d-4a2c-8ab5-a1483b08838c"
      },
      "source": [
        "!python ex3_6.py"
      ],
      "execution_count": null,
      "outputs": [
        {
          "output_type": "stream",
          "text": [
            "6\n",
            "3\n",
            "1 2 3\n"
          ],
          "name": "stdout"
        }
      ]
    },
    {
      "cell_type": "code",
      "metadata": {
        "colab": {
          "base_uri": "https://localhost:8080/"
        },
        "id": "AAK2Dn-qlZ2i",
        "outputId": "c55e9a9e-5127-40a4-becf-5b4c3a28b50d"
      },
      "source": [
        "!python ex3_6.py"
      ],
      "execution_count": null,
      "outputs": [
        {
          "output_type": "stream",
          "text": [
            "8\n",
            "3\n",
            "1 2 5\n"
          ],
          "name": "stdout"
        }
      ]
    },
    {
      "cell_type": "code",
      "metadata": {
        "colab": {
          "base_uri": "https://localhost:8080/"
        },
        "id": "Mm1LsDMylaDa",
        "outputId": "bf5ad195-5c64-4e37-8db5-a319cb807856"
      },
      "source": [
        "!python ex3_6.py"
      ],
      "execution_count": null,
      "outputs": [
        {
          "output_type": "stream",
          "text": [
            "2\n",
            "1\n",
            "2\n"
          ],
          "name": "stdout"
        }
      ]
    },
    {
      "cell_type": "markdown",
      "metadata": {
        "id": "5JtzMmL_kzUD"
      },
      "source": [
        "##3-7: Maximum Salary"
      ]
    },
    {
      "cell_type": "code",
      "metadata": {
        "colab": {
          "base_uri": "https://localhost:8080/"
        },
        "id": "eWDdbXcZkzla",
        "outputId": "2328ab60-22c5-414c-ad03-389d633c0cb7"
      },
      "source": [
        "%%writefile ex3_7.py\n",
        "\n",
        "n = int(input())\n",
        "l = list(map(int, input().split()))\n",
        "\n",
        "res = []\n",
        "\n",
        "while l!=[]:\n",
        "    max_digit = 0\n",
        "    for digit in l:\n",
        "        if int(str(digit)+str(max_digit))>=int(str(max_digit)+str(digit)):\n",
        "            max_digit = digit\n",
        "    res.append(max_digit)\n",
        "    l.remove(max_digit)\n",
        "\n",
        "print(''.join([str(i) for i in res]))"
      ],
      "execution_count": null,
      "outputs": [
        {
          "output_type": "stream",
          "text": [
            "Writing ex3_7.py\n"
          ],
          "name": "stdout"
        }
      ]
    },
    {
      "cell_type": "code",
      "metadata": {
        "colab": {
          "base_uri": "https://localhost:8080/"
        },
        "id": "wr1yEzlGlcJa",
        "outputId": "1435705b-34d6-4584-a916-474556b79872"
      },
      "source": [
        "!python ex3_7.py"
      ],
      "execution_count": null,
      "outputs": [
        {
          "output_type": "stream",
          "text": [
            "2\n",
            "21 2\n",
            "221\n"
          ],
          "name": "stdout"
        }
      ]
    },
    {
      "cell_type": "code",
      "metadata": {
        "colab": {
          "base_uri": "https://localhost:8080/"
        },
        "id": "3w3EBxqalccV",
        "outputId": "e254da29-a18a-40ae-d665-21a3acf709d0"
      },
      "source": [
        "!python ex3_7.py"
      ],
      "execution_count": null,
      "outputs": [
        {
          "output_type": "stream",
          "text": [
            "5\n",
            "9 4 6 1 9\n",
            "99641\n"
          ],
          "name": "stdout"
        }
      ]
    },
    {
      "cell_type": "code",
      "metadata": {
        "colab": {
          "base_uri": "https://localhost:8080/"
        },
        "id": "7N_Gg3iTlcu2",
        "outputId": "5802fb93-2d86-4929-be47-185f89b74f25"
      },
      "source": [
        "!python ex3_7.py"
      ],
      "execution_count": null,
      "outputs": [
        {
          "output_type": "stream",
          "text": [
            "3\n",
            "23 39 92\n",
            "923923\n"
          ],
          "name": "stdout"
        }
      ]
    }
  ]
}