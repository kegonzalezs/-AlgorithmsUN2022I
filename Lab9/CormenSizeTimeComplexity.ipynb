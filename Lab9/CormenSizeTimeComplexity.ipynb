{
  "nbformat": 4,
  "nbformat_minor": 0,
  "metadata": {
    "colab": {
      "name": "CormenSizeTimeComplexity.ipynb",
      "provenance": [],
      "collapsed_sections": []
    },
    "kernelspec": {
      "name": "python3",
      "display_name": "Python 3"
    },
    "language_info": {
      "name": "python"
    }
  },
  "cells": [
    {
      "cell_type": "code",
      "source": [
        ""
      ],
      "metadata": {
        "id": "QBZ8DQOKYYGR"
      },
      "execution_count": null,
      "outputs": []
    },
    {
      "cell_type": "markdown",
      "metadata": {
        "id": "I5UAAxG2_CqQ"
      },
      "source": [
        "# What is the size of the largest problem that you can solve in the time specified in row one if you can execute a million $10^6$ instructions every second.\n",
        "\n",
        "Asuuming that you can execute a million instructions $10^6$ every second, i.e. each instruction takes $1$ microseconds $1\\mu s =10^{-6}$ seconds. If you have algorithms take $\\bf{ Time\\ Complexity}$ steps to solve a problem of size $n$ as specified in column one. What is the size of the largest problem that you can solve in the time specified in row one?\n",
        "$$\n",
        "\\begin{array}{|c|c|c|c|c|c|c|c|} \n",
        " \\hline\n",
        " \\bf{ Time\\ Complexity} & Second  & Minute  & Hour & Day & Year & Century & Mileniun  \\\\ \n",
        "  \\hline\\\\ \n",
        "\\lg(n) &   2^{10^{6} }  &  2^{60 \\times 10^{6} } & 2^{3.6 \\times 10^{9}} &  2^{8.64 \\times 10^{11}}& 2^{3.1536 \\times 10^{14}} & 2^{3.1536 \\times 10^{16}} & 2^{3.1536 \\times 10^{19}} \\\\ \n",
        "   \\hline\\\\ \n",
        "\\lg^2(n) &   2^{1000}  & 2^{7746}  & 2^{60000} & 2^{293939} & 2^{ 5.61569 \\times 10^{6}} & 2^{ 5.61569\\times 10^{7}} &  2^{ 1.77584\\times 10^{9} } \\\\ \n",
        "   \\hline\\\\ \n",
        "\\sqrt{n} &  10^{12}  & 3600 \\times10^{12}  & 1.296 \\times10^{19} & 7.15716 \\times10^{21}& 9.94519296 \\times10^{26} & 9.94519296  \\times10^{30} & 9.94519296 \\times10^{36}\\\\ \n",
        " \\hline\n",
        " n & 10^{6}    & 6 \\times 10^{7}   & 3.6 \\times 10^{9} & 8.64 \\times 10^{10} & 6.41136862 \\times 10^{13} & 3.1536 \\times 10^{15} &  3.1536 \\times 10^{18}\\\\ \n",
        " \\hline\n",
        " n\\lg(n) &  62746  & 2801417  &  133378058  & 2755147513  &  797633893349 & 68610956750570 &  56665093434063120 \\\\ \n",
        " \\hline\n",
        " n^2 &  1000  & 7746  & 60000 & 293939 & 5615692 & 56156923 &  1775837830 \\\\ \n",
        " \\hline\n",
        "  n^3 &  100 &  391 & 1533 &  4421  &  31594 & 146646 & 1466455 \\\\ \n",
        " \\hline\n",
        "  n^4 &  32  &  88  & 245 & 542 & 2370 & 7494  & 42141 \\\\ \n",
        " \\hline\n",
        "  2^n &  19  &  25 & 31 & 36 & 44 & 51 & 61 \\\\ \n",
        " \\hline\n",
        " n! &  9  & 11 &  12 & 13 & 16 & 17  &  20\\\\ \n",
        " \\hline\n",
        " n^n &  7  &  8 & 9 & 10 & 12 & 13 & 15 \\\\ \n",
        " \\hline\n",
        "\\end{array}\n",
        "$$\n",
        "\n",
        "Second  \n",
        "Minute   \n",
        "Hour  \n",
        "Day  \n",
        "Year  \n",
        "Century  \n",
        "Mileniun   \n"
      ]
    },
    {
      "cell_type": "markdown",
      "metadata": {
        "id": "1gugytaatVFg"
      },
      "source": [
        "$\\bf{ Time\\ Complexity\\ \\lg(n) }$\n",
        "\n",
        "$Second$\n",
        "$$ \\lg(n) \\times 10^{-6}\\ s\\le 1\\ s$$ \n",
        "$$ \\lg(n) \\le 1 * 10^{6}$$ \n",
        "$$ 2^{\\lg(n)} \\le 2^{10^{6}}$$ \n",
        "$$ n \\le 2^{10^{6}}$$ \n",
        "\n",
        "$Minute$\n",
        "$$ \\lg(n) \\times 10^{-6} \\ s \\le 60\\ s$$ \n",
        "$$ \\lg(n) \\le 60 \\times 10^{6} $$ \n",
        "$$ 2^{\\lg(n)} \\le 2^{60 \\times 10^{6} }$$ \n",
        "$$ n \\le 2^{60 \\times 10^{6} }$$ \n",
        "\n",
        "$Hour$\n",
        "$$ \\lg(n) \\times 10^{-6} \\ s \\le 3600\\ s$$ \n",
        "$$ \\lg(n) \\le 3600 \\times 10^{6} $$ \n",
        "$$ 2^{\\lg(n)} \\le 2^{3.6 \\times 10^{9}}$$ \n",
        "$$ n \\le 2^{3.6 \\times 10^{9}}$$ \n",
        "\n",
        "$Day$\n",
        "$$ \\lg(n) \\times 10^{-6} \\ s \\le 86400\\ s$$ \n",
        "$$ \\lg(n) \\le 86400\\times 10^{6} $$ \n",
        "$$ 2^{\\lg(n)} \\le 2^{8.64 \\times 10^{10}}$$ \n",
        "$$ n \\le 2^{8.64 \\times 10^{11}}$$ \n",
        "\n",
        "$Year$\n",
        "$$ \\lg(n) \\times 10^{-6} \\ s \\le 31536000\\ s$$ \n",
        "$$ \\lg(n) \\le 31536000\\times 10^{6} $$ \n",
        "$$ 2^{\\lg(n)} \\le 2^{3.1536 \\times 10^{13}}$$ \n",
        "$$ n \\le 2^{3.1536 \\times 10^{14}}$$ \n",
        "\n",
        "$Century$\n",
        "$$ \\lg(n) \\times 10^{-6} \\ s \\le 3153600000\\ s$$ \n",
        "$$ \\lg(n) \\le 3153600000\\times 10^{6} $$ \n",
        "$$ 2^{\\lg(n)} \\le 2^{3.1536 \\times 10^{15}}$$ \n",
        "$$ n \\le 2^{3.1536 \\times 10^{16}}$$ \n",
        "\n",
        "$Mileniun$\n",
        "$$ \\lg(n) \\times 10^{-6} \\ s \\le 3153600000000\\ s$$ \n",
        "$$ \\lg(n) \\le 3153600000000\\times 10^{6} $$ \n",
        "$$ 2^{\\lg(n)} \\le 2^{3.1536 \\times 10^{18}}$$ \n",
        "$$ n \\le 2^{3.1536 \\times 10^{19}}$$ "
      ]
    },
    {
      "cell_type": "markdown",
      "metadata": {
        "id": "fMEAP4c32GBF"
      },
      "source": [
        "$\\bf{ Time\\ Complexity\\ \\lg^2(n) }$\n",
        "\n",
        "$Second$\n",
        "$$ \\lg^2(n) \\times 10^{-6} \\ s\\le 1\\ s$$ \n",
        "$$ \\lg(n) \\le \\sqrt{1 * 10^{6} }$$ \n",
        "$$ 2^{\\lg(n)} \\le 2^{\\sqrt{1 * 10^{6} }}$$ \n",
        "$$ n \\le 2^{1000}$$ \n",
        "\n",
        "$Minute$\n",
        "$$ \\lg^2(n) \\times 10^{-6} \\ s \\le 60\\ s$$ \n",
        "$$ \\lg(n) \\le \\sqrt{60 \\times 10^{6} }$$ \n",
        "$$ 2^{\\lg(n)} \\le 2^{\\sqrt{60 \\times 10^{6} }}$$ \n",
        "$$ n \\le 2^{ 7746}$$ \n",
        "\n",
        "$Hour$\n",
        "$$ \\lg^2(n) \\times 10^{-6} \\ s \\le 3600\\ s$$ \n",
        "$$ \\lg(n) \\le \\sqrt{3600 \\times 10^{6} }$$ \n",
        "$$ 2^{\\lg(n)} \\le 2^{\\sqrt{3.6 \\times 10^{9}}}$$ \n",
        "$$ n \\le  2^{ 60000 }$$ \n",
        "\n",
        "$Day$\n",
        "$$ \\lg^2(n) \\times 10^{-6} \\ s \\le 86400\\ s$$ \n",
        "$$ \\lg(n) \\le \\sqrt{86400\\times 10^{6} }$$ \n",
        "$$ 2^{\\lg(n)} \\le 2^{\\sqrt{8.6400\\times 10^{10}}}$$ \n",
        "$$ n \\le 2^{ 293939 }$$ \n",
        "\n",
        "$Year$\n",
        "$$ \\lg^2(n) \\times 10^{-6} \\ s \\le 31536000\\ s$$ \n",
        "$$ \\lg(n) \\le \\sqrt{31536000\\times 10^{6} }$$ \n",
        "$$ 2^{\\lg(n)} \\le 2^{\\sqrt{3.1536\\times 10^{13}}}$$ \n",
        "$$ n \\le 2^{ 5.61569 \\times 10^{6}}$$ \n",
        "\n",
        "$Century$\n",
        "$$ \\lg^2(n) \\times 10^{-6} \\ s \\le 3153600000\\ s$$ \n",
        "$$ \\lg(n) \\le \\sqrt{3153600000\\times 10^{6} }$$ \n",
        "$$ 2^{\\lg(n)} \\le 2^{\\sqrt{3.1536 \\times 10^{15}}}$$ \n",
        "$$ n \\le 2^{ 5.61569\\times 10^{7}  }$$ \n",
        "\n",
        "$Mileniun$\n",
        "$$ \\lg^2(n) \\times 10^{-6} \\ s \\le 3153600000000\\ s$$ \n",
        "$$ \\lg(n) \\le \\sqrt{3153600000000\\times 10^{6} }$$ \n",
        "$$ 2^{\\lg(n)} \\le 2^{\\sqrt{3.1536 \\times 10^{18}}}$$ \n",
        "$$ n \\le 2^{ 1.77584\\times 10^{9} }$$ "
      ]
    },
    {
      "cell_type": "code",
      "metadata": {
        "colab": {
          "base_uri": "https://localhost:8080/"
        },
        "id": "4vPVLlpv2gyT",
        "outputId": "ea4bde1e-d00a-4023-c947-7afe842b06fb"
      },
      "source": [
        "import math\n",
        "print(\"Second 2^{\",round(math.sqrt(10**6)),\"}\")\n",
        "print(\"Minute 2^{\",round(math.sqrt(60*10**6)),\"}\")\n",
        "print(\"Hour 2^{\",round(math.sqrt(60*60*10**6)),\"}\")\n",
        "print(\"Day 2^{\",round(math.sqrt(24*60*60*10**6)),\"}\")\n",
        "print(\"Year 2^{\",round(math.sqrt(365*24*60*60*10**6)),\"}\")\n",
        "print(\"Century 2^{\",round(math.sqrt(100*365*24*60*60*10**6)),\"}\")\n",
        "print(\"Mileniun 2^{\",round(math.sqrt(1000*100*365*24*60*60*10**6)),\"}\")\n"
      ],
      "execution_count": 1,
      "outputs": [
        {
          "output_type": "stream",
          "name": "stdout",
          "text": [
            "Second 2^{ 1000 }\n",
            "Minute 2^{ 7746 }\n",
            "Hour 2^{ 60000 }\n",
            "Day 2^{ 293939 }\n",
            "Year 2^{ 5615692 }\n",
            "Century 2^{ 56156923 }\n",
            "Mileniun 2^{ 1775837830 }\n"
          ]
        }
      ]
    },
    {
      "cell_type": "markdown",
      "metadata": {
        "id": "WZa229V56UcN"
      },
      "source": [
        "$\\bf{ Time\\ Complexity\\ \\sqrt{n} }$\n",
        "\n",
        "$Second$\n",
        "$$  \\sqrt{n}  \\times 10^{-6} \\ s\\le 1\\ s$$ \n",
        "$$  \\sqrt{n}  \\le 10^{6}  $$\n",
        "$$  n \\le   10^{12}$$ \n",
        "\n",
        "$Minute$\n",
        "$$  \\sqrt{n} \\times 10^{-6} \\ s\\le 60\\ s$$ \n",
        "$$  \\sqrt{n}  \\le 60 \\times 10^{6} $$ \n",
        "$$  n \\le 3600 \\times10^{12}$$ \n",
        "\n",
        "$Hour$\n",
        "$$  \\sqrt{n}\\times 10^{-6} \\ s\\le 3600\\ s$$ \n",
        "$$  \\sqrt{n} \\le 3600 \\times 10^{6}$$ \n",
        "$$  n  \\le 1.296 \\times10^{19}$$ \n",
        "\n",
        "$Day$\n",
        "$$  \\sqrt{n} \\times 10^{-6} \\ s\\le 84600\\ s$$ \n",
        "$$  \\sqrt{n}\\le 84600 \\times 10^{6} $$ \n",
        "$$  n \\le 7.15716 \\times10^{21}$$ \n",
        "\n",
        "$Year$\n",
        "$$  \\sqrt{n} \\times 10^{-6} \\ s\\le 31536000\\ s$$ \n",
        "$$  \\sqrt{n} \\le 31536000 \\times 10^{6} $$ \n",
        "$$  n \\le 9.94519296 \\times10^{26}$$ \n",
        "\n",
        "$Century$\n",
        "$$  \\sqrt{n} \\times 10^{-7} \\ s\\le 3153600000\\ s$$ \n",
        "$$  \\sqrt{n} \\le 3153600000 \\times 10^{6} $$ \n",
        "$$  n \\le 9.94519296  \\times10^{30}$$ \n",
        "\n",
        "$Mileniun$\n",
        "$$  \\sqrt{n} \\times 10^{-6} \\ s\\le 3153600000000\\ s$$ \n",
        "$$  \\sqrt{n} \\le 3153600000000 \\times 10^{6} $$ \n",
        "$$  n \\le 9.94519296 \\times10^{36}$$ \n",
        "\n"
      ]
    },
    {
      "cell_type": "code",
      "metadata": {
        "colab": {
          "base_uri": "https://localhost:8080/"
        },
        "id": "C0Zo-idx-iVH",
        "outputId": "d081454f-8c4c-4cb1-9219-424384cc6eea"
      },
      "source": [
        "import math\n",
        "print(\"Second \", \"{:.8E}\".format(math.pow(10**6,2)))\n",
        "print(\"Minute  \",\"{:.8E}\".format(math.pow(60*10**6,2)))\n",
        "print(\"Hour \",\"{:.8E}\".format(math.pow(60*60*10**6,2)))\n",
        "print(\"Day \",\"{:.8E}\".format(math.pow(24*60*60*10**6,2)))\n",
        "print(\"Year \",\"{:.8E}\".format(math.pow(365*24*60*60*10**6,2)))\n",
        "print(\"Century \",\"{:.8E}\".format(math.pow(100*365*24*60*60*10**6,2)))\n",
        "print(\"Mileniun  \",\"{:.8E}\".format(math.pow(1000*100*365*24*60*60*10**6,2)))"
      ],
      "execution_count": 2,
      "outputs": [
        {
          "output_type": "stream",
          "name": "stdout",
          "text": [
            "Second  1.00000000E+12\n",
            "Minute   3.60000000E+15\n",
            "Hour  1.29600000E+19\n",
            "Day  7.46496000E+21\n",
            "Year  9.94519296E+26\n",
            "Century  9.94519296E+30\n",
            "Mileniun   9.94519296E+36\n"
          ]
        }
      ]
    },
    {
      "cell_type": "markdown",
      "metadata": {
        "id": "Jg7RtE2sDMWt"
      },
      "source": [
        "$\\bf{ Time\\ Complexity\\ n }$\n",
        "\n",
        "$Second$\n",
        "$$  n  \\times 10^{-6} \\ s\\le 1\\ s$$ \n",
        "$$  n \\le  10^{6} $$ \n",
        "\n",
        "\n",
        "$Minute$\n",
        "$$  n \\times 10^{-6} \\ s\\le 60\\ s$$ \n",
        "$$  n \\le 60 \\times 10^{6} $$ \n",
        "\n",
        "\n",
        "$Hour$\n",
        "$$  n \\times 10^{-6} \\ s\\le 3600\\ s$$ \n",
        "$$  n \\le 3600 \\times 10^{6}  = 3.6 \\times 10^{9}$$ \n",
        "\n",
        "\n",
        "$Day$\n",
        "$$  n \\times 10^{-6} \\ s\\le 84600\\ s$$ \n",
        "$$  n \\le 84600 \\times 10^{6}  = 8.46 \\times 10^{10}$$ \n",
        "\n",
        "\n",
        "$Year$\n",
        "$$  n \\times 10^{-6} \\ s\\le 31536000\\ s$$ \n",
        "$$  n \\le 31536000 \\times 10^{6}   = 3.153 \\times 10^{13}$$ \n",
        "\n",
        "\n",
        "\n",
        "$Century$\n",
        "$$  n \\times 10^{-6} \\ s\\le 3153600000\\ s$$ \n",
        "$$  n \\le 3153600000 \\times 10^{6}  = 3.153 \\times 10^{15}$$ \n",
        " \n",
        "\n",
        "$Mileniun$\n",
        "$$  n \\times 10^{-6} \\ s\\le 3153600000000\\ s$$ \n",
        "$$  n \\le 3153600000000 \\times 10^{6}  = 3.153 \\times 10^{18}$$ "
      ]
    },
    {
      "cell_type": "code",
      "source": [
        "import math\n",
        "print(\"Second \", \"{:.8E}\".format(10**6))\n",
        "print(\"Minute  \",\"{:.8E}\".format(60*10**6))\n",
        "print(\"Hour \",\"{:.8E}\".format(60*60*10**6))\n",
        "print(\"Day \",\"{:.8E}\".format(24*60*60*10**6))\n",
        "print(\"Year \",\"{:.8E}\".format(365*24*60*60*10**6))\n",
        "print(\"Century \",\"{:.8E}\".format(100*365*24*60*60*10**6))\n",
        "print(\"Mileniun  \",\"{:.8E}\".format(1000*100*365*24*60*60*10**6))"
      ],
      "metadata": {
        "colab": {
          "base_uri": "https://localhost:8080/"
        },
        "id": "fy_lmdMfw8F0",
        "outputId": "7deea339-fbc3-46ba-beb3-1377f5807ce7"
      },
      "execution_count": null,
      "outputs": [
        {
          "output_type": "stream",
          "name": "stdout",
          "text": [
            "Second  1.00000000E+06\n",
            "Minute   6.00000000E+07\n",
            "Hour  3.60000000E+09\n",
            "Day  8.64000000E+10\n",
            "Year  3.15360000E+13\n",
            "Century  3.15360000E+15\n",
            "Mileniun   3.15360000E+18\n"
          ]
        }
      ]
    },
    {
      "cell_type": "markdown",
      "metadata": {
        "id": "vd6mlBsIDe9j"
      },
      "source": [
        "$\\bf{ Time\\ Complexity\\ n\\lg{n} }$\n",
        "\n",
        "$Second$\n",
        "$$   n\\lg{n}  \\times 10^{-6} \\ s\\le 1\\ s$$ \n",
        "$$   n\\lg{n} \\le  6.27460000E+04 $$ \n",
        "\n",
        "\n",
        "$Minute$\n",
        "$$   n\\lg{n} \\times 10^{-6} \\ s\\le 60\\ s$$ \n",
        "$$   n\\lg{n} \\le 2.80141700E+06 $$ \n",
        "\n",
        "\n",
        "$Hour$\n",
        "$$   n\\lg{n} \\times 10^{-6} \\ s\\le 3600\\ s$$ \n",
        "$$   n\\lg{n} \\le 1.33378058E+08 $$ \n",
        "\n",
        "\n",
        "$Day$\n",
        "$$   n\\lg{n} \\times 10^{-6} \\ s\\le 84600\\ s$$ \n",
        "$$   n\\lg{n} \\le 2.75514751E+09$$ \n",
        "\n",
        "\n",
        "$Year$\n",
        "$$   n\\lg{n} \\times 10^{-6} \\ s\\le 31536000\\ s$$ \n",
        "$$   n\\lg{n} \\le 7.97633893E+11 $$ \n",
        "\n",
        "\n",
        "\n",
        "$Century$\n",
        "$$   n\\lg{n} \\times 10^{-7} \\ s\\le 3153600000\\ s$$ \n",
        "$$   n\\lg{n} \\le 6.86109568E+13 $$ \n",
        " \n",
        "\n",
        "$Mileniun$\n",
        "$$   n\\lg{n} \\times 10^{-6} \\ s\\le 3153600000000\\ s$$ \n",
        "$$  n \\le 5.66650934E+16 $$ "
      ]
    },
    {
      "cell_type": "code",
      "metadata": {
        "colab": {
          "base_uri": "https://localhost:8080/"
        },
        "id": "6prelV3_Ja9T",
        "outputId": "5b669731-0710-4ea2-b959-95b3c099b87f"
      },
      "source": [
        "import math\n",
        "def f(n):\n",
        "  return n*math.log2(n)\n",
        "\n",
        "\n",
        "def find(f,v):\n",
        "  l = 1\n",
        "  r = v\n",
        "  while True:\n",
        "    m = int((l+r)/2)\n",
        "    if ((f(m+1) > v) and (f(m) <= v) ) or (l == m) or  (r == m):\n",
        "      return int(m)   \n",
        "    elif f(m) < v:\n",
        "      l = m\n",
        "    else: \n",
        "      r = m\n",
        "\n",
        "print(\"Second \", find(f,10**6),\" = \", \"{:.8E}\".format(find(f,10**6 )))\n",
        "print(\"Minute  \",find(f,60*10**6),\" = \", \"{:.8E}\".format(find(f,60*10**6 )))\n",
        "print(\"Hour \",find(f,60*60*10**6),\" = \", \"{:.8E}\".format(find(f,60*60*10**6 )))\n",
        "print(\"Day \",find(f,24*60*60*10**6 ),\" = \", \"{:.8E}\".format(find(f,24*60*60*10**6 )) )\n",
        "print(\"Year \",find(f,365*24*60*60*10**6 ),\" = \", \"{:.8E}\".format(find(f,365*24*60*60*10**6 )) )\n",
        "print(\"Century \",find(f,100*365*24*60*60*10**6 ),\" = \", \"{:.8E}\".format(find(f,100*365*24*60*60*10**6 )) )\n",
        "print(\"Mileniun \",find(f,1000*100*365*24*60*60*10**6 ),\" = \", \"{:.8E}\".format(find(f,1000*100*365*24*60*60*10**6 )) )"
      ],
      "execution_count": 3,
      "outputs": [
        {
          "output_type": "stream",
          "name": "stdout",
          "text": [
            "Second  62746  =  6.27460000E+04\n",
            "Minute   2801417  =  2.80141700E+06\n",
            "Hour  133378058  =  1.33378058E+08\n",
            "Day  2755147513  =  2.75514751E+09\n",
            "Year  797633893349  =  7.97633893E+11\n",
            "Century  68610956750570  =  6.86109568E+13\n",
            "Mileniun  56665093434063120  =  5.66650934E+16\n"
          ]
        }
      ]
    },
    {
      "cell_type": "markdown",
      "metadata": {
        "id": "odG6_KiOBEK4"
      },
      "source": [
        "$\\bf{ Time\\ Complexity\\ n^2}$\n",
        "\n",
        "$Second$\n",
        "$$  n^2 \\times 10^{-6} \\ s\\le 1\\ s$$ \n",
        "$$  n^2 \\le  10^{6} $$ \n",
        "$$ \\sqrt{n^2} \\le \\sqrt{10^{6} }$$ \n",
        "$$ n \\le 1000 $$ \n",
        "\n",
        "$Minute$\n",
        "$$  n^2\\times 10^{-6} \\ s\\le 60\\ s$$ \n",
        "$$  n^2 \\le 60 \\times 10^{6} $$ \n",
        "$$ \\sqrt{n^2} \\le \\sqrt{60 \\times10^{6} }$$ \n",
        "$$ n \\le  7746 $$\n",
        "  \n",
        "$Hour$\n",
        "$$  n^2 \\times 10^{-6} \\ s\\le 3600\\ s$$ \n",
        "$$ n^2 \\le 3600 \\times 10^{6} $$ \n",
        "$$ \\sqrt{n^2} \\le \\sqrt{3.6 \\times10^{9}}$$ \n",
        "$$ n \\le 60000$$\n",
        "\n",
        "$Day$\n",
        "$$  n^2 \\times 10^{-6} \\ s\\le 84600\\ s$$ \n",
        "$$  n^2 \\le 84600 \\times 10^{6} $$ \n",
        "$$ \\sqrt{n^2} \\le \\sqrt{8.46 \\times10^{10}}$$ \n",
        "$$ n \\le 293939 $$\n",
        "\n",
        "$Year$\n",
        "$$  n^2 \\times 10^{-6} \\ s\\le 31536000\\ s$$ \n",
        "$$  n^2 \\le 31536000 \\times 10^{6} $$ \n",
        "$$ \\sqrt{n^2} \\le \\sqrt{3.1536 \\times10^{13}}$$ \n",
        "$$ n \\le 5615692 $$ \n",
        "\n",
        "$Century$\n",
        "$$  n^2 \\times 10^{-6} \\ s\\le 3153600000\\ s$$ \n",
        "$$  n^2 \\le 3153600000 \\times 10^{6} $$ \n",
        "$$ \\sqrt{n^2} \\le \\sqrt{3.1536 \\times10^{15}}$$ \n",
        "$$ n \\le  56156923 $$ \n",
        "\n",
        "$Mileniun$\n",
        "$$  n^2 \\times 10^{-6} \\ s\\le 3153600000000\\ s$$ \n",
        "$$ n^2 \\le 3153600000000 \\times 10^{6} $$ \n",
        "$$ \\sqrt{n^2} \\le \\sqrt{3.1536 \\times10^{18}}$$ \n",
        "$$ n \\le 1775837830 $$  \n"
      ]
    },
    {
      "cell_type": "code",
      "metadata": {
        "colab": {
          "base_uri": "https://localhost:8080/"
        },
        "id": "szukBFthF1_s",
        "outputId": "1bc2857e-e79a-47bd-bc90-3cd633c0eb29"
      },
      "source": [
        "import math\n",
        "print(\"Second \",round(math.sqrt(10**6 )))\n",
        "print(\"Minute  \",round(math.sqrt(60*10**6 )))\n",
        "print(\"Hour \",round(math.sqrt(60*60*10**6 )))\n",
        "print(\"Day \",round(math.sqrt(24*60*60*10**6 )))\n",
        "print(\"Year \",round(math.sqrt(365*24*60*60*10**6 )))\n",
        "print(\"Century \",round(math.sqrt(100*365*24*60*60*10**6 )))\n",
        "print(\"Mileniun \",round(math.sqrt(1000*100*365*24*60*60*10**6 )))"
      ],
      "execution_count": null,
      "outputs": [
        {
          "output_type": "stream",
          "name": "stdout",
          "text": [
            "Second  1000\n",
            "Minute   7746\n",
            "Hour  60000\n",
            "Day  293939\n",
            "Year  5615692\n",
            "Century  56156923\n",
            "Mileniun  1775837830\n"
          ]
        }
      ]
    },
    {
      "cell_type": "markdown",
      "metadata": {
        "id": "kNrJud31v-8n"
      },
      "source": [
        "$\\bf{ Time\\ Complexity\\ n^3 }$\n",
        "\n",
        "$Second$\n",
        "$$  n^3 \\times 10^{-6} \\ s\\le 1\\ s$$ \n",
        "$$  n^3 \\le  10^{6} $$ \n",
        "$$ \\sqrt[4]{n^3} \\le \\sqrt[3]{10^{6} }$$ \n",
        "$$ n \\le  100 $$ \n",
        "\n",
        "$Minute$\n",
        "$$  n^3 \\times 10^{-6} \\ s\\le 60\\ s$$ \n",
        "$$  n^3 \\le 60 \\times 10^{6} $$ \n",
        "$$ \\sqrt[3]{n^3} \\le \\sqrt[3]{60 \\times10^{6} }$$ \n",
        "$$ n \\le  391 $$\n",
        "  \n",
        "$Hour$\n",
        "$$  n^3 \\times 10^{-6} \\ s\\le 3600\\ s$$ \n",
        "$$  n^3 \\le 3600 \\times 10^{6} $$ \n",
        "$$ \\sqrt[3]{n^3 } \\le \\sqrt[3]{3.6 \\times10^{9}}$$ \n",
        "$$ n \\le 1533 $$\n",
        "\n",
        "$Day$\n",
        "$$  n^3 \\times 10^{-6} \\ s\\le 84600\\ s$$ \n",
        "$$  n^3 \\le 84600 \\times 10^{6} $$ \n",
        "$$ \\sqrt[3]{n^3} \\le \\sqrt[3]{8.46 \\times10^{10}}$$ \n",
        "$$ n \\le 4421 $$\n",
        "\n",
        "$Year$\n",
        "$$  n^3 \\times 10^{-6} \\ s\\le 31536000\\ s$$ \n",
        "$$  n^3 \\le 31536000 \\times 10^{6} $$ \n",
        "$$ \\sqrt[3]{n^3} \\le \\sqrt[3]{3.1536 \\times10^{13}}$$ \n",
        "$$ n \\le 31594 $$ \n",
        "\n",
        "$Century$\n",
        "$$  n^3 \\times 10^{-6} \\ s\\le 3153600000\\ s$$ \n",
        "$$  n^3 \\le 3153600000 \\times 10^{6} $$ \n",
        "$$ \\sqrt[3]{n^3} \\le \\sqrt[3]{3.1536 \\times10^{15}}$$ \n",
        "$$ n \\le 146646 $$ \n",
        "\n",
        "$Mileniun$\n",
        "$$  n^3 \\times 10^{-6} \\ s\\le 3153600000000\\ s$$ \n",
        "$$  n^3 \\le 3153600000000 \\times 10^{6} $$ \n",
        "$$ \\sqrt[3]{n^3} \\le \\sqrt[3]{3.1536 \\times10^{18}}$$ \n",
        "$$ n \\le 1466455 $$ "
      ]
    },
    {
      "cell_type": "code",
      "metadata": {
        "colab": {
          "base_uri": "https://localhost:8080/"
        },
        "id": "PHR4cprXwk8a",
        "outputId": "cad521dc-2ccd-4483-a8a5-4657e68178c4"
      },
      "source": [
        "import math\n",
        "print(\"Second \",round(math.pow(10**6 ,1/3)))\n",
        "print(\"Minute  \",round(math.pow(60*10**6 ,1/3)))\n",
        "print(\"Hour \",round(math.pow(60*60*10**6 ,1/3)))\n",
        "print(\"Day \",round(math.pow(24*60*60*10**6 ,1/3)))\n",
        "print(\"Year \",round(math.pow(365*24*60*60*10**6 ,1/3)))\n",
        "print(\"Century \",round(math.pow(100*365*24*60*60*10**6 ,1/3)))\n",
        "print(\"Mileniun \",round(math.pow(1000*100*365*24*60*60*10**6 ,1/3)))\n",
        "\n"
      ],
      "execution_count": null,
      "outputs": [
        {
          "output_type": "stream",
          "name": "stdout",
          "text": [
            "Second  100\n",
            "Minute   391\n",
            "Hour  1533\n",
            "Day  4421\n",
            "Year  31594\n",
            "Century  146646\n",
            "Mileniun  1466455\n"
          ]
        }
      ]
    },
    {
      "cell_type": "markdown",
      "metadata": {
        "id": "XCxRnrFBzwRG"
      },
      "source": [
        "$\\bf{ Time\\ Complexity\\ n^4 }$\n",
        "\n",
        "$Second$\n",
        "$$  n^4 \\times 10^{-6} \\ s\\le 1\\ s$$ \n",
        "$$  n^4\\le  10^{6} $$ \n",
        "$$ \\sqrt[4]{n^4 } \\le \\sqrt[4]{10^{6} }$$ \n",
        "$$ n \\le   32 $$ \n",
        "\n",
        "$Minute$\n",
        "$$  n^4 \\times 10^{-6} \\ s\\le 60\\ s$$ \n",
        "$$  n^4 \\le 60 \\times 10^{6} $$ \n",
        "$$ \\sqrt[4]{n^4 } \\le \\sqrt[4]{60 \\times10^{6} }$$ \n",
        "$$ n \\le 88 $$\n",
        "  \n",
        "$Hour$\n",
        "$$  n^4 \\times 10^{-6} \\ s\\le 3600\\ s$$ \n",
        "$$  n^4 \\le 3600 \\times 10^{6} $$ \n",
        "$$ \\sqrt[4]{n^4} \\le \\sqrt[4]{3.6 \\times10^{8}}$$ \n",
        "$$ n \\le 245 $$  \n",
        "\n",
        "$Day$\n",
        "$$  n^4 \\times 10^{-7} \\ s\\le 84600\\ s$$ \n",
        "$$  n^4 \\le 84600 \\times 10^{7} $$ \n",
        "$$ \\sqrt[4]{n^4} \\le \\sqrt[4]{8.46 \\times10^{9}}$$ \n",
        "$$ n \\le 542 $$\n",
        "\n",
        "$Year$\n",
        "$$  n^4 \\times 10^{-7} \\ s\\le 31536000\\ s$$ \n",
        "$$  n^4 \\le 31536000 \\times 10^{7} $$ \n",
        "$$ \\sqrt[4]{n^4} \\le \\sqrt[4]{3.1536 \\times10^{12}}$$ \n",
        "$$ n \\le 2370 $$ \n",
        "\n",
        "$Century$\n",
        "$$  n^4 \\times 10^{-7} \\ s\\le 3153600000\\ s$$ \n",
        "$$  n^4 \\le 3153600000 \\times 10^{7} $$ \n",
        "$$ \\sqrt[4]{n^4} \\le \\sqrt[4]{3.1536 \\times10^{14}}$$ \n",
        "$$ n \\le 7494 $$ \n",
        "\n",
        "$Mileniun$\n",
        "$$  n^4 \\times 10^{-7} \\ s\\le 3153600000000\\ s$$ \n",
        "$$  n^4 \\le 3153600000000 \\times 10^{7} $$ \n",
        "$$ \\sqrt[4]{n^4} \\le \\sqrt[4]{3.1536 \\times10^{17}}$$ \n",
        "$$ n \\le 42141 $$ \n",
        "\n",
        "  "
      ]
    },
    {
      "cell_type": "code",
      "metadata": {
        "colab": {
          "base_uri": "https://localhost:8080/"
        },
        "id": "Plb9iigt0NOd",
        "outputId": "dce16f2b-6628-4687-d2f9-f84797a8cf13"
      },
      "source": [
        "import math\n",
        "print(\"Second \",round(math.pow(10**6 ,1/4)))\n",
        "print(\"Minute  \",round(math.pow(60*10**6 ,1/4)))\n",
        "print(\"Hour \",round(math.pow(60*60*10**6 ,1/4)))\n",
        "print(\"Day \",round(math.pow(24*60*60*10**6 ,1/4)))\n",
        "print(\"Year \",round(math.pow(365*24*60*60*10**6 ,1/4)))\n",
        "print(\"Century \",round(math.pow(100*365*24*60*60*10**6 ,1/4)))\n",
        "print(\"Mileniun \",round(math.pow(1000*100*365*24*60*60*10**6 ,1/4)))"
      ],
      "execution_count": null,
      "outputs": [
        {
          "output_type": "stream",
          "name": "stdout",
          "text": [
            "Second  32\n",
            "Minute   88\n",
            "Hour  245\n",
            "Day  542\n",
            "Year  2370\n",
            "Century  7494\n",
            "Mileniun  42141\n"
          ]
        }
      ]
    },
    {
      "cell_type": "markdown",
      "metadata": {
        "id": "CVU0Rf80UWZY"
      },
      "source": [
        "$\\bf{ Time\\ Complexity\\ 2^n }$\n",
        "\n",
        "$Second$\n",
        "$$  2^n  \\times 10^{-6} \\ s\\le 1\\ s$$ \n",
        "$$  2^n \\le  10^{6} $$ \n",
        "$$  \\lg(2^n) \\le  \\lg(10^{6} )$$ \n",
        "$$  n \\le  \\lg(10^{6} ) = 19 $$\n",
        "\n",
        "$Minute$\n",
        "$$  2^n  \\times 10^{-6} s \\le 60\\ s$$ \n",
        "$$  2^n \\le   60 \\times  10^{6} $$ \n",
        "$$  \\lg(2^n) \\le  \\lg(60 \\times  10^{6} )$$ \n",
        "$$  n \\le  \\lg(10^{60 \\times  10^{6} }) = 25 $$\n",
        "\n",
        "\n",
        "$Hour$\n",
        "$$  2^n  \\times 10^{-6} s \\le 3600\\ s$$ \n",
        "$$  2^n \\le   3600 \\times  10^{6} $$ \n",
        "$$  \\lg(2^n) \\le  \\lg(3.6 \\times  10^{8})$$ \n",
        "$$  n \\le  \\lg(10^{3.6 \\times  10^{8}}) = 31 $$\n",
        "\n",
        "$Day$\n",
        "$$  2^n  \\times 10^{-6} s \\le  84600\\ s$$ \n",
        "$$  2^n \\le    84600\\times  10^{6} $$ \n",
        "$$  \\lg(2^n) \\le  \\lg( 8.46 \\times  10^{9})$$ \n",
        "$$  n \\le  \\lg(10^{8.46 \\times  10^{9}}) = 36 $$\n",
        "\n",
        "$Year$\n",
        "$$  2^n  \\times 10^{-6} s \\le  31536000\\ s$$ \n",
        "$$  2^n \\le    31536000\\times  10^{6} $$ \n",
        "$$  \\lg(2^n) \\le  \\lg( 3.1536 \\times  10^{12})$$ \n",
        "$$  n \\le  \\lg(10^{3.1536 \\times  10^{12}}) = 44 $$\n",
        "\n",
        "$Century$\n",
        "$$  2^n  \\times 10^{-6} s \\le  3153600000\\ s$$ \n",
        "$$  2^n \\le    3153600000\\times  10^{6} $$ \n",
        "$$  \\lg(2^n) \\le  \\lg( 3.1536 \\times  10^{14})$$ \n",
        "$$  n \\le  \\lg(10^{3.1536 \\times  10^{14}}) = 51 $$\n",
        " \n",
        "\n",
        "$Mileniun$\n",
        "$$  2^n  \\times 10^{-6} s \\le  3153600000000\\ s$$ \n",
        "$$  2^n \\le    3153600000000\\times  10^{6} $$ \n",
        "$$  \\lg(2^n) \\le  \\lg( 3.1536 \\times  10^{17})$$ \n",
        "$$  n \\le  \\lg(10^{3.1536 \\times  10^{17}}) = 61 $$"
      ]
    },
    {
      "cell_type": "code",
      "metadata": {
        "colab": {
          "base_uri": "https://localhost:8080/"
        },
        "id": "A5cAq6LsYS3E",
        "outputId": "7c3c37bc-ba2e-4258-91b8-97bf06a7bff7"
      },
      "source": [
        "import math\n",
        "print(\"Second \",int(math.log2(10**6 )))\n",
        "print(\"Minute  \",int(math.log2(60*10**6 )))\n",
        "print(\"Hour \",int(math.log2(60*60*10**6 )))\n",
        "print(\"Day \",int(math.log2(24*60*60*10**6 )))\n",
        "print(\"Year \",int(math.log2(365*24*60*60*10**6 )))\n",
        "print(\"Century \",int(math.log2(100*365*24*60*60*10**6 )))\n",
        "print(\"Mileniun \",int(math.log2(1000*100*365*24*60*60*10**6 )))"
      ],
      "execution_count": 6,
      "outputs": [
        {
          "output_type": "stream",
          "name": "stdout",
          "text": [
            "Second  19\n",
            "Minute   25\n",
            "Hour  31\n",
            "Day  36\n",
            "Year  44\n",
            "Century  51\n",
            "Mileniun  61\n"
          ]
        }
      ]
    },
    {
      "cell_type": "code",
      "metadata": {
        "colab": {
          "base_uri": "https://localhost:8080/"
        },
        "id": "lwmS91_WR9hg",
        "outputId": "7139f490-a1e1-4757-ba75-83540c1e5fc6"
      },
      "source": [
        "import math\n",
        "def f(n):\n",
        "  return 2**n\n",
        "\n",
        "def find(f,v):\n",
        "  l = 1\n",
        "  r = 100\n",
        "  while True:\n",
        "    m = int((l+r)/2)\n",
        "    if ((f(m+1) > v) and (f(m) <= v) ) or (l == m)  or (r== m):\n",
        "      return int(m)\n",
        "    elif f(m) < v:\n",
        "      l = m\n",
        "    else: \n",
        "      r = m\n",
        "\n",
        "\n",
        "print(\"Second \", find(f,10**6 ))\n",
        "print(\"Minute  \",find(f,60*10**6))\n",
        "print(\"Hour \",find(f,60*60*10**6 ))\n",
        "print(\"Day \",find(f,24*60*60*10**6 ))\n",
        "print(\"Year \",find(f,365*24*60*60*10**6 ))\n",
        "print(\"Century \",find(f,100*365*24*60*60*10**6 ))\n",
        "print(\"Mileniun \",find(f,1000*100*365*24*60*60*10**6 ))"
      ],
      "execution_count": null,
      "outputs": [
        {
          "output_type": "stream",
          "name": "stdout",
          "text": [
            "Second  19\n",
            "Minute   25\n",
            "Hour  31\n",
            "Day  36\n",
            "Year  44\n",
            "Century  51\n",
            "Mileniun  61\n"
          ]
        }
      ]
    },
    {
      "cell_type": "markdown",
      "metadata": {
        "id": "YIWTTFoFUaku"
      },
      "source": [
        "$\\bf{ Time\\ Complexity\\ n! }$\n",
        "\n",
        "$Second$\n",
        "$$  n!  \\times 10^{-6} \\ s\\le 1\\ s$$ \n",
        "$$  n! \\le  10^{6} $$ \n",
        "$$  n \\le  9 $$\n",
        "\n",
        "\n",
        "$Minute$\n",
        "$$  n! \\times 10^{-6} \\ s\\le 60\\ s$$ \n",
        "$$  n! \\le 60 \\times 10^{6} $$ \n",
        "$$  n \\le  11 $$\n",
        "\n",
        "$Hour$\n",
        "$$  n! \\times 10^{-6} \\ s\\le 3600\\ s$$ \n",
        "$$  n! \\le 3600 \\times 10^{6}  = 3.6 \\times 10^{10}$$ \n",
        "$$  n \\le 12 $$\n",
        "\n",
        "\n",
        "$Day$\n",
        "$$  n! \\times 10^{-6} \\ s\\le 84600\\ s$$ \n",
        "$$  n! \\le 84600 \\times 10^{6}  = 8.46 \\times 10^{11}$$ \n",
        "$$  n \\le 13 $$\n",
        "\n",
        "$Year$\n",
        "$$  n! \\times 10^{-6} \\ s\\le 31536000\\ s$$ \n",
        "$$  n! \\le 31536000 \\times 10^{6}   = 3.153 \\times 10^{14}$$ \n",
        "$$  n \\le 16 $$\n",
        "\n",
        "$Century$\n",
        "$$  n! \\times 10^{-6} \\ s\\le 3153600000\\ s$$ \n",
        "$$  n! \\le 3153600000 \\times 10^{6}  = 3.153 \\times 10^{16}$$ \n",
        "$$  n \\le 17 $$\n",
        "\n",
        "$Mileniun$\n",
        "$$  n! \\times 10^{-6} \\ s\\le 3153600000000\\ s$$ \n",
        "$$  n! \\le 3153600000000 \\times 10^{6}  = 3.153 \\times 10^{19}$$ \n",
        "$$  n \\le 20 $$"
      ]
    },
    {
      "cell_type": "code",
      "metadata": {
        "colab": {
          "base_uri": "https://localhost:8080/"
        },
        "id": "oR-gvhokdfOT",
        "outputId": "adb8fb1e-ccff-4694-fa7b-4d0e71d7a00b"
      },
      "source": [
        "import math\n",
        "def f(n):\n",
        "  return math.factorial(n)\n",
        "\n",
        "def find(f,v):\n",
        "  l = 1\n",
        "  r = 100\n",
        "  while True:\n",
        "    m = int((l+r)/2)\n",
        "    if ((f(m+1) > v) and (f(m) <= v) ) or (l == m) or (r== m):\n",
        "      return int(m)\n",
        "    elif f(m) < v:\n",
        "      l = m\n",
        "    else: \n",
        "      r = m\n",
        "\n",
        "\n",
        "print(\"Second \", find(f,10**6 ))\n",
        "print(\"Minute  \",find(f,60*10**6 ))\n",
        "print(\"Hour \",find(f,60*60*10**6 ))\n",
        "print(\"Day \",find(f,24*60*60*10**6 ))\n",
        "print(\"Year \",find(f,365*24*60*60*10**6 ))\n",
        "print(\"Century \",find(f,100*365*24*60*60*10**6 ))\n",
        "print(\"Mileniun \",find(f,1000*100*365*24*60*60*10**6 ))"
      ],
      "execution_count": null,
      "outputs": [
        {
          "output_type": "stream",
          "name": "stdout",
          "text": [
            "Second  9\n",
            "Minute   11\n",
            "Hour  12\n",
            "Day  13\n",
            "Year  16\n",
            "Century  17\n",
            "Mileniun  20\n"
          ]
        }
      ]
    },
    {
      "cell_type": "markdown",
      "metadata": {
        "id": "3LQFAKycUdLH"
      },
      "source": [
        "$\\bf{ Time\\ Complexity\\ n^n }$\n",
        "\n",
        "$Second$\n",
        "$$  n^n  \\times 10^{-6} \\ s\\le 1\\ s$$ \n",
        "$$  n^n \\le  10^{6} $$ \n",
        "$$  n \\le  7 $$ \n",
        "\n",
        "$Minute$\n",
        "$$  n^n \\times 10^{-6} \\ s\\le 60\\ s$$ \n",
        "$$  n^n \\le 60 \\times 10^{6} $$ \n",
        "$$  n \\le 8 $$\n",
        "\n",
        "$Hour$\n",
        "$$  n^n \\times 10^{-6} \\ s\\le 3600\\ s$$ \n",
        "$$  n^n \\le 3600 \\times 10^{6}  = 3.6 \\times 10^{9}$$ \n",
        "$$  n \\le 9 $$\n",
        "\n",
        "$Day$\n",
        "$$  n^n \\times 10^{-6} \\ s\\le 84600\\ s$$ \n",
        "$$  n^n \\le 84600 \\times 10^{6}  = 8.46 \\times 10^{10}$$ \n",
        "$$  n \\le 10 $$\n",
        "\n",
        "$Year$\n",
        "$$  n^n \\times 10^{-6} \\ s\\le 31536000\\ s$$ \n",
        "$$  n^n \\le 31536000 \\times 10^{6}   = 3.153 \\times 10^{13}$$ \n",
        "$$  n \\le 12 $$\n",
        "\n",
        "\n",
        "$Century$\n",
        "$$  n^n \\times 10^{-6} \\ s\\le 3153600000\\ s$$ \n",
        "$$  n^n \\le 3153600000 \\times 10^{6}  = 3.153 \\times 10^{15}$$ \n",
        "$$  n \\le 13 $$ \n",
        "\n",
        "$Mileniun$\n",
        "$$  n^n \\times 10^{-6} \\ s\\le 3153600000000\\ s$$ \n",
        "$$  n^n \\le 3153600000000 \\times 10^{6}  = 3.153 \\times 10^{18}$$ \n",
        "$$  n \\le 15 $$\n"
      ]
    },
    {
      "cell_type": "code",
      "metadata": {
        "colab": {
          "base_uri": "https://localhost:8080/"
        },
        "id": "ygq4qFeHdzts",
        "outputId": "8a167d11-3ee7-426b-e4b1-4baf03f2feb7"
      },
      "source": [
        "import math\n",
        "def f(n):\n",
        "  return n**n\n",
        "\n",
        "def find(f,v):\n",
        "  l = 1\n",
        "  r = 100\n",
        "  while True:\n",
        "    m = int((l+r)/2)\n",
        "    if ((f(m+1) > v) and (f(m) <= v) ) or (l == m) or (r== m):\n",
        "      return int(m)\n",
        "    elif f(m) < v:\n",
        "      l = m\n",
        "    else: \n",
        "      r = m\n",
        "\n",
        "print(\"Second \", find(f,10**6 ))\n",
        "print(\"Minute  \",find(f,60*10**6 ))\n",
        "print(\"Hour \",find(f,60*60*10**6 ))\n",
        "print(\"Day \",find(f,24*60*60*10**6 ))\n",
        "print(\"Year \",find(f,365*24*60*60*10**6 ))\n",
        "print(\"Century \",find(f,100*365*24*60*60*10**6 ))\n",
        "print(\"Mileniun \",find(f,1000*100*365*24*60*60*10**6 ))"
      ],
      "execution_count": null,
      "outputs": [
        {
          "output_type": "stream",
          "name": "stdout",
          "text": [
            "Second  7\n",
            "Minute   8\n",
            "Hour  9\n",
            "Day  10\n",
            "Year  12\n",
            "Century  13\n",
            "Mileniun  15\n"
          ]
        }
      ]
    }
  ]
}