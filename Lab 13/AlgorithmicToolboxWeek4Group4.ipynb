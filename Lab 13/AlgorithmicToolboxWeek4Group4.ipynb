{
  "nbformat": 4,
  "nbformat_minor": 0,
  "metadata": {
    "colab": {
      "name": "AlgorithmicToolboxWeek4Group4.ipynb",
      "provenance": [],
      "collapsed_sections": []
    },
    "kernelspec": {
      "name": "python3",
      "display_name": "Python 3"
    },
    "language_info": {
      "name": "python"
    }
  },
  "cells": [
    {
      "cell_type": "markdown",
      "metadata": {
        "id": "uYTU1qFFMZb4"
      },
      "source": [
        "#Week 4: Divide and Conquer\n",
        "\n",
        "Integrantes:\n",
        "\n",
        "- Sergio David Lopez Pardo\n",
        "- Rodrigo Sierra Agredo\n",
        "- Kevin Jair Gonzalez Sanchez"
      ]
    },
    {
      "cell_type": "markdown",
      "metadata": {
        "id": "6szocISJNSkL"
      },
      "source": [
        "##4-1:Binary Search"
      ]
    },
    {
      "cell_type": "code",
      "metadata": {
        "colab": {
          "base_uri": "https://localhost:8080/"
        },
        "id": "4R8xMp0oMKYm",
        "outputId": "32efb392-5009-4d10-df88-cd919909e023"
      },
      "source": [
        "%%writefile ex4_1.py\n",
        "\n",
        "def bs(s, t, r):\n",
        "    l = 0\n",
        "\n",
        "    while l<=r: \n",
        "\n",
        "        m = (l+r)//2\n",
        "\n",
        "        if t > s[m]:\n",
        "            l = m + 1\n",
        "        elif t < s[m]:\n",
        "            r = m - 1\n",
        "        else:\n",
        "            return m\n",
        "\n",
        "    return -1\n",
        "\n",
        "s = list(map(int, input().split()))\n",
        "ss = list(map(int, input().split()))\n",
        "\n",
        "n = s[0]\n",
        "s = s[1:]\n",
        "t = True\n",
        "\n",
        "ln = []\n",
        "x = ss[1:]\n",
        "\n",
        "for i in x:\n",
        "    ln.append(bs(s, i, n-1))\n",
        "\n",
        "print(' '.join([str(i) for i in ln]))"
      ],
      "execution_count": null,
      "outputs": [
        {
          "output_type": "stream",
          "text": [
            "Writing ex4_1.py\n"
          ],
          "name": "stdout"
        }
      ]
    },
    {
      "cell_type": "code",
      "metadata": {
        "colab": {
          "base_uri": "https://localhost:8080/"
        },
        "id": "0Nx7imwaNa9B",
        "outputId": "055d888a-1b5b-4fe8-ce39-8897a6b01875"
      },
      "source": [
        "!python ex4_1.py"
      ],
      "execution_count": null,
      "outputs": [
        {
          "output_type": "stream",
          "text": [
            "5 1 5 8 12 13\n",
            "5 8 1 23 1 11\n",
            "2 0 -1 0 -1\n"
          ],
          "name": "stdout"
        }
      ]
    },
    {
      "cell_type": "markdown",
      "metadata": {
        "id": "BJqsIGNCNbU_"
      },
      "source": [
        "##4-2: Majority Element"
      ]
    },
    {
      "cell_type": "code",
      "metadata": {
        "colab": {
          "base_uri": "https://localhost:8080/"
        },
        "id": "tGVGqwXgNfOz",
        "outputId": "fcbc3f49-de1e-43b1-cb08-485cf5403c4d"
      },
      "source": [
        "%%writefile ex4_2.py\n",
        "\n",
        "def df(l, r, s):\n",
        "    \n",
        "    if l+1==r:\n",
        "        return s[l]\n",
        "    elif l+2==r:\n",
        "        return s[l]\n",
        "\n",
        "    m = (l+r)//2\n",
        "\n",
        "    c1 = 0\n",
        "    c2 = 0\n",
        "\n",
        "    left = df(l, m, s)\n",
        "    right = df(m, r, s)\n",
        "\n",
        "    for i in s[l:r]:\n",
        "        if i == left:\n",
        "            c1 = c1 + 1\n",
        "        elif i == right:\n",
        "            c2 = c2 + 1\n",
        "\n",
        "    if c1>(r-l)//2 and left != -1:\n",
        "        return left\n",
        "    elif c2>(r-l)//2 and right != -1:\n",
        "        return right\n",
        "    else: \n",
        "        return -1\n",
        "\n",
        "n = int(input())\n",
        "s = list(map(int, input().split()))\n",
        "\n",
        "if df(0, n, s) != -1:\n",
        "    print(1)\n",
        "else:\n",
        "    print(0)"
      ],
      "execution_count": null,
      "outputs": [
        {
          "output_type": "stream",
          "text": [
            "Writing ex4_2.py\n"
          ],
          "name": "stdout"
        }
      ]
    },
    {
      "cell_type": "code",
      "metadata": {
        "colab": {
          "base_uri": "https://localhost:8080/"
        },
        "id": "yr-eira1NfiX",
        "outputId": "7e5b7f05-c3dd-451d-c98c-202796a55232"
      },
      "source": [
        "!python ex4_2.py"
      ],
      "execution_count": null,
      "outputs": [
        {
          "output_type": "stream",
          "text": [
            "5\n",
            "2 3 9 2 2\n",
            "1\n"
          ],
          "name": "stdout"
        }
      ]
    },
    {
      "cell_type": "code",
      "metadata": {
        "colab": {
          "base_uri": "https://localhost:8080/"
        },
        "id": "y-hxQTEJNhro",
        "outputId": "635ef8a8-f21b-4a94-dcb7-75e15dd2d967"
      },
      "source": [
        "!python ex4_2.py"
      ],
      "execution_count": null,
      "outputs": [
        {
          "output_type": "stream",
          "text": [
            "4\n",
            "1 2 3 4\n",
            "0\n"
          ],
          "name": "stdout"
        }
      ]
    },
    {
      "cell_type": "code",
      "metadata": {
        "colab": {
          "base_uri": "https://localhost:8080/"
        },
        "id": "33jYE89pNh93",
        "outputId": "041ebe20-299a-4208-ecee-de63623488c2"
      },
      "source": [
        "!python ex4_2.py"
      ],
      "execution_count": null,
      "outputs": [
        {
          "output_type": "stream",
          "text": [
            "4\n",
            "1 2 3 1\n",
            "0\n"
          ],
          "name": "stdout"
        }
      ]
    },
    {
      "cell_type": "markdown",
      "metadata": {
        "id": "jQZATfMdNsXy"
      },
      "source": [
        "##4-3: Improving Quick Sort"
      ]
    },
    {
      "cell_type": "code",
      "metadata": {
        "colab": {
          "base_uri": "https://localhost:8080/"
        },
        "id": "G9xd4vRsNy-R",
        "outputId": "5d976b16-3214-4cfb-adf0-24d7b3caadb6"
      },
      "source": [
        "%%writefile ex4_3.py\n",
        "\n",
        "import random\n",
        "\n",
        "def p(a, l, r):\n",
        "    \n",
        "    x = a[l]\n",
        "    m1 = l\n",
        "    m2 = l\n",
        "    for i in range(l + 1, r + 1):\n",
        "    \tif a[i] < x:\n",
        "        \ta[i],a[m1] = a[m1],a[i]\n",
        "        \tm1+=1\n",
        "        \tm2+=1\n",
        "        \ta[i],a[m2] = a[m2],a[i]\n",
        "    \telif a[i] == x:\n",
        "        \tm2+=1\n",
        "        \ta[i],a[m2] = a[m2],a[i]\n",
        "\n",
        "    return m1,m2\n",
        "\n",
        "\n",
        "def sort_quick(a, l, r):\n",
        "\n",
        "    if l >= r:\n",
        "        return\n",
        "\n",
        "    k = random.randint(l, r)\n",
        "    a[l], a[k] = a[k], a[l]\n",
        "    j,k = p(a, l, r)\n",
        "    sort_quick(a, l, j-1)\n",
        "    sort_quick(a, k+1, r)\n",
        "\n",
        "\n",
        "n = int(input())\n",
        "\n",
        "a = list(map(int, input().split()))\n",
        "\n",
        "sort_quick(a, 0, n - 1)\n",
        "\n",
        "for x in a:\n",
        "    print(x, end=' ')"
      ],
      "execution_count": null,
      "outputs": [
        {
          "output_type": "stream",
          "text": [
            "Writing ex4_3.py\n"
          ],
          "name": "stdout"
        }
      ]
    },
    {
      "cell_type": "code",
      "metadata": {
        "colab": {
          "base_uri": "https://localhost:8080/"
        },
        "id": "kq77JMgpNzIg",
        "outputId": "a13f6cdc-971c-4774-958d-8ec5aef0850d"
      },
      "source": [
        "!python ex4_3.py"
      ],
      "execution_count": null,
      "outputs": [
        {
          "output_type": "stream",
          "text": [
            "5\n",
            "2 3 9 2 2\n",
            "2 2 2 3 9 "
          ],
          "name": "stdout"
        }
      ]
    },
    {
      "cell_type": "markdown",
      "metadata": {
        "id": "hnYQirH9N1CC"
      },
      "source": [
        "##4-4: Number of Inversions"
      ]
    },
    {
      "cell_type": "code",
      "metadata": {
        "colab": {
          "base_uri": "https://localhost:8080/"
        },
        "id": "0XkibvKaN5y9",
        "outputId": "0f401e59-d8e3-4260-e8e6-ae5a89c28ba2"
      },
      "source": [
        "%%writefile ex4_4.py\n",
        "\n",
        "def merge(l, r):\n",
        "\n",
        "    final = []\n",
        "    j = 0\n",
        "    ic = 0\n",
        "    i = 0\n",
        "\n",
        "    while i < len(l) and j< len(r):\n",
        "\n",
        "        if l[i] <= r[j]:\n",
        "            final.append(l[i])\n",
        "            i += 1\n",
        "        else:\n",
        "            final.append(r[j])\n",
        "            ic += len(l) - i\n",
        "            j += 1\n",
        "\n",
        "    final += l[i:]\n",
        "    final += r[j:]\n",
        "        \n",
        "    return [final, ic]\n",
        "\n",
        "def merge_sort(arr):\n",
        "\n",
        "    global tc\n",
        "    \n",
        "    if len(arr) <= 1:\n",
        "        return arr\n",
        "\n",
        "    l = merge_sort(arr[:len(arr)//2])\n",
        "    r = merge_sort(arr[len(arr)//2:])\n",
        "\n",
        "    y = merge(l, r)\n",
        "    sorted_arr = y[0]\n",
        "    temp = y[1]\n",
        "\n",
        "    tc += temp\n",
        "\n",
        "    return sorted_arr\n",
        "\n",
        "tc = 0\n",
        "\n",
        "n = int(input())\n",
        "s = list(map(int, input().split()))\n",
        "\n",
        "merge_sort(s)\n",
        "print(tc)"
      ],
      "execution_count": null,
      "outputs": [
        {
          "output_type": "stream",
          "text": [
            "Writing ex4_4.py\n"
          ],
          "name": "stdout"
        }
      ]
    },
    {
      "cell_type": "code",
      "metadata": {
        "colab": {
          "base_uri": "https://localhost:8080/"
        },
        "id": "MG7VNgzNN6Kw",
        "outputId": "a0194120-bf11-4514-d8ef-c123bb736d0c"
      },
      "source": [
        "!python ex4_4.py"
      ],
      "execution_count": null,
      "outputs": [
        {
          "output_type": "stream",
          "text": [
            "5\n",
            "2 3 9 2 9\n",
            "2\n"
          ],
          "name": "stdout"
        }
      ]
    },
    {
      "cell_type": "markdown",
      "metadata": {
        "id": "j4NCbEv6N85Y"
      },
      "source": [
        "##4-5: Organizing a Lottery"
      ]
    },
    {
      "cell_type": "code",
      "metadata": {
        "colab": {
          "base_uri": "https://localhost:8080/"
        },
        "id": "A1SGMSCqN_qD",
        "outputId": "c28b1194-a0ab-4f7b-fdc0-cb4bd6e0fbfb"
      },
      "source": [
        "%%writefile ex4_5.py\n",
        "\n",
        "def result(s, p, ml):\n",
        "    \n",
        "    for i in range(s):\n",
        "        a, b = [int(i) for i in input().split()]\n",
        "        ml.append((a,'l'))\n",
        "        ml.append((b,'r'))\n",
        "\n",
        "    points = input().split()\n",
        "    for i in points:\n",
        "        ml.append((int(i),'p'))\n",
        "\n",
        "    ml.sort()\n",
        "\n",
        "    segment_count = 0\n",
        "    point_segment_map = dict()\n",
        "    for i in ml:\n",
        "        if i[1] == 'l': segment_count += 1\n",
        "        elif i[1] == 'r': segment_count -= 1\n",
        "        else:\n",
        "            point_segment_map[i[0]] = segment_count\n",
        "\n",
        "    temp = ''\n",
        "    for i in points:\n",
        "        temp += str(point_segment_map[int(i)]) + ' '\n",
        "\n",
        "    return temp[:-1]\n",
        "\n",
        "s, p = list(map(int, input().split()))\n",
        "\n",
        "ml = []\n",
        "\n",
        "print(result(s, p, ml))"
      ],
      "execution_count": null,
      "outputs": [
        {
          "output_type": "stream",
          "text": [
            "Writing ex4_5.py\n"
          ],
          "name": "stdout"
        }
      ]
    },
    {
      "cell_type": "code",
      "metadata": {
        "colab": {
          "base_uri": "https://localhost:8080/"
        },
        "id": "m2avH55RN_8g",
        "outputId": "7422e75f-6ecd-4eea-9657-6f474cdde3e3"
      },
      "source": [
        "!python ex4_5.py"
      ],
      "execution_count": null,
      "outputs": [
        {
          "output_type": "stream",
          "text": [
            "2 3\n",
            "0 5\n",
            "7 10\n",
            "1 6 11\n",
            "1 0 0\n"
          ],
          "name": "stdout"
        }
      ]
    },
    {
      "cell_type": "code",
      "metadata": {
        "colab": {
          "base_uri": "https://localhost:8080/"
        },
        "id": "02AII7HvOCZd",
        "outputId": "60d5fe05-27a0-4ea4-c9e4-00b214e907a3"
      },
      "source": [
        "!python ex4_5.py"
      ],
      "execution_count": null,
      "outputs": [
        {
          "output_type": "stream",
          "text": [
            "1 3\n",
            "-10 10\n",
            "-100 100 0\n",
            "0 0 1\n"
          ],
          "name": "stdout"
        }
      ]
    },
    {
      "cell_type": "code",
      "metadata": {
        "colab": {
          "base_uri": "https://localhost:8080/"
        },
        "id": "_YC59okeOCyr",
        "outputId": "3d6f2225-a6c8-42bd-90d5-0fd37e05caa8"
      },
      "source": [
        "!python ex4_5.py"
      ],
      "execution_count": null,
      "outputs": [
        {
          "output_type": "stream",
          "text": [
            "3 2\n",
            "0 5\n",
            "-3 2\n",
            "7 10\n",
            "1 6\n",
            "2 0\n"
          ],
          "name": "stdout"
        }
      ]
    },
    {
      "cell_type": "markdown",
      "metadata": {
        "id": "CdN7NxxfOFzP"
      },
      "source": [
        "##4-6: Closest Points"
      ]
    },
    {
      "cell_type": "code",
      "metadata": {
        "colab": {
          "base_uri": "https://localhost:8080/"
        },
        "id": "mkeLJUxPOJx7",
        "outputId": "ded6a6c6-7332-406b-871a-80b11d8a8dac"
      },
      "source": [
        "%%writefile ex4_6.py\n",
        "\n",
        "def dist(p1, p2):\n",
        "\n",
        "    return ((p1[0] - p2[0]) ** 2 + (p1[1] - p2[1]) ** 2)**(0.5)\n",
        "\n",
        "def closest_split_pair(p_x, p_y, delta, best_pair):\n",
        "\n",
        "    ln_x = len(p_x)\n",
        "    mx_x = p_x[ln_x // 2][0]\n",
        "\n",
        "    s_y = [x for x in p_y if mx_x - delta <= x[0] <= mx_x + delta]\n",
        "\n",
        "    best = delta\n",
        "    ln_y = len(s_y)\n",
        "\n",
        "    for i in range(ln_y - 1):\n",
        "        for j in range(i+1, min(i + 5, ln_y)):\n",
        "            p, q = s_y[i], s_y[j]\n",
        "            dst = dist(p, q)\n",
        "            if dst < best:\n",
        "                best_pair = p, q\n",
        "                best = dst\n",
        "\n",
        "    return best_pair[0], best_pair[1], best\n",
        "\n",
        "\n",
        "def brute(ax):\n",
        "\n",
        "    mi = dist(ax[0], ax[1])\n",
        "    p2 = ax[1]\n",
        "    ln_ax = len(ax)\n",
        "    p1 = ax[0]\n",
        "\n",
        "    if ln_ax == 2:\n",
        "        return p1, p2, mi\n",
        "\n",
        "    for i in range(ln_ax-1):\n",
        "        for j in range(i + 1, ln_ax):\n",
        "            if i != 0 and j != 1:\n",
        "                d = dist(ax[i], ax[j])\n",
        "                if d < mi:\n",
        "                    mi = d\n",
        "                    p1, p2 = ax[i], ax[j]\n",
        "    return p1, p2, mi\n",
        "\n",
        "\n",
        "def closest_pair(ax, ay):\n",
        "    ln_ax = len(ax)\n",
        "\n",
        "    if ln_ax <= 3:\n",
        "        return brute(ax)\n",
        "\n",
        "    mid = ln_ax // 2\n",
        "    Qx = ax[:mid]\n",
        "    Rx = ax[mid:]\n",
        "\n",
        "    midpoint = ax[mid][0]\n",
        "    Qy = list()\n",
        "    Ry = list()\n",
        "\n",
        "    for x in ay:\n",
        "        if x[0] < midpoint:\n",
        "           Qy.append(x)\n",
        "        else:\n",
        "           Ry.append(x)\n",
        "    \n",
        "    (p1, q1, mi1) = closest_pair(Qx, Qy)\n",
        "    (p2, q2, mi2) = closest_pair(Rx, Ry)\n",
        "\n",
        "\n",
        "    if mi1 <= mi2:\n",
        "        d = mi1\n",
        "        mn = (p1, q1)\n",
        "    else:\n",
        "        d = mi2\n",
        "        mn = (p2, q2)\n",
        "\n",
        "    \n",
        "    (p3, q3, mi3) = closest_split_pair(ax, ay, d, mn)\n",
        "    \n",
        "    if d <= mi3:\n",
        "        return mn[0], mn[1], d\n",
        "    else:\n",
        "        return p3, q3, mi3\n",
        "\n",
        "\n",
        "def sol(a):\n",
        "    ax = sorted(a, key=lambda x: x[0])\n",
        "    ay = sorted(a, key=lambda x: (x[1], x[0]))\n",
        "    p1, p2, mi = closest_pair(ax, ay)\n",
        "    return mi\n",
        "\n",
        "\n",
        "\n",
        "pnts = list()\n",
        "n = int(input())\n",
        "for i in range(n):\n",
        "    pnts.append(list(map(int, input().split())))\n",
        "\n",
        "print(sol(pnts))"
      ],
      "execution_count": null,
      "outputs": [
        {
          "output_type": "stream",
          "text": [
            "Writing ex4_6.py\n"
          ],
          "name": "stdout"
        }
      ]
    },
    {
      "cell_type": "code",
      "metadata": {
        "colab": {
          "base_uri": "https://localhost:8080/"
        },
        "id": "qc3jhxgOOJ-L",
        "outputId": "0ce7a674-dc86-4819-bb56-64e24e3bcc21"
      },
      "source": [
        "!python ex4_6.py"
      ],
      "execution_count": null,
      "outputs": [
        {
          "output_type": "stream",
          "text": [
            "2\n",
            "0 0\n",
            "3 4\n",
            "5.0\n"
          ],
          "name": "stdout"
        }
      ]
    },
    {
      "cell_type": "code",
      "metadata": {
        "colab": {
          "base_uri": "https://localhost:8080/"
        },
        "id": "CUErZl9_OKK0",
        "outputId": "5a84c167-7613-4b2b-9344-775b9d8f7d6b"
      },
      "source": [
        "!python ex4_6.py"
      ],
      "execution_count": null,
      "outputs": [
        {
          "output_type": "stream",
          "text": [
            "4\n",
            "7 7\n",
            "1 100\n",
            "4 8\n",
            "7 7\n",
            "0.0\n"
          ],
          "name": "stdout"
        }
      ]
    },
    {
      "cell_type": "code",
      "metadata": {
        "colab": {
          "base_uri": "https://localhost:8080/"
        },
        "id": "cot8mJTVOKZD",
        "outputId": "a330f7d6-a358-49c0-fd5c-ccea2c9071ed"
      },
      "source": [
        "!python ex4_6.py"
      ],
      "execution_count": null,
      "outputs": [
        {
          "output_type": "stream",
          "text": [
            "11\n",
            "4 4\n",
            "-2 -2\n",
            "-3 -4\n",
            "-1 3\n",
            "2 3\n",
            "-4 0\n",
            "1 1\n",
            "-1 -1\n",
            "3 -1\n",
            "-4 2\n",
            "-2 4\n",
            "1.4142135623730951\n"
          ],
          "name": "stdout"
        }
      ]
    }
  ]
}