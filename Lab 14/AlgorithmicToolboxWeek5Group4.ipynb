{
  "nbformat": 4,
  "nbformat_minor": 0,
  "metadata": {
    "colab": {
      "name": "AlgorithmicToolboxWeek5Group4.ipynb",
      "provenance": [],
      "collapsed_sections": []
    },
    "kernelspec": {
      "name": "python3",
      "display_name": "Python 3"
    },
    "language_info": {
      "name": "python"
    }
  },
  "cells": [
    {
      "cell_type": "markdown",
      "metadata": {
        "id": "sGRHpilDT3Ga"
      },
      "source": [
        "#Week 5: Dynamic Programming 1\n",
        "\n",
        "Integrantes:\n",
        "\n",
        "- Kevin Jair Gonzalez Sanchez\n",
        "- Sergio David Lopez Pardo\n",
        "- Rodrigo Sierra Agredo"
      ]
    },
    {
      "cell_type": "markdown",
      "metadata": {
        "id": "QL1BqG0jT7ia"
      },
      "source": [
        "##5-1: Money Change Again"
      ]
    },
    {
      "cell_type": "code",
      "metadata": {
        "colab": {
          "base_uri": "https://localhost:8080/"
        },
        "id": "nCK8lOq6TOam",
        "outputId": "c10e8a8b-91d3-4a80-826e-945bea1472f9"
      },
      "source": [
        "%%writefile ex5_1.py\n",
        "\n",
        "import sys\n",
        "\n",
        "m = int(input())\n",
        "\n",
        "d = [1, 3, 4]\n",
        "\n",
        "minCoins = [0] + [sys.maxsize]*m\n",
        "\n",
        "for i in range(1, m+1):\n",
        "    for j in d:\n",
        "\n",
        "        if i>=j:\n",
        "            coins = minCoins[i-j]+1\n",
        "            if coins < minCoins[i]:\n",
        "                minCoins[i] = coins\n",
        "\n",
        "print(minCoins[m])"
      ],
      "execution_count": null,
      "outputs": [
        {
          "output_type": "stream",
          "text": [
            "Writing ex5_1.py\n"
          ],
          "name": "stdout"
        }
      ]
    },
    {
      "cell_type": "code",
      "metadata": {
        "colab": {
          "base_uri": "https://localhost:8080/"
        },
        "id": "qx_dUKy4UBGQ",
        "outputId": "1ad9ce6f-a7b3-467a-fd86-baefd6a4f91a"
      },
      "source": [
        "!python ex5_1.py"
      ],
      "execution_count": null,
      "outputs": [
        {
          "output_type": "stream",
          "text": [
            "2\n",
            "2\n"
          ],
          "name": "stdout"
        }
      ]
    },
    {
      "cell_type": "code",
      "metadata": {
        "colab": {
          "base_uri": "https://localhost:8080/"
        },
        "id": "SXitakR6UBRD",
        "outputId": "41e406af-46f1-4a34-b4c2-e6ce632481fb"
      },
      "source": [
        "!python ex5_1.py"
      ],
      "execution_count": null,
      "outputs": [
        {
          "output_type": "stream",
          "text": [
            "34\n",
            "9\n"
          ],
          "name": "stdout"
        }
      ]
    },
    {
      "cell_type": "markdown",
      "metadata": {
        "id": "1yZrCszDUBe6"
      },
      "source": [
        "##5-2: Primitive Calculator"
      ]
    },
    {
      "cell_type": "code",
      "metadata": {
        "colab": {
          "base_uri": "https://localhost:8080/"
        },
        "id": "0qy1dXRIUHez",
        "outputId": "9dc2ffd3-6fef-4861-f280-6e014231803d"
      },
      "source": [
        "%%writefile ex5_2.py\n",
        "\n",
        "import sys\n",
        "\n",
        "def function1(numo, n):\n",
        "    for i in range(2, n+1):\n",
        "        t1, t2, t3 = [sys.maxsize]*3\n",
        "\n",
        "        t1 = numo[i-1] + 1 \n",
        "        if i%2 == 0: t2 = numo[i//2] + 1\n",
        "        if i%3 == 0: t3 = numo[i//3] + 1\n",
        "        min_ops = min(t1, t2, t3)\n",
        "        numo[i] = min_ops\n",
        "\n",
        "    return numo[n]\n",
        "\n",
        "n = int(input())\n",
        "\n",
        "numo = [0, 0] + [sys.maxsize]*(n-1)\n",
        "\n",
        "print(function1(numo, n))\n",
        "\n",
        "\n",
        "nums = [n]\n",
        "while n!=1:\n",
        "    if n%3 ==0 and numo[n]-1 == numo[n//3]:\n",
        "        nums += [n//3]\n",
        "        n = n//3\n",
        "    elif n%2 ==0 and numo[n]-1 == numo[n//2]:\n",
        "        nums += [n//2]\n",
        "        n = n//2\n",
        "    else:\n",
        "        nums += [n-1]\n",
        "        n = n - 1\n",
        "\n",
        "print(' '.join([str(i) for i in nums][::-1]))"
      ],
      "execution_count": null,
      "outputs": [
        {
          "output_type": "stream",
          "text": [
            "Writing ex5_2.py\n"
          ],
          "name": "stdout"
        }
      ]
    },
    {
      "cell_type": "code",
      "metadata": {
        "colab": {
          "base_uri": "https://localhost:8080/"
        },
        "id": "KVOb-9EkUHrC",
        "outputId": "a5b91ee2-f6f8-4cb9-ec64-23fdb600a580"
      },
      "source": [
        "!python ex5_2.py"
      ],
      "execution_count": null,
      "outputs": [
        {
          "output_type": "stream",
          "text": [
            "1\n",
            "0\n",
            "1\n"
          ],
          "name": "stdout"
        }
      ]
    },
    {
      "cell_type": "code",
      "metadata": {
        "colab": {
          "base_uri": "https://localhost:8080/"
        },
        "id": "xCrF7GV7UIyz",
        "outputId": "771538ba-c850-4e21-f992-196a08e0db1f"
      },
      "source": [
        "!python ex5_2.py"
      ],
      "execution_count": null,
      "outputs": [
        {
          "output_type": "stream",
          "text": [
            "5\n",
            "3\n",
            "1 2 4 5\n"
          ],
          "name": "stdout"
        }
      ]
    },
    {
      "cell_type": "code",
      "metadata": {
        "colab": {
          "base_uri": "https://localhost:8080/"
        },
        "id": "W7kLrv2HUJC8",
        "outputId": "cfee9b9a-89cc-4f67-a0b5-ab89d0c17a84"
      },
      "source": [
        "!python ex5_2.py"
      ],
      "execution_count": null,
      "outputs": [
        {
          "output_type": "stream",
          "text": [
            "96234\n",
            "14\n",
            "1 3 9 10 11 22 66 198 594 1782 5346 16038 16039 32078 96234\n"
          ],
          "name": "stdout"
        }
      ]
    },
    {
      "cell_type": "markdown",
      "metadata": {
        "id": "kU2a6CVtUQaG"
      },
      "source": [
        "##5-3: Edit Distance"
      ]
    },
    {
      "cell_type": "code",
      "metadata": {
        "colab": {
          "base_uri": "https://localhost:8080/"
        },
        "id": "g4xThEBvUSqg",
        "outputId": "d5be4c14-e1d8-47ad-9dd5-05b78b6344a0"
      },
      "source": [
        "%%writefile ex5_3.py\n",
        "\n",
        "import numpy\n",
        "\n",
        "s1 = input()\n",
        "s2 = input()\n",
        "\n",
        "ln_s1 = len(s1)\n",
        "ln_s2 = len(s2)\n",
        "\n",
        "Matrix = numpy.zeros((ln_s1+1 , ln_s2+1))\n",
        "for i in range(ln_s2+1):\n",
        "    Matrix[0][i] = i\n",
        "\n",
        "for i in range(ln_s1+1):\n",
        "    Matrix[i][0] = i\n",
        "\n",
        "for i in range(1, ln_s1+1):\n",
        "    for j in range(1, ln_s2+1):\n",
        "        insertion = Matrix[i][j-1]   + 1\n",
        "        deletion  = Matrix[i-1][j]   + 1\n",
        "        mismatch  = Matrix[i-1][j-1] + 1\n",
        "        match     = Matrix[i-1][j-1]\n",
        "        if s1[i-1] == s2[j-1]:\n",
        "            Matrix[i][j] = min(insertion, deletion, match)\n",
        "        if s1[i-1] != s2[j-1]:\n",
        "            Matrix[i][j] = min(insertion, deletion, mismatch)\n",
        "\n",
        "edit_distance = int(Matrix[ln_s1][ln_s2])\n",
        "\n",
        "print(edit_distance)"
      ],
      "execution_count": null,
      "outputs": [
        {
          "output_type": "stream",
          "text": [
            "Writing ex5_3.py\n"
          ],
          "name": "stdout"
        }
      ]
    },
    {
      "cell_type": "code",
      "metadata": {
        "colab": {
          "base_uri": "https://localhost:8080/"
        },
        "id": "2Zils9zwUS3R",
        "outputId": "b2812d90-79b9-4099-e3c2-369e94e94354"
      },
      "source": [
        "!python ex5_3.py"
      ],
      "execution_count": null,
      "outputs": [
        {
          "output_type": "stream",
          "text": [
            "ab\n",
            "ab\n",
            "0\n"
          ],
          "name": "stdout"
        }
      ]
    },
    {
      "cell_type": "code",
      "metadata": {
        "colab": {
          "base_uri": "https://localhost:8080/"
        },
        "id": "JVQTlvPsUUfW",
        "outputId": "a4d13177-efb1-43e5-e7a3-5eb6fc7953be"
      },
      "source": [
        "!python ex5_3.py"
      ],
      "execution_count": null,
      "outputs": [
        {
          "output_type": "stream",
          "text": [
            "short\n",
            "ports\n",
            "3\n"
          ],
          "name": "stdout"
        }
      ]
    },
    {
      "cell_type": "code",
      "metadata": {
        "colab": {
          "base_uri": "https://localhost:8080/"
        },
        "id": "L6Tg_2nHUUxJ",
        "outputId": "de9d7d9b-f2c6-44ee-dddf-7a75c212d582"
      },
      "source": [
        "!python ex5_3.py"
      ],
      "execution_count": null,
      "outputs": [
        {
          "output_type": "stream",
          "text": [
            "editing\n",
            "distance\n",
            "5\n"
          ],
          "name": "stdout"
        }
      ]
    },
    {
      "cell_type": "markdown",
      "metadata": {
        "id": "IrlJjCpDUXOu"
      },
      "source": [
        "##5-4: Longest Common Subsequence of Two Sequences"
      ]
    },
    {
      "cell_type": "code",
      "metadata": {
        "colab": {
          "base_uri": "https://localhost:8080/"
        },
        "id": "FJjDPXiTUZ2s",
        "outputId": "ebd68b59-4407-4190-905a-aa365dfcc995"
      },
      "source": [
        "%%writefile ex5_4.py\n",
        "\n",
        "n = int(input())\n",
        "a = list(map(int, input().split()))\n",
        "m = int(input())\n",
        "b = list(map(int, input().split()))\n",
        "\n",
        "lsm = [[0 for i in range(m + 1)] for j in range(n + 1)]\n",
        "\n",
        "for i in range(1, n+1):\n",
        "    for j in range(1, m+1):\n",
        "        if a[i-1] == b[j-1]:\n",
        "            lsm[i][j] = lsm[i-1][j-1] + 1\n",
        "        elif a[i-1] != b[j-1]:\n",
        "            lsm[i][j] = max(lsm[i-1][j-1], lsm[i-1][j], lsm[i][j-1])\n",
        "\n",
        "print(lsm[n][m])"
      ],
      "execution_count": null,
      "outputs": [
        {
          "output_type": "stream",
          "text": [
            "Writing ex5_4.py\n"
          ],
          "name": "stdout"
        }
      ]
    },
    {
      "cell_type": "code",
      "metadata": {
        "colab": {
          "base_uri": "https://localhost:8080/"
        },
        "id": "NrNtkHinUaDN",
        "outputId": "47ad9927-d778-473d-d48a-89480709339e"
      },
      "source": [
        "!python ex5_4.py"
      ],
      "execution_count": null,
      "outputs": [
        {
          "output_type": "stream",
          "text": [
            "3\n",
            "2 7 5\n",
            "2\n",
            "2 5\n",
            "2\n"
          ],
          "name": "stdout"
        }
      ]
    },
    {
      "cell_type": "code",
      "metadata": {
        "colab": {
          "base_uri": "https://localhost:8080/"
        },
        "id": "5FaXu6QKUaPc",
        "outputId": "c25b465c-510d-4204-8f9f-c5665511f1dd"
      },
      "source": [
        "!python ex5_4.py"
      ],
      "execution_count": null,
      "outputs": [
        {
          "output_type": "stream",
          "text": [
            "1\n",
            "7\n",
            "4\n",
            "1 2 3 4\n",
            "0\n"
          ],
          "name": "stdout"
        }
      ]
    },
    {
      "cell_type": "code",
      "metadata": {
        "colab": {
          "base_uri": "https://localhost:8080/"
        },
        "id": "nytYxh5CUadS",
        "outputId": "8d6dca14-6f38-460c-b0dd-c2ea5197a395"
      },
      "source": [
        "!python ex5_4.py"
      ],
      "execution_count": null,
      "outputs": [
        {
          "output_type": "stream",
          "text": [
            "4\n",
            "2 7 8 3\n",
            "4\n",
            "5 2 8 7\n",
            "2\n"
          ],
          "name": "stdout"
        }
      ]
    },
    {
      "cell_type": "markdown",
      "metadata": {
        "id": "bsRP7Vl9Ub8D"
      },
      "source": [
        "##5-5: Longest Common Subsequence of Three Sequences"
      ]
    },
    {
      "cell_type": "code",
      "metadata": {
        "colab": {
          "base_uri": "https://localhost:8080/"
        },
        "id": "HF9Wss6cUedO",
        "outputId": "98632796-4cab-4f90-8096-57f33ea50262"
      },
      "source": [
        "%%writefile ex5_5.py\n",
        "\n",
        "import sys\n",
        "\n",
        "an = int(input())\n",
        "a = list(map(int, input().split()))\n",
        "bn = int(input())\n",
        "b = list(map(int, input().split()))\n",
        "cn = int(input())\n",
        "c = list(map(int, input().split()))\n",
        "\n",
        "T = [[[0]*(len(a)+1) for _ in range(len(b)+1)] for ex in range(len(c)+1)]\n",
        "for i in range(1,len(a)+1):\n",
        "    for j in range(1,len(b)+1):\n",
        "        for k in range(1,len(c)+1):\n",
        "            if a[i-1]==b[j-1]==c[k-1]:\n",
        "                T[k][j][i] = T[k-1][j-1][i-1] + 1\n",
        "            else :\n",
        "                T[k][j][i] = max(T[k-1][j][i],T[k][j-1][i],T[k][j][i-1])\n",
        "\n",
        "print(T[k][j][i])"
      ],
      "execution_count": null,
      "outputs": [
        {
          "output_type": "stream",
          "text": [
            "Writing ex5_5.py\n"
          ],
          "name": "stdout"
        }
      ]
    },
    {
      "cell_type": "code",
      "metadata": {
        "colab": {
          "base_uri": "https://localhost:8080/"
        },
        "id": "egsmENf3Uepz",
        "outputId": "7f25a3c6-594c-45ae-b494-832ef4c879a1"
      },
      "source": [
        "!python ex5_5.py"
      ],
      "execution_count": null,
      "outputs": [
        {
          "output_type": "stream",
          "text": [
            "3\n",
            "1 2 3\n",
            "3\n",
            "2 1 3\n",
            "3\n",
            "1 3 5\n",
            "2\n"
          ],
          "name": "stdout"
        }
      ]
    },
    {
      "cell_type": "code",
      "metadata": {
        "colab": {
          "base_uri": "https://localhost:8080/"
        },
        "id": "YTDq_gyLUeyE",
        "outputId": "82bbd801-86b0-4a81-ec63-c03235acf1bd"
      },
      "source": [
        "!python ex5_5.py"
      ],
      "execution_count": null,
      "outputs": [
        {
          "output_type": "stream",
          "text": [
            "5\n",
            "8 3 2 1 7\n",
            "7\n",
            "8 2 1 3 8 10 7\n",
            "6\n",
            "6 8 3 1 4 7\n",
            "3\n"
          ],
          "name": "stdout"
        }
      ]
    }
  ]
}