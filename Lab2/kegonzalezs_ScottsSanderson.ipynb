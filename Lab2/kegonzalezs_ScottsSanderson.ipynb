{
  "nbformat": 4,
  "nbformat_minor": 0,
  "metadata": {
    "celltoolbar": "Slideshow",
    "kernelspec": {
      "display_name": "Python 3",
      "language": "python",
      "name": "python3"
    },
    "language_info": {
      "codemirror_mode": {
        "name": "ipython",
        "version": 3
      },
      "file_extension": ".py",
      "mimetype": "text/x-python",
      "name": "python",
      "nbconvert_exporter": "python",
      "pygments_lexer": "ipython3",
      "version": "3.5.2"
    },
    "livereveal": {
      "start_slideshow_at": "selected"
    },
    "name": "Main.ipynb",
    "colab": {
      "name": "gmolinap_ScottsSanderson.ipynb",
      "provenance": [],
      "collapsed_sections": [
        "AXZks8pYcctT",
        "xawj74Vicctf",
        "NAVfOLs4cctg"
      ]
    }
  },
  "cells": [
    {
      "cell_type": "code",
      "metadata": {
        "colab": {
          "base_uri": "https://localhost:8080/"
        },
        "id": "0LbQ6EgYfLGn",
        "outputId": "abf525a2-600a-435a-89b0-683da95cca6b"
      },
      "source": [
        "pip install -U fortran-magic"
      ],
      "execution_count": 2,
      "outputs": [
        {
          "output_type": "stream",
          "name": "stdout",
          "text": [
            "Collecting fortran-magic\n",
            "  Downloading fortran_magic-0.7-py3-none-any.whl (9.6 kB)\n",
            "Requirement already satisfied: numpy in /usr/local/lib/python3.7/dist-packages (from fortran-magic) (1.19.5)\n",
            "Requirement already satisfied: ipython in /usr/local/lib/python3.7/dist-packages (from fortran-magic) (5.5.0)\n",
            "Requirement already satisfied: pexpect in /usr/local/lib/python3.7/dist-packages (from ipython->fortran-magic) (4.8.0)\n",
            "Requirement already satisfied: pickleshare in /usr/local/lib/python3.7/dist-packages (from ipython->fortran-magic) (0.7.5)\n",
            "Requirement already satisfied: prompt-toolkit<2.0.0,>=1.0.4 in /usr/local/lib/python3.7/dist-packages (from ipython->fortran-magic) (1.0.18)\n",
            "Requirement already satisfied: simplegeneric>0.8 in /usr/local/lib/python3.7/dist-packages (from ipython->fortran-magic) (0.8.1)\n",
            "Requirement already satisfied: traitlets>=4.2 in /usr/local/lib/python3.7/dist-packages (from ipython->fortran-magic) (5.1.0)\n",
            "Requirement already satisfied: decorator in /usr/local/lib/python3.7/dist-packages (from ipython->fortran-magic) (4.4.2)\n",
            "Requirement already satisfied: pygments in /usr/local/lib/python3.7/dist-packages (from ipython->fortran-magic) (2.6.1)\n",
            "Requirement already satisfied: setuptools>=18.5 in /usr/local/lib/python3.7/dist-packages (from ipython->fortran-magic) (57.4.0)\n",
            "Requirement already satisfied: six>=1.9.0 in /usr/local/lib/python3.7/dist-packages (from prompt-toolkit<2.0.0,>=1.0.4->ipython->fortran-magic) (1.15.0)\n",
            "Requirement already satisfied: wcwidth in /usr/local/lib/python3.7/dist-packages (from prompt-toolkit<2.0.0,>=1.0.4->ipython->fortran-magic) (0.2.5)\n",
            "Requirement already satisfied: ptyprocess>=0.5 in /usr/local/lib/python3.7/dist-packages (from pexpect->ipython->fortran-magic) (0.7.0)\n",
            "Installing collected packages: fortran-magic\n",
            "Successfully installed fortran-magic-0.7\n"
          ]
        }
      ]
    },
    {
      "cell_type": "code",
      "metadata": {
        "colab": {
          "base_uri": "https://localhost:8080/",
          "height": 52
        },
        "id": "ccSyhhSlfOf2",
        "outputId": "aeaeee8a-1318-4411-9468-eae3077cf913"
      },
      "source": [
        "%reload_ext fortranmagic"
      ],
      "execution_count": 3,
      "outputs": [
        {
          "output_type": "stream",
          "name": "stderr",
          "text": [
            "/usr/local/lib/python3.7/dist-packages/fortranmagic.py:147: UserWarning: get_ipython_cache_dir has moved to the IPython.paths module since IPython 4.0.\n",
            "  self._lib_dir = os.path.join(get_ipython_cache_dir(), 'fortran')\n"
          ]
        },
        {
          "output_type": "display_data",
          "data": {
            "application/javascript": [
              "$.getScript(\"https://raw.github.com/marijnh/CodeMirror/master/mode/fortran/fortran.js\", function () {\n",
              "IPython.config.cell_magic_highlight['magic_fortran'] = {'reg':[/^%%fortran/]};});\n"
            ]
          },
          "metadata": {}
        }
      ]
    },
    {
      "cell_type": "code",
      "metadata": {
        "autoscroll": false,
        "ein.tags": "worksheet-0",
        "colab": {
          "base_uri": "https://localhost:8080/"
        },
        "id": "sQROIeCacctA",
        "outputId": "600de84b-fb41-4cfd-9b0d-e0d8e0cdf1b3"
      },
      "source": [
        "%matplotlib inline\n",
        "%load_ext fortranmagic\n",
        "\n",
        "import sys; sys.path.append('..')\n",
        "\n",
        "import pandas as pd\n",
        "import numpy as np\n",
        "import matplotlib as mpl\n",
        "import matplotlib.pyplot as plt\n",
        "import seaborn as sns\n",
        "\n",
        "mpl.rc('figure', figsize=(12, 7))\n",
        "\n",
        "ran_the_first_cell = True\n",
        "\n",
        "jan2017 = pd.to_datetime(['2017-01-03 00:00:00+00:00',\n",
        " '2017-01-04 00:00:00+00:00',\n",
        " '2017-01-05 00:00:00+00:00',\n",
        " '2017-01-06 00:00:00+00:00',\n",
        " '2017-01-09 00:00:00+00:00',\n",
        " '2017-01-10 00:00:00+00:00',\n",
        " '2017-01-11 00:00:00+00:00',\n",
        " '2017-01-12 00:00:00+00:00',\n",
        " '2017-01-13 00:00:00+00:00',\n",
        " '2017-01-17 00:00:00+00:00',\n",
        " '2017-01-18 00:00:00+00:00',\n",
        " '2017-01-19 00:00:00+00:00',\n",
        " '2017-01-20 00:00:00+00:00',\n",
        " '2017-01-23 00:00:00+00:00',\n",
        " '2017-01-24 00:00:00+00:00',\n",
        " '2017-01-25 00:00:00+00:00',\n",
        " '2017-01-26 00:00:00+00:00',\n",
        " '2017-01-27 00:00:00+00:00',\n",
        " '2017-01-30 00:00:00+00:00',\n",
        " '2017-01-31 00:00:00+00:00',\n",
        " '2017-02-01 00:00:00+00:00'])\n",
        "calendar = jan2017.values.astype('datetime64[D]')\n",
        "\n",
        "event_dates = pd.to_datetime(['2017-01-06 00:00:00+00:00', \n",
        "                             '2017-01-07 00:00:00+00:00', \n",
        "                             '2017-01-08 00:00:00+00:00']).values.astype('datetime64[D]')\n",
        "event_values = np.array([10, 15, 20])"
      ],
      "execution_count": 4,
      "outputs": [
        {
          "output_type": "stream",
          "name": "stdout",
          "text": [
            "The fortranmagic extension is already loaded. To reload it, use:\n",
            "  %reload_ext fortranmagic\n"
          ]
        }
      ]
    },
    {
      "cell_type": "markdown",
      "metadata": {
        "id": "F3ebSF6EcctL"
      },
      "source": [
        "## Outline\n",
        "\n",
        "- Built-in Data Structures\n",
        "- Numpy `array`\n",
        "- Pandas `Series`/`DataFrame`\n",
        "- Plotting and \"Real-World\" Analyses"
      ]
    },
    {
      "cell_type": "markdown",
      "metadata": {
        "id": "75UMTSBgcctM"
      },
      "source": [
        "# Data Structures"
      ]
    },
    {
      "cell_type": "markdown",
      "metadata": {
        "id": "ARtIw6RgcctN"
      },
      "source": [
        "# Lists"
      ]
    },
    {
      "cell_type": "code",
      "metadata": {
        "collapsed": true,
        "id": "ui1YDP7DcctO"
      },
      "source": [
        "assert ran_the_first_cell, \"Oh noes!\""
      ],
      "execution_count": 5,
      "outputs": []
    },
    {
      "cell_type": "code",
      "metadata": {
        "colab": {
          "base_uri": "https://localhost:8080/"
        },
        "id": "w6jtvTWrcctP",
        "outputId": "32f61715-225c-4d7b-eeac-8ab2dccd875a"
      },
      "source": [
        "l = [5,6,7,\"Buenos dias\"]\n",
        "l"
      ],
      "execution_count": 7,
      "outputs": [
        {
          "output_type": "execute_result",
          "data": {
            "text/plain": [
              "[5, 6, 7, 'Buenos dias']"
            ]
          },
          "metadata": {},
          "execution_count": 7
        }
      ]
    },
    {
      "cell_type": "code",
      "metadata": {
        "colab": {
          "base_uri": "https://localhost:8080/"
        },
        "id": "srUo_-4XcctP",
        "outputId": "fbc223ca-a229-4cf1-ef91-fd9db2204548"
      },
      "source": [
        "# Lists can be indexed like C-style arrays.\n",
        "pri = l[0]\n",
        "sec = l[1]\n",
        "print(\"Primero:\", pri)\n",
        "print(\"Segundo:\", sec)"
      ],
      "execution_count": 10,
      "outputs": [
        {
          "output_type": "stream",
          "name": "stdout",
          "text": [
            "Primero: 5\n",
            "Segundo: 6\n"
          ]
        }
      ]
    },
    {
      "cell_type": "code",
      "metadata": {
        "colab": {
          "base_uri": "https://localhost:8080/"
        },
        "id": "YwPVkDdqcctQ",
        "outputId": "138a923e-25a0-4cfc-a76f-fdec2b493e6c"
      },
      "source": [
        "# Negative indexing gives elements relative to the end of the list.\n",
        "ultimo = l[-1]\n",
        "penul = l[-2]\n",
        "print(\"Ultimo:\", ultimo)\n",
        "print(\"Penultimo:\", penul)"
      ],
      "execution_count": 11,
      "outputs": [
        {
          "output_type": "stream",
          "name": "stdout",
          "text": [
            "Ultimo: Buenos dias\n",
            "Penultimo: 7\n"
          ]
        }
      ]
    },
    {
      "cell_type": "code",
      "metadata": {
        "colab": {
          "base_uri": "https://localhost:8080/"
        },
        "id": "w55fKY_ScctQ",
        "outputId": "d6a13287-7bf2-4ac7-8bf1-ee608eba5d55"
      },
      "source": [
        "# Lists can also be sliced, which makes a copy of elements between \n",
        "# start (inclusive) and stop (exclusive)\n",
        "sublista = l[1:2]\n",
        "sublista"
      ],
      "execution_count": 12,
      "outputs": [
        {
          "output_type": "execute_result",
          "data": {
            "text/plain": [
              "[6]"
            ]
          },
          "metadata": {},
          "execution_count": 12
        }
      ]
    },
    {
      "cell_type": "code",
      "metadata": {
        "colab": {
          "base_uri": "https://localhost:8080/"
        },
        "id": "c6UW6xr1cctR",
        "outputId": "7cdbf553-5672-42d0-8826-2b1fc5b6d062"
      },
      "source": [
        "# l[:N] is equivalent to l[0:N].\n",
        "primero_segundo = l[:2]\n",
        "primero_segundo"
      ],
      "execution_count": 14,
      "outputs": [
        {
          "output_type": "execute_result",
          "data": {
            "text/plain": [
              "[5, 6]"
            ]
          },
          "metadata": {},
          "execution_count": 14
        }
      ]
    },
    {
      "cell_type": "code",
      "metadata": {
        "colab": {
          "base_uri": "https://localhost:8080/"
        },
        "id": "SrU-747ncctR",
        "outputId": "1763e0c8-fb20-42a2-cbf6-74179cf6e0d8"
      },
      "source": [
        "# l[3:] is equivalent to l[3:len(l)].\n",
        "despues_segundo = l[2:]\n",
        "despues_segundo"
      ],
      "execution_count": 15,
      "outputs": [
        {
          "output_type": "execute_result",
          "data": {
            "text/plain": [
              "[7, 'Buenos dias']"
            ]
          },
          "metadata": {},
          "execution_count": 15
        }
      ]
    },
    {
      "cell_type": "code",
      "metadata": {
        "colab": {
          "base_uri": "https://localhost:8080/"
        },
        "id": "IYtvTSNGcctS",
        "outputId": "51472a28-10be-4aa6-bf36-f95182cfdc5a"
      },
      "source": [
        "# There's also a third parameter, \"step\", which gets every Nth element.\n",
        "l = [1,2,3,4,5,6,7,8,9]\n",
        "l[2:6:1]"
      ],
      "execution_count": 16,
      "outputs": [
        {
          "output_type": "execute_result",
          "data": {
            "text/plain": [
              "[3, 4, 5, 6]"
            ]
          },
          "metadata": {},
          "execution_count": 16
        }
      ]
    },
    {
      "cell_type": "code",
      "metadata": {
        "colab": {
          "base_uri": "https://localhost:8080/"
        },
        "id": "zqa4XyBccctS",
        "outputId": "7b5f91ac-e59e-4a17-b1e3-25a5efd8889c"
      },
      "source": [
        "# This is a cute way to reverse a list.\n",
        "l[::-1]"
      ],
      "execution_count": 17,
      "outputs": [
        {
          "output_type": "execute_result",
          "data": {
            "text/plain": [
              "[9, 8, 7, 6, 5, 4, 3, 2, 1]"
            ]
          },
          "metadata": {},
          "execution_count": 17
        }
      ]
    },
    {
      "cell_type": "code",
      "metadata": {
        "colab": {
          "base_uri": "https://localhost:8080/"
        },
        "id": "5A2_4D2ncctT",
        "outputId": "69e53790-b7a4-4590-a075-ddc4fb92b3b9"
      },
      "source": [
        "# Lists can be grown efficiently (in O(1) amortized time).\n",
        "l = [1, 2, 3, 4, 5]\n",
        "print(\"Antes:\", l)\n",
        "l.append('10')\n",
        "print(\"Despues:\", l)"
      ],
      "execution_count": 18,
      "outputs": [
        {
          "output_type": "stream",
          "name": "stdout",
          "text": [
            "Antes: [1, 2, 3, 4, 5]\n",
            "Despues: [1, 2, 3, 4, 5, '10']\n"
          ]
        }
      ]
    },
    {
      "cell_type": "code",
      "metadata": {
        "colab": {
          "base_uri": "https://localhost:8080/"
        },
        "id": "qHLakHkwcctT",
        "outputId": "12ba73c1-7653-41f9-f326-e2903ed12443"
      },
      "source": [
        "# Comprehensions let us perform elementwise computations.\n",
        "l = [1,2,3,4,5,6,7,8,9]\n",
        "[x * 2 for x in l]"
      ],
      "execution_count": 19,
      "outputs": [
        {
          "output_type": "execute_result",
          "data": {
            "text/plain": [
              "[2, 4, 6, 8, 10, 12, 14, 16, 18]"
            ]
          },
          "metadata": {},
          "execution_count": 19
        }
      ]
    },
    {
      "cell_type": "markdown",
      "metadata": {
        "ein.tags": "worksheet-0",
        "id": "AXZks8pYcctT"
      },
      "source": [
        "## Review: Python Lists\n",
        "\n",
        "- Zero-indexed sequence of arbitrary Python values.\n",
        "- Slicing syntax: `l[start:stop:step]` copies elements at regular intervals from `start` to `stop`.\n",
        "- Efficient (`O(1)`) appends and removes from end.\n",
        "- Comprehension syntax: `[f(x) for x in l if cond(x)]`."
      ]
    },
    {
      "cell_type": "markdown",
      "metadata": {
        "id": "QK6CpToEcctU"
      },
      "source": [
        "# Dictionaries"
      ]
    },
    {
      "cell_type": "code",
      "metadata": {
        "id": "cZEhs6eDcctU",
        "outputId": "8e51aef1-9132-44eb-8d85-daea16c03db3"
      },
      "source": [
        "# Dictionaries are key-value mappings.\n",
        "philosophers = {'David': 'Hume', 'Immanuel': 'Kant', 'Bertrand': 'Russell'}\n",
        "philosophers"
      ],
      "execution_count": null,
      "outputs": [
        {
          "data": {
            "text/plain": [
              "{'Bertrand': 'Russell', 'David': 'Hume', 'Immanuel': 'Kant'}"
            ]
          },
          "execution_count": 13,
          "metadata": {},
          "output_type": "execute_result"
        }
      ]
    },
    {
      "cell_type": "code",
      "metadata": {
        "colab": {
          "base_uri": "https://localhost:8080/"
        },
        "id": "rlJK9AMLia-U",
        "outputId": "91e3b8be-70da-492a-d21f-2b6eeb2840dc"
      },
      "source": [
        "# Dictionaries are key-value mappings.\n",
        "Capitales = {'Antioquia': 'Medellin', 'Huila': 'Neiva', \"Valle del Cauca\":'Cali'}\n",
        "Capitales"
      ],
      "execution_count": 21,
      "outputs": [
        {
          "output_type": "execute_result",
          "data": {
            "text/plain": [
              "{'Antioquia': 'Medellin', 'Huila': 'Neiva', 'Valle del Cauca': 'Cali'}"
            ]
          },
          "metadata": {},
          "execution_count": 21
        }
      ]
    },
    {
      "cell_type": "code",
      "metadata": {
        "colab": {
          "base_uri": "https://localhost:8080/"
        },
        "id": "hhYK6SKicctU",
        "outputId": "3b1e230d-a57e-4a07-c3d0-a013746833c3"
      },
      "source": [
        "# Like lists, dictionaries are size-mutable.\n",
        "Capitales['Tolima'] = 'Ibagué'\n",
        "Capitales"
      ],
      "execution_count": 22,
      "outputs": [
        {
          "output_type": "execute_result",
          "data": {
            "text/plain": [
              "{'Antioquia': 'Medellin',\n",
              " 'Huila': 'Neiva',\n",
              " 'Tolima': 'Ibagué',\n",
              " 'Valle del Cauca': 'Cali'}"
            ]
          },
          "metadata": {},
          "execution_count": 22
        }
      ]
    },
    {
      "cell_type": "code",
      "metadata": {
        "colab": {
          "base_uri": "https://localhost:8080/"
        },
        "id": "uQpEZp73cctU",
        "outputId": "47eae430-c9c4-4f1c-ebd0-913c6fe7ace3"
      },
      "source": [
        "del Capitales['Tolima']\n",
        "Capitales"
      ],
      "execution_count": 23,
      "outputs": [
        {
          "output_type": "execute_result",
          "data": {
            "text/plain": [
              "{'Antioquia': 'Medellin', 'Huila': 'Neiva', 'Valle del Cauca': 'Cali'}"
            ]
          },
          "metadata": {},
          "execution_count": 23
        }
      ]
    },
    {
      "cell_type": "code",
      "metadata": {
        "colab": {
          "base_uri": "https://localhost:8080/",
          "height": 185
        },
        "id": "gIgmxA4mcctV",
        "outputId": "3f58535d-7ff2-4fd4-a429-93b784391b32"
      },
      "source": [
        "# No slicing.\n",
        "Capitales['Tolima':'Ibague']"
      ],
      "execution_count": 25,
      "outputs": [
        {
          "output_type": "error",
          "ename": "TypeError",
          "evalue": "ignored",
          "traceback": [
            "\u001b[0;31m---------------------------------------------------------------------------\u001b[0m",
            "\u001b[0;31mTypeError\u001b[0m                                 Traceback (most recent call last)",
            "\u001b[0;32m<ipython-input-25-13275afff5c9>\u001b[0m in \u001b[0;36m<module>\u001b[0;34m()\u001b[0m\n\u001b[1;32m      1\u001b[0m \u001b[0;31m# No slicing.\u001b[0m\u001b[0;34m\u001b[0m\u001b[0;34m\u001b[0m\u001b[0;34m\u001b[0m\u001b[0m\n\u001b[0;32m----> 2\u001b[0;31m \u001b[0mCapitales\u001b[0m\u001b[0;34m[\u001b[0m\u001b[0;34m'Tolima'\u001b[0m\u001b[0;34m:\u001b[0m\u001b[0;34m'Ibague'\u001b[0m\u001b[0;34m]\u001b[0m\u001b[0;34m\u001b[0m\u001b[0;34m\u001b[0m\u001b[0m\n\u001b[0m",
            "\u001b[0;31mTypeError\u001b[0m: unhashable type: 'slice'"
          ]
        }
      ]
    },
    {
      "cell_type": "markdown",
      "metadata": {
        "ein.tags": "worksheet-0",
        "id": "Fwmrwp-NcctV"
      },
      "source": [
        "## Review: Python Dictionaries\n",
        "\n",
        "- Unordered key-value mapping from (almost) arbitrary keys to arbitrary values.\n",
        "- Efficient (`O(1)`) lookup, insertion, and deletion.\n",
        "- No slicing (would require a notion of order)."
      ]
    },
    {
      "cell_type": "markdown",
      "metadata": {
        "id": "LrhSPffwcctV"
      },
      "source": [
        "<center><img src=\"images/pacino.gif\" alt=\"Drawing\" style=\"width: 100%;\"/></center>\n"
      ]
    },
    {
      "cell_type": "code",
      "metadata": {
        "collapsed": true,
        "id": "-FseuwEpcctV"
      },
      "source": [
        "# Suppose we have some matrices...\n",
        "c = [[1, 2, 3],\n",
        "     [2, 3, 4],\n",
        "     [5, 6, 7],\n",
        "     [1, 1, 1]]\n",
        "\n",
        "d = [[1, 2, 3, 4],\n",
        "     [2, 3, 4, 5]]"
      ],
      "execution_count": 37,
      "outputs": []
    },
    {
      "cell_type": "code",
      "metadata": {
        "collapsed": true,
        "id": "nbHs4ZjekgVs"
      },
      "source": [
        "# Suppose we have some matrices...\n",
        "a = [[4,3,2],\n",
        "     [5,6,8],\n",
        "     [1,9,7]]\n",
        "\n",
        "b = [[1, 2, 3, 4],\n",
        "     [2, 3, 4, 5]]"
      ],
      "execution_count": 38,
      "outputs": []
    },
    {
      "cell_type": "code",
      "metadata": {
        "collapsed": true,
        "id": "-dg32W3bcctW"
      },
      "source": [
        "def matmul(A, B):\n",
        "    \"\"\"Multiply matrix A by matrix B.\"\"\"\n",
        "    rows_out = len(A)\n",
        "    cols_out = len(B[0])\n",
        "    out = [[0 for col in range(cols_out)] for row in range(rows_out)]\n",
        "    \n",
        "    for i in range(rows_out):\n",
        "        for j in range(cols_out):\n",
        "            for k in range(len(B)):\n",
        "                out[i][j] += A[i][k] * B[k][j]\n",
        "    return out"
      ],
      "execution_count": 39,
      "outputs": []
    },
    {
      "cell_type": "code",
      "metadata": {
        "colab": {
          "base_uri": "https://localhost:8080/"
        },
        "id": "hqYGzUEecctZ",
        "outputId": "e416ecc0-da19-4034-90b2-f4ac878c0cf6"
      },
      "source": [
        "%%time\n",
        "\n",
        "matmul(a, b)"
      ],
      "execution_count": 40,
      "outputs": [
        {
          "output_type": "stream",
          "name": "stdout",
          "text": [
            "CPU times: user 41 µs, sys: 0 ns, total: 41 µs\n",
            "Wall time: 45.5 µs\n"
          ]
        },
        {
          "output_type": "execute_result",
          "data": {
            "text/plain": [
              "[[10, 17, 24, 31], [17, 28, 39, 50], [19, 29, 39, 49]]"
            ]
          },
          "metadata": {},
          "execution_count": 40
        }
      ]
    },
    {
      "cell_type": "code",
      "metadata": {
        "colab": {
          "base_uri": "https://localhost:8080/"
        },
        "id": "Ci3E2VeSccta",
        "outputId": "9f74ee83-f4b8-4777-f54c-5d58aa8ac381"
      },
      "source": [
        "import random\n",
        "def random_matrix(m, n):\n",
        "    out = []\n",
        "    for row in range(m):\n",
        "        out.append([random.random() for _ in range(n)])\n",
        "    return out\n",
        "\n",
        "randm = random_matrix(2, 3)\n",
        "randm"
      ],
      "execution_count": 41,
      "outputs": [
        {
          "output_type": "execute_result",
          "data": {
            "text/plain": [
              "[[0.9919601238527984, 0.6399202143434216, 0.9283775820564306],\n",
              " [0.13612599315787832, 0.7006748082477136, 0.9475193768348104]]"
            ]
          },
          "metadata": {},
          "execution_count": 41
        }
      ]
    },
    {
      "cell_type": "code",
      "metadata": {
        "scrolled": true,
        "colab": {
          "base_uri": "https://localhost:8080/"
        },
        "id": "-kRcl-gsccta",
        "outputId": "dc26122d-f940-4492-c992-2a2c02a1d39b"
      },
      "source": [
        "%%time\n",
        "randa = random_matrix(600, 100)\n",
        "randb = random_matrix(100, 600)\n",
        "x = matmul(randa, randb)"
      ],
      "execution_count": 42,
      "outputs": [
        {
          "output_type": "stream",
          "name": "stdout",
          "text": [
            "CPU times: user 8.07 s, sys: 9.08 ms, total: 8.08 s\n",
            "Wall time: 8.1 s\n"
          ]
        }
      ]
    },
    {
      "cell_type": "code",
      "metadata": {
        "collapsed": true,
        "id": "m1MVj9dUccta"
      },
      "source": [
        "# Maybe that's not that bad?  Let's try a simpler case.\n",
        "def python_dot_product(xs, ys):\n",
        "    return sum(x * y for x, y in zip(xs, ys))"
      ],
      "execution_count": 43,
      "outputs": []
    },
    {
      "cell_type": "code",
      "metadata": {
        "collapsed": true,
        "id": "2BK-ex2mccta"
      },
      "source": [
        "%%fortran\n",
        "subroutine fortran_dot_product(xs, ys, result)\n",
        "    double precision, intent(in) :: xs(:)\n",
        "    double precision, intent(in) :: ys(:)\n",
        "    double precision, intent(out) :: result\n",
        "    \n",
        "    result = sum(xs * ys)\n",
        "end"
      ],
      "execution_count": 44,
      "outputs": []
    },
    {
      "cell_type": "code",
      "metadata": {
        "collapsed": true,
        "id": "f6kciwc5ccta"
      },
      "source": [
        "list_data = [float(i) for i in range(200000)]\n",
        "array_data = np.array(list_data)"
      ],
      "execution_count": 45,
      "outputs": []
    },
    {
      "cell_type": "code",
      "metadata": {
        "colab": {
          "base_uri": "https://localhost:8080/"
        },
        "id": "KgKKBGPzcctb",
        "outputId": "b1898b12-3608-4edc-a503-bb5d532f7d70"
      },
      "source": [
        "%%time\n",
        "python_dot_product(list_data, list_data)"
      ],
      "execution_count": 46,
      "outputs": [
        {
          "output_type": "stream",
          "name": "stdout",
          "text": [
            "CPU times: user 15.6 ms, sys: 0 ns, total: 15.6 ms\n",
            "Wall time: 15.6 ms\n"
          ]
        },
        {
          "output_type": "execute_result",
          "data": {
            "text/plain": [
              "2666646666700000.0"
            ]
          },
          "metadata": {},
          "execution_count": 46
        }
      ]
    },
    {
      "cell_type": "code",
      "metadata": {
        "colab": {
          "base_uri": "https://localhost:8080/"
        },
        "id": "C9ERO-WJcctb",
        "outputId": "9c8a12b4-c1c8-47d3-ea05-2c2f195c91a7"
      },
      "source": [
        "%%time\n",
        "fortran_dot_product(array_data, array_data)"
      ],
      "execution_count": 47,
      "outputs": [
        {
          "output_type": "stream",
          "name": "stdout",
          "text": [
            "CPU times: user 364 µs, sys: 0 ns, total: 364 µs\n",
            "Wall time: 404 µs\n"
          ]
        },
        {
          "output_type": "execute_result",
          "data": {
            "text/plain": [
              "2666646666700000.0"
            ]
          },
          "metadata": {},
          "execution_count": 47
        }
      ]
    },
    {
      "cell_type": "markdown",
      "metadata": {
        "id": "_MvffiJUcctb"
      },
      "source": [
        "## Why is the Python Version so Much Slower?"
      ]
    },
    {
      "cell_type": "code",
      "metadata": {
        "colab": {
          "base_uri": "https://localhost:8080/"
        },
        "id": "sytbHaFJcctb",
        "outputId": "d96aa13d-285e-467b-dc83-ec1c4c8bb5df"
      },
      "source": [
        "# Dynamic typing.\n",
        "def mul_elemwise(xs, ys):\n",
        "    return [x * y for x, y in zip(xs, ys)]\n",
        "\n",
        "mul_elemwise([1, 2, 3, 4], [1, 2 + 0j, 3.0, 'four'])\n",
        "#[type(x) for x in _]"
      ],
      "execution_count": 49,
      "outputs": [
        {
          "output_type": "execute_result",
          "data": {
            "text/plain": [
              "[1, (4+0j), 9.0, 'fourfourfourfour']"
            ]
          },
          "metadata": {},
          "execution_count": 49
        }
      ]
    },
    {
      "cell_type": "code",
      "metadata": {
        "colab": {
          "base_uri": "https://localhost:8080/"
        },
        "id": "81FBK20lmO0n",
        "outputId": "e614bf3d-b050-459b-cb80-10cfea146e43"
      },
      "source": [
        "# Dynamic typing.\n",
        "def mul_elemwise(xs, ys):\n",
        "    return [x * y for x, y in zip(xs, ys)]\n",
        "\n",
        "mul_elemwise([5,6,7,8], [2, 3 + 0j, 3.0, 'four'])\n",
        "#[type(x) for x in _]"
      ],
      "execution_count": 50,
      "outputs": [
        {
          "output_type": "execute_result",
          "data": {
            "text/plain": [
              "[10, (18+0j), 21.0, 'fourfourfourfourfourfourfourfour']"
            ]
          },
          "metadata": {},
          "execution_count": 50
        }
      ]
    },
    {
      "cell_type": "code",
      "metadata": {
        "colab": {
          "base_uri": "https://localhost:8080/"
        },
        "id": "sfTwHiyBcctc",
        "outputId": "d7c60250-9262-44e6-ec8b-a0dbe29fba30"
      },
      "source": [
        "# Interpretation overhead.\n",
        "source_code = 'a + b * c'\n",
        "bytecode = compile(source_code, '', 'eval')\n",
        "import dis; dis.dis(bytecode)"
      ],
      "execution_count": 51,
      "outputs": [
        {
          "output_type": "stream",
          "name": "stdout",
          "text": [
            "  1           0 LOAD_NAME                0 (a)\n",
            "              2 LOAD_NAME                1 (b)\n",
            "              4 LOAD_NAME                2 (c)\n",
            "              6 BINARY_MULTIPLY\n",
            "              8 BINARY_ADD\n",
            "             10 RETURN_VALUE\n"
          ]
        }
      ]
    },
    {
      "cell_type": "markdown",
      "metadata": {
        "id": "LjTSoyoKcctc"
      },
      "source": [
        "## Why is the Python Version so Slow?\n",
        "- Dynamic typing means that every single operation requires dispatching on the input type.\n",
        "- Having an interpreter means that every instruction is fetched and dispatched at runtime.\n",
        "- Other overheads:\n",
        "  - Arbitrary-size integers.\n",
        "  - Reference-counted garbage collection."
      ]
    },
    {
      "cell_type": "markdown",
      "metadata": {
        "id": "o5LqnpZxcctc"
      },
      "source": [
        "> This is the paradox that we have to work with when we're doing scientific or numerically-intensive Python. What makes Python fast for development -- this high-level, interpreted, and dynamically-typed aspect of the language -- is exactly what makes it slow for code execution.\n",
        "\n",
        "- Jake VanderPlas, [*Losing Your Loops: Fast Numerical Computing with NumPy*](https://www.youtube.com/watch?v=EEUXKG97YRw)"
      ]
    },
    {
      "cell_type": "markdown",
      "metadata": {
        "id": "IdLDlVbvcctc"
      },
      "source": [
        "# What Do We Do?"
      ]
    },
    {
      "cell_type": "markdown",
      "metadata": {
        "id": "1UJFAv-Icctc"
      },
      "source": [
        "- Python is slow for numerical computation because it performs dynamic dispatch on every operation we perform..."
      ]
    },
    {
      "cell_type": "markdown",
      "metadata": {
        "collapsed": true,
        "id": "TGGppr-Kcctc"
      },
      "source": [
        "- ...but often, we just want to do the same thing over and over in a loop!"
      ]
    },
    {
      "cell_type": "markdown",
      "metadata": {
        "id": "pDQuBsuBcctd"
      },
      "source": [
        "- If we don't need Python's dynamicism, we don't want to pay (much) for it."
      ]
    },
    {
      "cell_type": "markdown",
      "metadata": {
        "id": "wFLeJHKHcctd"
      },
      "source": [
        "- **Idea:** Dispatch **once per operation** instead of **once per element**."
      ]
    },
    {
      "cell_type": "code",
      "metadata": {
        "id": "ymH13oEDcctd",
        "outputId": "fd9d4610-12c4-458b-d122-8ec0bb926598"
      },
      "source": [
        "import numpy as np\n",
        "\n",
        "data = np.array([1, 2, 3, 4])\n",
        "data"
      ],
      "execution_count": null,
      "outputs": [
        {
          "data": {
            "text/plain": [
              "array([1, 2, 3, 4])"
            ]
          },
          "execution_count": 29,
          "metadata": {},
          "output_type": "execute_result"
        }
      ]
    },
    {
      "cell_type": "code",
      "metadata": {
        "colab": {
          "base_uri": "https://localhost:8080/"
        },
        "id": "tzgpsRPCmr5Y",
        "outputId": "90434012-b40f-410c-8e5b-5fcba2b4176f"
      },
      "source": [
        "import numpy as np\n",
        "\n",
        "datos = np.array([5,6,7,8])\n",
        "datos"
      ],
      "execution_count": 52,
      "outputs": [
        {
          "output_type": "execute_result",
          "data": {
            "text/plain": [
              "array([5, 6, 7, 8])"
            ]
          },
          "metadata": {},
          "execution_count": 52
        }
      ]
    },
    {
      "cell_type": "code",
      "metadata": {
        "id": "hTaVYFm7cctd",
        "outputId": "f0bf0f8b-cbda-42eb-d82a-9d5d44f988ac"
      },
      "source": [
        "data + data"
      ],
      "execution_count": null,
      "outputs": [
        {
          "data": {
            "text/plain": [
              "array([2, 4, 6, 8])"
            ]
          },
          "execution_count": 30,
          "metadata": {},
          "output_type": "execute_result"
        }
      ]
    },
    {
      "cell_type": "code",
      "metadata": {
        "colab": {
          "base_uri": "https://localhost:8080/"
        },
        "id": "hWDMDHEzmzah",
        "outputId": "906885c4-7a4c-4889-cbbc-9e075c2765ed"
      },
      "source": [
        "datos+datos"
      ],
      "execution_count": 53,
      "outputs": [
        {
          "output_type": "execute_result",
          "data": {
            "text/plain": [
              "array([10, 12, 14, 16])"
            ]
          },
          "metadata": {},
          "execution_count": 53
        }
      ]
    },
    {
      "cell_type": "code",
      "metadata": {
        "colab": {
          "base_uri": "https://localhost:8080/"
        },
        "id": "GZg05TB9cctd",
        "outputId": "91c3f2c2-03b1-464e-fc92-e53f11deffab"
      },
      "source": [
        "%%time\n",
        "# Naive dot product\n",
        "(array_data * array_data).sum()"
      ],
      "execution_count": 54,
      "outputs": [
        {
          "output_type": "stream",
          "name": "stdout",
          "text": [
            "CPU times: user 1.39 ms, sys: 1.14 ms, total: 2.53 ms\n",
            "Wall time: 3.84 ms\n"
          ]
        },
        {
          "output_type": "execute_result",
          "data": {
            "text/plain": [
              "2666646666700000.0"
            ]
          },
          "metadata": {},
          "execution_count": 54
        }
      ]
    },
    {
      "cell_type": "code",
      "metadata": {
        "colab": {
          "base_uri": "https://localhost:8080/"
        },
        "id": "0MwhPKqVcctd",
        "outputId": "45e15c5d-1f05-4e1a-89a0-f0c1b67ab264"
      },
      "source": [
        "%%time\n",
        "# Built-in dot product.\n",
        "array_data.dot(array_data)"
      ],
      "execution_count": 55,
      "outputs": [
        {
          "output_type": "stream",
          "name": "stdout",
          "text": [
            "CPU times: user 1.17 ms, sys: 1.03 ms, total: 2.2 ms\n",
            "Wall time: 1.41 ms\n"
          ]
        },
        {
          "output_type": "execute_result",
          "data": {
            "text/plain": [
              "2666646666700000.0"
            ]
          },
          "metadata": {},
          "execution_count": 55
        }
      ]
    },
    {
      "cell_type": "code",
      "metadata": {
        "id": "-ChyWxIKcctd",
        "outputId": "bbd18326-bcab-4064-9823-4ed89e3a10e4"
      },
      "source": [
        "%%time\n",
        "fortran_dot_product(array_data, array_data)"
      ],
      "execution_count": null,
      "outputs": [
        {
          "name": "stdout",
          "output_type": "stream",
          "text": [
            "CPU times: user 0 ns, sys: 0 ns, total: 0 ns\n",
            "Wall time: 313 µs\n"
          ]
        },
        {
          "data": {
            "text/plain": [
              "333328333350000.0"
            ]
          },
          "execution_count": 33,
          "metadata": {},
          "output_type": "execute_result"
        }
      ]
    },
    {
      "cell_type": "code",
      "metadata": {
        "id": "LxsH0chnccte"
      },
      "source": [
        "# Numpy won't allow us to write a string into an int array.\n",
        "data[0] = \"foo\""
      ],
      "execution_count": null,
      "outputs": []
    },
    {
      "cell_type": "code",
      "metadata": {
        "collapsed": true,
        "id": "sLN8JFblccte"
      },
      "source": [
        "# We also can't grow an array once it's created.\n",
        "datos.append(3)"
      ],
      "execution_count": null,
      "outputs": []
    },
    {
      "cell_type": "code",
      "metadata": {
        "collapsed": true,
        "colab": {
          "base_uri": "https://localhost:8080/"
        },
        "id": "dMZkYr4Uccte",
        "outputId": "1de176d6-7ec2-46e6-c180-797e393c0e40"
      },
      "source": [
        "# We **can** reshape an array though.\n",
        "two_by_two = datos.reshape(2, 2)\n",
        "two_by_two"
      ],
      "execution_count": 62,
      "outputs": [
        {
          "output_type": "execute_result",
          "data": {
            "text/plain": [
              "array([[5, 6],\n",
              "       [7, 8]])"
            ]
          },
          "metadata": {},
          "execution_count": 62
        }
      ]
    },
    {
      "cell_type": "code",
      "metadata": {
        "collapsed": true,
        "colab": {
          "base_uri": "https://localhost:8080/"
        },
        "id": "zsDUA1S9oVDM",
        "outputId": "ced2f908-4d8c-4eee-b62d-364e36447b3b"
      },
      "source": [
        "# We **can** reshape an array though.\n",
        "dos_x_dos = datos.reshape(2,2)\n",
        "dos_x_dos"
      ],
      "execution_count": 64,
      "outputs": [
        {
          "output_type": "execute_result",
          "data": {
            "text/plain": [
              "array([[5, 6],\n",
              "       [7, 8]])"
            ]
          },
          "metadata": {},
          "execution_count": 64
        }
      ]
    },
    {
      "cell_type": "markdown",
      "metadata": {
        "id": "US1YqRH4ccte"
      },
      "source": [
        "Numpy arrays are:\n",
        "\n",
        "- Fixed-type"
      ]
    },
    {
      "cell_type": "markdown",
      "metadata": {
        "id": "2vnF6mZAccte"
      },
      "source": [
        "- Size-immutable"
      ]
    },
    {
      "cell_type": "markdown",
      "metadata": {
        "id": "JHdjrayRccte"
      },
      "source": [
        "- Multi-dimensional"
      ]
    },
    {
      "cell_type": "markdown",
      "metadata": {
        "id": "Al6FSrO9ccte"
      },
      "source": [
        "- Fast\\*"
      ]
    },
    {
      "cell_type": "markdown",
      "metadata": {
        "id": "BFsM93mNcctf"
      },
      "source": [
        "\\* If you use them correctly."
      ]
    },
    {
      "cell_type": "markdown",
      "metadata": {
        "id": "Mu2nZvJDcctf"
      },
      "source": [
        "# What's in an Array?"
      ]
    },
    {
      "cell_type": "code",
      "metadata": {
        "id": "hf_P7cdhcctf",
        "outputId": "1cd170ee-3665-4568-e931-9a9a21a6f334"
      },
      "source": [
        "arr = np.array([1, 2, 3, 4, 5, 6], dtype='int16').reshape(2, 3)\n",
        "print(\"Array:\\n\", arr, sep='')\n",
        "print(\"===========\")\n",
        "print(\"DType:\", arr.dtype)\n",
        "print(\"Shape:\", arr.shape)\n",
        "print(\"Strides:\", arr.strides)\n",
        "print(\"Data:\", arr.data.tobytes())"
      ],
      "execution_count": null,
      "outputs": [
        {
          "name": "stdout",
          "output_type": "stream",
          "text": [
            "Array:\n",
            "[[1 2 3]\n",
            " [4 5 6]]\n",
            "===========\n",
            "DType: int16\n",
            "Shape: (2, 3)\n",
            "Strides: (6, 2)\n",
            "Data: b'\\x01\\x00\\x02\\x00\\x03\\x00\\x04\\x00\\x05\\x00\\x06\\x00'\n"
          ]
        }
      ]
    },
    {
      "cell_type": "code",
      "metadata": {
        "colab": {
          "base_uri": "https://localhost:8080/"
        },
        "id": "atE3tOpopXl1",
        "outputId": "023c1daa-f90e-4b4e-870a-ddee1040306a"
      },
      "source": [
        "arr = np.array([4,6,7,3,6,8,6,3,1], dtype='int16').reshape(3, 3)\n",
        "print(\"Arreglo:\\n\", arr, sep='')\n",
        "print(\"===========\")\n",
        "print(\"DType:\", arr.dtype)\n",
        "print(\"Matriz:\", arr.shape)\n",
        "print(\"Strides:\", arr.strides)\n",
        "print(\"Datos:\", arr.data.tobytes())"
      ],
      "execution_count": 66,
      "outputs": [
        {
          "output_type": "stream",
          "name": "stdout",
          "text": [
            "Arreglo:\n",
            "[[4 6 7]\n",
            " [3 6 8]\n",
            " [6 3 1]]\n",
            "===========\n",
            "DType: int16\n",
            "Matriz: (3, 3)\n",
            "Strides: (6, 2)\n",
            "Datos: b'\\x04\\x00\\x06\\x00\\x07\\x00\\x03\\x00\\x06\\x00\\x08\\x00\\x06\\x00\\x03\\x00\\x01\\x00'\n"
          ]
        }
      ]
    },
    {
      "cell_type": "markdown",
      "metadata": {
        "id": "xawj74Vicctf"
      },
      "source": [
        "# Core Operations\n",
        "\n",
        "- Vectorized **ufuncs** for elementwise operations.\n",
        "- Fancy indexing and masking for selection and filtering.\n",
        "- Aggregations across axes.\n",
        "- Broadcasting"
      ]
    },
    {
      "cell_type": "markdown",
      "metadata": {
        "id": "D0l4XV1occtf"
      },
      "source": [
        "# UFuncs\n",
        "\n",
        "UFuncs (universal functions) are functions that operate elementwise on one or more arrays."
      ]
    },
    {
      "cell_type": "code",
      "metadata": {
        "id": "7libwo9Hcctf",
        "outputId": "a05f0c3b-3bec-4526-fd7d-3ba77de41c51"
      },
      "source": [
        "data = np.arange(15).reshape(3, 5)\n",
        "data"
      ],
      "execution_count": null,
      "outputs": [
        {
          "data": {
            "text/plain": [
              "array([[ 0,  1,  2,  3,  4],\n",
              "       [ 5,  6,  7,  8,  9],\n",
              "       [10, 11, 12, 13, 14]])"
            ]
          },
          "execution_count": 36,
          "metadata": {},
          "output_type": "execute_result"
        }
      ]
    },
    {
      "cell_type": "code",
      "metadata": {
        "colab": {
          "base_uri": "https://localhost:8080/"
        },
        "id": "fm0K6xg6qCw_",
        "outputId": "583075a6-c312-4ecd-d91b-525ff7cbfa2b"
      },
      "source": [
        "datos = np.arange(30).reshape(10, 3)\n",
        "datos"
      ],
      "execution_count": 68,
      "outputs": [
        {
          "output_type": "execute_result",
          "data": {
            "text/plain": [
              "array([[ 0,  1,  2],\n",
              "       [ 3,  4,  5],\n",
              "       [ 6,  7,  8],\n",
              "       [ 9, 10, 11],\n",
              "       [12, 13, 14],\n",
              "       [15, 16, 17],\n",
              "       [18, 19, 20],\n",
              "       [21, 22, 23],\n",
              "       [24, 25, 26],\n",
              "       [27, 28, 29]])"
            ]
          },
          "metadata": {},
          "execution_count": 68
        }
      ]
    },
    {
      "cell_type": "code",
      "metadata": {
        "colab": {
          "base_uri": "https://localhost:8080/"
        },
        "id": "8r09BlYtcctf",
        "outputId": "b592f9a1-4aab-41bd-e05f-128a2bd225a1"
      },
      "source": [
        "# Binary operators.\n",
        "datos * datos"
      ],
      "execution_count": 69,
      "outputs": [
        {
          "output_type": "execute_result",
          "data": {
            "text/plain": [
              "array([[  0,   1,   4],\n",
              "       [  9,  16,  25],\n",
              "       [ 36,  49,  64],\n",
              "       [ 81, 100, 121],\n",
              "       [144, 169, 196],\n",
              "       [225, 256, 289],\n",
              "       [324, 361, 400],\n",
              "       [441, 484, 529],\n",
              "       [576, 625, 676],\n",
              "       [729, 784, 841]])"
            ]
          },
          "metadata": {},
          "execution_count": 69
        }
      ]
    },
    {
      "cell_type": "code",
      "metadata": {
        "colab": {
          "base_uri": "https://localhost:8080/"
        },
        "id": "mk9dQf_occtg",
        "outputId": "4fa30607-714b-49bb-f0c4-b936474465a5"
      },
      "source": [
        "# Unary functions.\n",
        "np.sqrt(datos)"
      ],
      "execution_count": 70,
      "outputs": [
        {
          "output_type": "execute_result",
          "data": {
            "text/plain": [
              "array([[0.        , 1.        , 1.41421356],\n",
              "       [1.73205081, 2.        , 2.23606798],\n",
              "       [2.44948974, 2.64575131, 2.82842712],\n",
              "       [3.        , 3.16227766, 3.31662479],\n",
              "       [3.46410162, 3.60555128, 3.74165739],\n",
              "       [3.87298335, 4.        , 4.12310563],\n",
              "       [4.24264069, 4.35889894, 4.47213595],\n",
              "       [4.58257569, 4.69041576, 4.79583152],\n",
              "       [4.89897949, 5.        , 5.09901951],\n",
              "       [5.19615242, 5.29150262, 5.38516481]])"
            ]
          },
          "metadata": {},
          "execution_count": 70
        }
      ]
    },
    {
      "cell_type": "code",
      "metadata": {
        "id": "m_3mdFImcctg",
        "outputId": "8c2f974b-1de5-4877-ef4d-d5a8048b8775"
      },
      "source": [
        "# Comparison operations\n",
        "(data % 3) == 0"
      ],
      "execution_count": null,
      "outputs": [
        {
          "data": {
            "text/plain": [
              "array([[ True, False, False,  True, False],\n",
              "       [False,  True, False, False,  True],\n",
              "       [False, False,  True, False, False]], dtype=bool)"
            ]
          },
          "execution_count": 39,
          "metadata": {},
          "output_type": "execute_result"
        }
      ]
    },
    {
      "cell_type": "code",
      "metadata": {
        "colab": {
          "base_uri": "https://localhost:8080/"
        },
        "id": "fs0VgfeiqjSx",
        "outputId": "9d9de8c7-c96a-4c9b-9c68-ce5ea948191d"
      },
      "source": [
        "# Comparison operations\n",
        "(datos % 2) == 0"
      ],
      "execution_count": 73,
      "outputs": [
        {
          "output_type": "execute_result",
          "data": {
            "text/plain": [
              "array([[ True, False,  True],\n",
              "       [False,  True, False],\n",
              "       [ True, False,  True],\n",
              "       [False,  True, False],\n",
              "       [ True, False,  True],\n",
              "       [False,  True, False],\n",
              "       [ True, False,  True],\n",
              "       [False,  True, False],\n",
              "       [ True, False,  True],\n",
              "       [False,  True, False]])"
            ]
          },
          "metadata": {},
          "execution_count": 73
        }
      ]
    },
    {
      "cell_type": "code",
      "metadata": {
        "id": "_LhJg-cXcctg",
        "outputId": "9db74d73-30df-43a4-97d2-a65159f289b5"
      },
      "source": [
        "# Boolean combinators.\n",
        "((data % 2) == 0) & ((data % 3) == 0)"
      ],
      "execution_count": null,
      "outputs": [
        {
          "data": {
            "text/plain": [
              "array([[ True, False, False, False, False],\n",
              "       [False,  True, False, False, False],\n",
              "       [False, False,  True, False, False]], dtype=bool)"
            ]
          },
          "execution_count": 40,
          "metadata": {},
          "output_type": "execute_result"
        }
      ]
    },
    {
      "cell_type": "code",
      "metadata": {
        "colab": {
          "base_uri": "https://localhost:8080/"
        },
        "id": "Bj5z3LTuqpcg",
        "outputId": "2d56286a-f1e5-46fe-e5a5-d88695796951"
      },
      "source": [
        "# Boolean combinators.\n",
        "((datos % 2) == 0) & ((datos % 3) == 0)"
      ],
      "execution_count": 74,
      "outputs": [
        {
          "output_type": "execute_result",
          "data": {
            "text/plain": [
              "array([[ True, False, False],\n",
              "       [False, False, False],\n",
              "       [ True, False, False],\n",
              "       [False, False, False],\n",
              "       [ True, False, False],\n",
              "       [False, False, False],\n",
              "       [ True, False, False],\n",
              "       [False, False, False],\n",
              "       [ True, False, False],\n",
              "       [False, False, False]])"
            ]
          },
          "metadata": {},
          "execution_count": 74
        }
      ]
    },
    {
      "cell_type": "code",
      "metadata": {
        "id": "v6sUzGB_cctg",
        "outputId": "0b64adfb-0297-46be-accd-95746783cf71"
      },
      "source": [
        "# as of python 3.5, @ is matrix-multiply\n",
        "data @ data.T"
      ],
      "execution_count": null,
      "outputs": [
        {
          "data": {
            "text/plain": [
              "array([[ 30,  80, 130],\n",
              "       [ 80, 255, 430],\n",
              "       [130, 430, 730]])"
            ]
          },
          "execution_count": 41,
          "metadata": {},
          "output_type": "execute_result"
        }
      ]
    },
    {
      "cell_type": "code",
      "metadata": {
        "colab": {
          "base_uri": "https://localhost:8080/"
        },
        "id": "rRInvnDZrRVM",
        "outputId": "79f6b4e1-21e5-43f1-c1cc-9c52daa0ee62"
      },
      "source": [
        "# as of python 3.5, @ is matrix-multiply\n",
        "datos @ datos.T"
      ],
      "execution_count": 75,
      "outputs": [
        {
          "output_type": "execute_result",
          "data": {
            "text/plain": [
              "array([[   5,   14,   23,   32,   41,   50,   59,   68,   77,   86],\n",
              "       [  14,   50,   86,  122,  158,  194,  230,  266,  302,  338],\n",
              "       [  23,   86,  149,  212,  275,  338,  401,  464,  527,  590],\n",
              "       [  32,  122,  212,  302,  392,  482,  572,  662,  752,  842],\n",
              "       [  41,  158,  275,  392,  509,  626,  743,  860,  977, 1094],\n",
              "       [  50,  194,  338,  482,  626,  770,  914, 1058, 1202, 1346],\n",
              "       [  59,  230,  401,  572,  743,  914, 1085, 1256, 1427, 1598],\n",
              "       [  68,  266,  464,  662,  860, 1058, 1256, 1454, 1652, 1850],\n",
              "       [  77,  302,  527,  752,  977, 1202, 1427, 1652, 1877, 2102],\n",
              "       [  86,  338,  590,  842, 1094, 1346, 1598, 1850, 2102, 2354]])"
            ]
          },
          "metadata": {},
          "execution_count": 75
        }
      ]
    },
    {
      "cell_type": "markdown",
      "metadata": {
        "id": "NAVfOLs4cctg"
      },
      "source": [
        "# UFuncs Review\n",
        "\n",
        "- UFuncs provide efficient elementwise operations applied across one or more arrays.\n",
        "- Arithmetic Operators (`+`, `*`, `/`)\n",
        "- Comparisons (`==`, `>`, `!=`)\n",
        "- Boolean Operators (`&`, `|`, `^`)\n",
        "- Trigonometric Functions (`sin`, `cos`)\n",
        "- Transcendental Functions (`exp`, `log`)"
      ]
    },
    {
      "cell_type": "markdown",
      "metadata": {
        "id": "NMOtelgvcctg"
      },
      "source": [
        "# Selections"
      ]
    },
    {
      "cell_type": "markdown",
      "metadata": {
        "id": "gi5Ln0HEcctg"
      },
      "source": [
        "We often want to perform an operation on just a subset of our data."
      ]
    },
    {
      "cell_type": "code",
      "metadata": {
        "colab": {
          "base_uri": "https://localhost:8080/"
        },
        "id": "XX2vYnyGccth",
        "outputId": "9952f949-3d20-4007-cfd8-e172c0ee39c1"
      },
      "source": [
        "sines = np.sin(np.linspace(0, 2 * np.pi, num=10))\n",
        "cosines = np.sin(np.linspace(0, np.pi, num=10))\n",
        "\n",
        "print(\"Senos\", sines)\n",
        "\n",
        "print(\"Cosenos\", cosines)"
      ],
      "execution_count": 116,
      "outputs": [
        {
          "output_type": "stream",
          "name": "stdout",
          "text": [
            "Senos [ 0.00000000e+00  6.42787610e-01  9.84807753e-01  8.66025404e-01\n",
            "  3.42020143e-01 -3.42020143e-01 -8.66025404e-01 -9.84807753e-01\n",
            " -6.42787610e-01 -2.44929360e-16]\n",
            "Cosenos [0.00000000e+00 3.42020143e-01 6.42787610e-01 8.66025404e-01\n",
            " 9.84807753e-01 9.84807753e-01 8.66025404e-01 6.42787610e-01\n",
            " 3.42020143e-01 1.22464680e-16]\n"
          ]
        }
      ]
    },
    {
      "cell_type": "code",
      "metadata": {
        "colab": {
          "base_uri": "https://localhost:8080/"
        },
        "id": "U5L-WJ60ccth",
        "outputId": "000ca9b4-1fc5-428d-97fa-9c1a579557d4"
      },
      "source": [
        "print(\"sines[0]\")\n",
        "sines[0]"
      ],
      "execution_count": 117,
      "outputs": [
        {
          "output_type": "stream",
          "name": "stdout",
          "text": [
            "sines[0]\n"
          ]
        },
        {
          "output_type": "execute_result",
          "data": {
            "text/plain": [
              "0.0"
            ]
          },
          "metadata": {},
          "execution_count": 117
        }
      ]
    },
    {
      "cell_type": "code",
      "metadata": {
        "colab": {
          "base_uri": "https://localhost:8080/"
        },
        "id": "EspVqiQdccth",
        "outputId": "2774b91c-8326-45a1-ad26-d18fef02920d"
      },
      "source": [
        "sines[:3]  # First three elements  "
      ],
      "execution_count": 118,
      "outputs": [
        {
          "output_type": "execute_result",
          "data": {
            "text/plain": [
              "array([0.        , 0.64278761, 0.98480775])"
            ]
          },
          "metadata": {},
          "execution_count": 118
        }
      ]
    },
    {
      "cell_type": "code",
      "metadata": {
        "colab": {
          "base_uri": "https://localhost:8080/"
        },
        "id": "XtjWSbxmccth",
        "outputId": "1b130df7-25be-4e36-b4f0-7f79e11ffce1"
      },
      "source": [
        "sines[5:]  # Elements from 5 on."
      ],
      "execution_count": 119,
      "outputs": [
        {
          "output_type": "execute_result",
          "data": {
            "text/plain": [
              "array([-3.42020143e-01, -8.66025404e-01, -9.84807753e-01, -6.42787610e-01,\n",
              "       -2.44929360e-16])"
            ]
          },
          "metadata": {},
          "execution_count": 119
        }
      ]
    },
    {
      "cell_type": "code",
      "metadata": {
        "colab": {
          "base_uri": "https://localhost:8080/"
        },
        "id": "HZAxHHv8ccth",
        "outputId": "08442e2f-c951-423c-8b5b-c175c15035a6"
      },
      "source": [
        "sines[::2]  # Every other element."
      ],
      "execution_count": 120,
      "outputs": [
        {
          "output_type": "execute_result",
          "data": {
            "text/plain": [
              "array([ 0.        ,  0.98480775,  0.34202014, -0.8660254 , -0.64278761])"
            ]
          },
          "metadata": {},
          "execution_count": 120
        }
      ]
    },
    {
      "cell_type": "code",
      "metadata": {
        "colab": {
          "base_uri": "https://localhost:8080/"
        },
        "id": "hSzvpCeNccth",
        "outputId": "45d9681c-cddf-4015-c716-b5a7a39eafe3"
      },
      "source": [
        "print(\"Sines:\\n\", sines)\n",
        "print(\"Sines >= 0:\\n\", (sines >= 0))\n",
        "print(\"Sines[Sines >= 0]:\\n\", sines[sines >= 0])"
      ],
      "execution_count": 121,
      "outputs": [
        {
          "output_type": "stream",
          "name": "stdout",
          "text": [
            "Sines:\n",
            " [ 0.00000000e+00  6.42787610e-01  9.84807753e-01  8.66025404e-01\n",
            "  3.42020143e-01 -3.42020143e-01 -8.66025404e-01 -9.84807753e-01\n",
            " -6.42787610e-01 -2.44929360e-16]\n",
            "Sines >= 0:\n",
            " [ True  True  True  True  True False False False False False]\n",
            "Sines[Sines >= 0]:\n",
            " [0.         0.64278761 0.98480775 0.8660254  0.34202014]\n"
          ]
        }
      ]
    },
    {
      "cell_type": "code",
      "metadata": {
        "colab": {
          "base_uri": "https://localhost:8080/"
        },
        "id": "aZMcY2Kwccti",
        "outputId": "4f293c25-726f-4cf6-eef9-0a3cf8aac5f4"
      },
      "source": [
        "print(sines)\n",
        "sines[[0,9,-1, 1, -9]]"
      ],
      "execution_count": 122,
      "outputs": [
        {
          "output_type": "stream",
          "name": "stdout",
          "text": [
            "[ 0.00000000e+00  6.42787610e-01  9.84807753e-01  8.66025404e-01\n",
            "  3.42020143e-01 -3.42020143e-01 -8.66025404e-01 -9.84807753e-01\n",
            " -6.42787610e-01 -2.44929360e-16]\n"
          ]
        },
        {
          "output_type": "execute_result",
          "data": {
            "text/plain": [
              "array([ 0.0000000e+00, -2.4492936e-16, -2.4492936e-16,  6.4278761e-01,\n",
              "        6.4278761e-01])"
            ]
          },
          "metadata": {},
          "execution_count": 122
        }
      ]
    },
    {
      "cell_type": "code",
      "metadata": {
        "collapsed": true,
        "id": "AcsLlideccti"
      },
      "source": [
        "unsortedData = np.array([0] * 13)\n",
        "for i in range(13):\n",
        "  unsortedData[i] = random.randint(-100,100)"
      ],
      "execution_count": 125,
      "outputs": []
    },
    {
      "cell_type": "code",
      "metadata": {
        "colab": {
          "base_uri": "https://localhost:8080/"
        },
        "id": "6ZK7bCsDccti",
        "outputId": "c8f8a626-c9e7-4b3f-c18d-26ff010154ad"
      },
      "source": [
        "indexSort = np.argsort(unsortedData)\n",
        "indexSort"
      ],
      "execution_count": 126,
      "outputs": [
        {
          "output_type": "execute_result",
          "data": {
            "text/plain": [
              "array([12,  3,  5, 10,  9,  6, 11,  1,  7,  8,  0,  2,  4])"
            ]
          },
          "metadata": {},
          "execution_count": 126
        }
      ]
    },
    {
      "cell_type": "code",
      "metadata": {
        "colab": {
          "base_uri": "https://localhost:8080/"
        },
        "id": "HeIA6GpSccti",
        "outputId": "e4f924ce-72c6-4d72-a3af-2b4c4ac379da"
      },
      "source": [
        "unsortedData[indexSort]"
      ],
      "execution_count": 128,
      "outputs": [
        {
          "output_type": "execute_result",
          "data": {
            "text/plain": [
              "array([-75, -69, -69, -61, -58, -54, -40,  -7,  16,  18,  42,  71,  73])"
            ]
          },
          "metadata": {},
          "execution_count": 128
        }
      ]
    },
    {
      "cell_type": "code",
      "metadata": {
        "collapsed": true,
        "id": "9tXu3qokccti"
      },
      "source": [
        "marketCaps = np.array([0] * 5)\n",
        "for i in range(5):\n",
        "  marketCaps[i] = random.randint(1,100)\n",
        "assets = np.array(['A', 'B', 'C', 'D', 'E'])"
      ],
      "execution_count": 129,
      "outputs": []
    },
    {
      "cell_type": "code",
      "metadata": {
        "colab": {
          "base_uri": "https://localhost:8080/"
        },
        "id": "c3_QOFm5cctj",
        "outputId": "e6f12ffd-4392-4af4-c880-9a702a5d5ed9"
      },
      "source": [
        "sortByMarketCap = np.argsort(marketCaps)\n",
        "assets[sortByMarketCap]"
      ],
      "execution_count": 130,
      "outputs": [
        {
          "output_type": "execute_result",
          "data": {
            "text/plain": [
              "array(['B', 'D', 'E', 'C', 'A'], dtype='<U1')"
            ]
          },
          "metadata": {},
          "execution_count": 130
        }
      ]
    },
    {
      "cell_type": "code",
      "metadata": {
        "scrolled": true,
        "colab": {
          "base_uri": "https://localhost:8080/"
        },
        "id": "d9L4HwZycctj",
        "outputId": "876e416d-7db5-49dd-ec27-7655fd49d89c"
      },
      "source": [
        "import pandas as pd\n",
        "from datetime import datetime\n",
        "\n",
        "eventDates = pd.date_range(start=\"2020-04-09\",end=\"2020-04-12\")\n",
        "\n",
        "eventValues = [0] * 6\n",
        "for i in range(6):\n",
        "  eventValues[i] = random.randint(1,24)\n",
        "  \n",
        "\n",
        "Calendar = pd.date_range(start=\"2020-04-01\",end=\"2020-04-30\")\n",
        "\n",
        "print(\"Dates:\\n\", repr(eventDates))\n",
        "print(\"Values:\\n\", repr(eventValues))\n",
        "print(\"Calendar:\\n\", repr(Calendar))"
      ],
      "execution_count": 131,
      "outputs": [
        {
          "output_type": "stream",
          "name": "stdout",
          "text": [
            "Dates:\n",
            " DatetimeIndex(['2020-04-09', '2020-04-10', '2020-04-11', '2020-04-12'], dtype='datetime64[ns]', freq='D')\n",
            "Values:\n",
            " [22, 18, 5, 2, 9, 11]\n",
            "Calendar:\n",
            " DatetimeIndex(['2020-04-01', '2020-04-02', '2020-04-03', '2020-04-04',\n",
            "               '2020-04-05', '2020-04-06', '2020-04-07', '2020-04-08',\n",
            "               '2020-04-09', '2020-04-10', '2020-04-11', '2020-04-12',\n",
            "               '2020-04-13', '2020-04-14', '2020-04-15', '2020-04-16',\n",
            "               '2020-04-17', '2020-04-18', '2020-04-19', '2020-04-20',\n",
            "               '2020-04-21', '2020-04-22', '2020-04-23', '2020-04-24',\n",
            "               '2020-04-25', '2020-04-26', '2020-04-27', '2020-04-28',\n",
            "               '2020-04-29', '2020-04-30'],\n",
            "              dtype='datetime64[ns]', freq='D')\n"
          ]
        }
      ]
    },
    {
      "cell_type": "code",
      "metadata": {
        "colab": {
          "base_uri": "https://localhost:8080/"
        },
        "id": "y-i-hb6dcctk",
        "outputId": "8fac7236-4f42-4b02-a496-80d55759ceab"
      },
      "source": [
        "print(\"Raw Dates:\", event_dates)\n",
        "print(\"Indices:\", calendar.searchsorted(event_dates))\n",
        "print(\"Forward-Filled Dates:\", calendar[calendar.searchsorted(event_dates)])"
      ],
      "execution_count": 132,
      "outputs": [
        {
          "output_type": "stream",
          "name": "stdout",
          "text": [
            "Raw Dates: ['2017-01-06' '2017-01-07' '2017-01-08']\n",
            "Indices: [3 4 4]\n",
            "Forward-Filled Dates: ['2017-01-06' '2017-01-09' '2017-01-09']\n"
          ]
        }
      ]
    },
    {
      "cell_type": "code",
      "metadata": {
        "colab": {
          "base_uri": "https://localhost:8080/"
        },
        "id": "nyfkDmCOcctk",
        "outputId": "2af66860-0049-4591-c122-71d5fc0e9414"
      },
      "source": [
        "data = np.arange(100,149).reshape(7,7)\n",
        "data"
      ],
      "execution_count": 133,
      "outputs": [
        {
          "output_type": "execute_result",
          "data": {
            "text/plain": [
              "array([[100, 101, 102, 103, 104, 105, 106],\n",
              "       [107, 108, 109, 110, 111, 112, 113],\n",
              "       [114, 115, 116, 117, 118, 119, 120],\n",
              "       [121, 122, 123, 124, 125, 126, 127],\n",
              "       [128, 129, 130, 131, 132, 133, 134],\n",
              "       [135, 136, 137, 138, 139, 140, 141],\n",
              "       [142, 143, 144, 145, 146, 147, 148]])"
            ]
          },
          "metadata": {},
          "execution_count": 133
        }
      ]
    },
    {
      "cell_type": "code",
      "metadata": {
        "colab": {
          "base_uri": "https://localhost:8080/"
        },
        "id": "Q-RrqvNkcctk",
        "outputId": "7bee5a9b-46a1-4fe2-975e-74cd3f111593"
      },
      "source": [
        "data[(data[:,0] % 2) != 0]"
      ],
      "execution_count": 134,
      "outputs": [
        {
          "output_type": "execute_result",
          "data": {
            "text/plain": [
              "array([[107, 108, 109, 110, 111, 112, 113],\n",
              "       [121, 122, 123, 124, 125, 126, 127],\n",
              "       [135, 136, 137, 138, 139, 140, 141]])"
            ]
          },
          "metadata": {},
          "execution_count": 134
        }
      ]
    },
    {
      "cell_type": "code",
      "metadata": {
        "colab": {
          "base_uri": "https://localhost:8080/"
        },
        "id": "yxuTv6Jrcctk",
        "outputId": "74cc1f88-c422-4b93-e4be-5001d34d90cd"
      },
      "source": [
        "data[3:, [0,-7]]"
      ],
      "execution_count": 135,
      "outputs": [
        {
          "output_type": "execute_result",
          "data": {
            "text/plain": [
              "array([[121, 121],\n",
              "       [128, 128],\n",
              "       [135, 135],\n",
              "       [142, 142]])"
            ]
          },
          "metadata": {},
          "execution_count": 135
        }
      ]
    },
    {
      "cell_type": "markdown",
      "metadata": {
        "id": "cdJE4nCQcctl"
      },
      "source": [
        "# Selections Review\n",
        "\n",
        "- Indexing with an integer removes a dimension.\n",
        "- Slicing operations work on Numpy arrays the same way they do on lists.\n",
        "- Indexing with a boolean array filters to True locations.\n",
        "- Indexing with an integer array selects indices along an axis.\n",
        "- Multidimensional arrays can apply selections independently along different axes."
      ]
    },
    {
      "cell_type": "markdown",
      "metadata": {
        "id": "1U-zfk_Kcctl"
      },
      "source": [
        "## Reductions\n",
        "\n",
        "Functions that reduce an array to a scalar."
      ]
    },
    {
      "cell_type": "markdown",
      "metadata": {
        "id": "3-Cn-p9gcctl"
      },
      "source": [
        "$Var(X) = \\frac{1}{N}\\sqrt{\\sum_{i=1}^N (x_i - \\bar{x})^2}$"
      ]
    },
    {
      "cell_type": "code",
      "metadata": {
        "collapsed": true,
        "id": "qkI_49Vicctl"
      },
      "source": [
        "#Varianza\n",
        "def variance(x):\n",
        "  #np.mean => promedio\n",
        "  #len(x) cantidad de elementos de la muestra\n",
        "  return ((x - np.mean(x)) ** 2).sum() / len(x)"
      ],
      "execution_count": 137,
      "outputs": []
    },
    {
      "cell_type": "code",
      "metadata": {
        "colab": {
          "base_uri": "https://localhost:8080/"
        },
        "id": "QaQBVUF5cctl",
        "outputId": "685f6c66-c7a4-4bf7-9834-fa1c7681988e"
      },
      "source": [
        "variance(np.random.standard_normal(100000))"
      ],
      "execution_count": 138,
      "outputs": [
        {
          "output_type": "execute_result",
          "data": {
            "text/plain": [
              "1.007512635148134"
            ]
          },
          "metadata": {},
          "execution_count": 138
        }
      ]
    },
    {
      "cell_type": "code",
      "metadata": {
        "colab": {
          "base_uri": "https://localhost:8080/"
        },
        "id": "4vbQ2Eoocctm",
        "outputId": "dafd26bb-9328-481b-bd2a-bbed1dcdfe87"
      },
      "source": [
        "data = np.array([None] * 55)\n",
        "\n",
        "for i in range(55):\n",
        "  data[i] = random.randint(-200,300)\n",
        "\n",
        "data.mean()"
      ],
      "execution_count": 139,
      "outputs": [
        {
          "output_type": "execute_result",
          "data": {
            "text/plain": [
              "58.63636363636363"
            ]
          },
          "metadata": {},
          "execution_count": 139
        }
      ]
    },
    {
      "cell_type": "code",
      "metadata": {
        "colab": {
          "base_uri": "https://localhost:8080/"
        },
        "id": "ZBI4Rmwyccto",
        "outputId": "35e94325-33db-4dce-97aa-efd60e4ef8dc"
      },
      "source": [
        "data = data.reshape(5,11)\n",
        "data"
      ],
      "execution_count": 143,
      "outputs": [
        {
          "output_type": "execute_result",
          "data": {
            "text/plain": [
              "array([[101, -184, 197, -127, 232, -3, -185, -4, 59, 160, -66],\n",
              "       [133, 176, 79, -189, 284, 197, 105, 25, 65, 6, -11],\n",
              "       [35, 212, -186, 87, -4, -71, 168, 11, 129, 220, -26],\n",
              "       [87, -51, 198, 25, 285, 58, -53, 262, 242, -157, 172],\n",
              "       [290, 91, 12, -166, 243, -137, 242, 86, -139, 162, -152]],\n",
              "      dtype=object)"
            ]
          },
          "metadata": {},
          "execution_count": 143
        }
      ]
    },
    {
      "cell_type": "code",
      "metadata": {
        "colab": {
          "base_uri": "https://localhost:8080/"
        },
        "id": "0wK9UdW9ccto",
        "outputId": "268d8303-5405-4ea1-e7b9-17a8523e1879"
      },
      "source": [
        "#Promedio por columna\n",
        "data.mean(axis=0)"
      ],
      "execution_count": 144,
      "outputs": [
        {
          "output_type": "execute_result",
          "data": {
            "text/plain": [
              "array([129.2, 48.8, 60.0, -74.0, 208.0, 8.8, 55.4, 76.0, 71.2, 78.2,\n",
              "       -16.6], dtype=object)"
            ]
          },
          "metadata": {},
          "execution_count": 144
        }
      ]
    },
    {
      "cell_type": "code",
      "metadata": {
        "colab": {
          "base_uri": "https://localhost:8080/"
        },
        "id": "jA-edNEZccto",
        "outputId": "73b4e5a3-16ec-4ec4-ef29-1fc898671c66"
      },
      "source": [
        "#Promedio por Fila\n",
        "data.mean(axis=1)"
      ],
      "execution_count": 145,
      "outputs": [
        {
          "output_type": "execute_result",
          "data": {
            "text/plain": [
              "array([16.363636363636363, 79.0909090909091, 52.27272727272727,\n",
              "       97.0909090909091, 48.36363636363637], dtype=object)"
            ]
          },
          "metadata": {},
          "execution_count": 145
        }
      ]
    },
    {
      "cell_type": "markdown",
      "metadata": {
        "id": "z1JabsF2cctp"
      },
      "source": [
        "# Broadcasting"
      ]
    },
    {
      "cell_type": "code",
      "metadata": {
        "colab": {
          "base_uri": "https://localhost:8080/"
        },
        "id": "AtaXtMaGcctp",
        "outputId": "5f3268d2-e54c-4266-c8f7-b7837625462d"
      },
      "source": [
        "row = np.array([None] * 5)\n",
        "col = np.array([[1], [2], [3], [4]])\n",
        "\n",
        "for i in range(5):\n",
        "  row[i] = random.randint(1,15)\n",
        "\n",
        "print(\"Row:\\n\", row, sep='')\n",
        "print(\"Col:\\n\", col, sep='')"
      ],
      "execution_count": 146,
      "outputs": [
        {
          "output_type": "stream",
          "name": "stdout",
          "text": [
            "Row:\n",
            "[15 13 6 8 3]\n",
            "Col:\n",
            "[[1]\n",
            " [2]\n",
            " [3]\n",
            " [4]]\n"
          ]
        }
      ]
    },
    {
      "cell_type": "code",
      "metadata": {
        "colab": {
          "base_uri": "https://localhost:8080/"
        },
        "id": "oo6fmsrTs1Mv",
        "outputId": "01357d8e-3a21-4b77-80d0-b52e75887a71"
      },
      "source": [
        "Fila = np.array([10,20,30,40])\n",
        "Columna = np.array([[5], [2], [1]])\n",
        "print(\"Fila:\\n\", Fila, sep='')\n",
        "print(\"Columna:\\n\", Columna, sep='')"
      ],
      "execution_count": 86,
      "outputs": [
        {
          "output_type": "stream",
          "name": "stdout",
          "text": [
            "Fila:\n",
            "[10 20 30 40]\n",
            "Columna:\n",
            "[[5]\n",
            " [2]\n",
            " [1]]\n"
          ]
        }
      ]
    },
    {
      "cell_type": "code",
      "metadata": {
        "colab": {
          "base_uri": "https://localhost:8080/"
        },
        "id": "L0MpsJrfcctp",
        "outputId": "b7a062bc-a625-4641-b778-552bf55da652"
      },
      "source": [
        "Fila + Columna"
      ],
      "execution_count": 87,
      "outputs": [
        {
          "output_type": "execute_result",
          "data": {
            "text/plain": [
              "array([[15, 25, 35, 45],\n",
              "       [12, 22, 32, 42],\n",
              "       [11, 21, 31, 41]])"
            ]
          },
          "metadata": {},
          "execution_count": 87
        }
      ]
    },
    {
      "cell_type": "markdown",
      "metadata": {
        "id": "Vtkp_TpRcctp"
      },
      "source": [
        "<center><img src=\"images/broadcasting.png\" alt=\"Drawing\" style=\"width: 60%;\"/></center>\n",
        "\n",
        "<h5>Source: http://www.scipy-lectures.org/_images/numpy_broadcasting.png</h5>"
      ]
    },
    {
      "cell_type": "markdown",
      "metadata": {
        "id": "6pB-n13Hcctp"
      },
      "source": [
        "# Broadcasting Review\n",
        "\n",
        "- Numpy operations can work on arrays of different dimensions as long as the arrays' shapes are still \"compatible\".\n",
        "- Broadcasting works by \"tiling\" the smaller array along the missing dimension.\n",
        "- The result of a broadcasted operation is always at least as large in each dimension as the largest array in that dimension."
      ]
    },
    {
      "cell_type": "markdown",
      "metadata": {
        "id": "zyKCYzincctq"
      },
      "source": [
        "# Numpy Review"
      ]
    },
    {
      "cell_type": "markdown",
      "metadata": {
        "id": "1J9ruIEXcctq"
      },
      "source": [
        "- Numerical algorithms are slow in pure Python because the overhead dynamic dispatch dominates our runtime."
      ]
    },
    {
      "cell_type": "markdown",
      "metadata": {
        "id": "SWx_P_tXcctq"
      },
      "source": [
        "- Numpy solves this problem by:\n",
        "  1. Imposing additional restrictions on the contents of arrays.\n",
        "  2. Moving the inner loops of our algorithms into compiled C code."
      ]
    },
    {
      "cell_type": "markdown",
      "metadata": {
        "id": "k5ggrcfXcctq"
      },
      "source": [
        "- Using Numpy effectively often requires reworking an algorithms to use vectorized operations instead of for-loops, but the resulting operations are usually simpler, clearer, and faster than the pure Python equivalent."
      ]
    },
    {
      "cell_type": "markdown",
      "metadata": {
        "id": "PeVz0cwacctq"
      },
      "source": [
        "Numpy is great for many things, but..."
      ]
    },
    {
      "cell_type": "markdown",
      "metadata": {
        "id": "-xzHLDR_cctq"
      },
      "source": [
        "- Sometimes our data is equipped with a natural set of **labels**:\n",
        "  - Dates/Times\n",
        "  - Stock Tickers\n",
        "  - Field Names (e.g. Open/High/Low/Close)"
      ]
    },
    {
      "cell_type": "markdown",
      "metadata": {
        "id": "D8G32GWDcctr"
      },
      "source": [
        "# Selection in Pandas"
      ]
    },
    {
      "cell_type": "code",
      "metadata": {
        "colab": {
          "base_uri": "https://localhost:8080/"
        },
        "id": "3a2_ChRZcctr",
        "outputId": "decbdcf5-4ed2-45bf-9720-26252510051f"
      },
      "source": [
        "s = pd.Series(index=['n','e','i','v','a'], data=[8,7,5,2,1])\n",
        "s"
      ],
      "execution_count": 102,
      "outputs": [
        {
          "output_type": "execute_result",
          "data": {
            "text/plain": [
              "n    8\n",
              "e    7\n",
              "i    5\n",
              "v    2\n",
              "a    1\n",
              "dtype: int64"
            ]
          },
          "metadata": {},
          "execution_count": 102
        }
      ]
    },
    {
      "cell_type": "code",
      "metadata": {
        "colab": {
          "base_uri": "https://localhost:8080/"
        },
        "id": "UmXRpADzccts",
        "outputId": "4908d223-36a9-41ab-f374-a6558cb09ab2"
      },
      "source": [
        "# There are two pieces to a Series: the index and the values.\n",
        "print(\"El indice es:\", s.index)\n",
        "print(\"Los valores son:\", s.values)"
      ],
      "execution_count": 103,
      "outputs": [
        {
          "output_type": "stream",
          "name": "stdout",
          "text": [
            "El indice es: Index(['n', 'e', 'i', 'v', 'a'], dtype='object')\n",
            "Los valores son: [8 7 5 2 1]\n"
          ]
        }
      ]
    },
    {
      "cell_type": "code",
      "metadata": {
        "colab": {
          "base_uri": "https://localhost:8080/"
        },
        "id": "-xS1B7Sbccts",
        "outputId": "bfd3ebbe-db47-4785-f2fe-58b4279cf088"
      },
      "source": [
        "# We can look up values out of a Series by position...\n",
        "s.iloc[0]"
      ],
      "execution_count": 104,
      "outputs": [
        {
          "output_type": "execute_result",
          "data": {
            "text/plain": [
              "8"
            ]
          },
          "metadata": {},
          "execution_count": 104
        }
      ]
    },
    {
      "cell_type": "code",
      "metadata": {
        "colab": {
          "base_uri": "https://localhost:8080/"
        },
        "id": "ZERhN0leccts",
        "outputId": "41612253-98d4-4238-ddc8-3ca5ecc5d30e"
      },
      "source": [
        "# ... or by label.\n",
        "s.loc['a']"
      ],
      "execution_count": 105,
      "outputs": [
        {
          "output_type": "execute_result",
          "data": {
            "text/plain": [
              "1"
            ]
          },
          "metadata": {},
          "execution_count": 105
        }
      ]
    },
    {
      "cell_type": "code",
      "metadata": {
        "colab": {
          "base_uri": "https://localhost:8080/"
        },
        "id": "MbX_E96nccts",
        "outputId": "41566f51-82d1-402a-ae5b-511b0d61a015"
      },
      "source": [
        "# Slicing works as expected...\n",
        "s.iloc[:2]"
      ],
      "execution_count": 106,
      "outputs": [
        {
          "output_type": "execute_result",
          "data": {
            "text/plain": [
              "n    8\n",
              "e    7\n",
              "dtype: int64"
            ]
          },
          "metadata": {},
          "execution_count": 106
        }
      ]
    },
    {
      "cell_type": "code",
      "metadata": {
        "colab": {
          "base_uri": "https://localhost:8080/"
        },
        "id": "lkeXWjA6cctt",
        "outputId": "32a6933f-2050-4b5a-bbf6-eb894ebe29d0"
      },
      "source": [
        "# ...but it works with labels too!\n",
        "s.loc[:'v']"
      ],
      "execution_count": 109,
      "outputs": [
        {
          "output_type": "execute_result",
          "data": {
            "text/plain": [
              "n    8\n",
              "e    7\n",
              "i    5\n",
              "v    2\n",
              "dtype: int64"
            ]
          },
          "metadata": {},
          "execution_count": 109
        }
      ]
    },
    {
      "cell_type": "code",
      "metadata": {
        "colab": {
          "base_uri": "https://localhost:8080/"
        },
        "id": "yC3fSHajcctt",
        "outputId": "9e2a86c2-fe7b-4343-ece6-162712280839"
      },
      "source": [
        "# Fancy indexing works the same as in numpy.\n",
        "s.iloc[[0, -1]]"
      ],
      "execution_count": 110,
      "outputs": [
        {
          "output_type": "execute_result",
          "data": {
            "text/plain": [
              "n    8\n",
              "a    1\n",
              "dtype: int64"
            ]
          },
          "metadata": {},
          "execution_count": 110
        }
      ]
    },
    {
      "cell_type": "code",
      "metadata": {
        "colab": {
          "base_uri": "https://localhost:8080/"
        },
        "id": "h3xxnIQ3cctt",
        "outputId": "cf1076d6-5f03-4db1-9224-409afa0353fd"
      },
      "source": [
        "# As does boolean masking.\n",
        "s.loc[s > 2]"
      ],
      "execution_count": 111,
      "outputs": [
        {
          "output_type": "execute_result",
          "data": {
            "text/plain": [
              "n    8\n",
              "e    7\n",
              "i    5\n",
              "dtype: int64"
            ]
          },
          "metadata": {},
          "execution_count": 111
        }
      ]
    },
    {
      "cell_type": "code",
      "metadata": {
        "colab": {
          "base_uri": "https://localhost:8080/"
        },
        "id": "q-xO5Ozdcctt",
        "outputId": "1b2b2a44-8a32-49b0-cd2c-98c706e0b28c"
      },
      "source": [
        "# Element-wise operations are aligned by index.\n",
        "other_s = pd.Series({'a': 10.0, 'c': 20.0, 'd': 30.0, 'z': 40.0})\n",
        "other_s"
      ],
      "execution_count": 112,
      "outputs": [
        {
          "output_type": "execute_result",
          "data": {
            "text/plain": [
              "a    10.0\n",
              "c    20.0\n",
              "d    30.0\n",
              "z    40.0\n",
              "dtype: float64"
            ]
          },
          "metadata": {},
          "execution_count": 112
        }
      ]
    },
    {
      "cell_type": "code",
      "metadata": {
        "colab": {
          "base_uri": "https://localhost:8080/"
        },
        "id": "8PiXB1LJcctt",
        "outputId": "0b8782fb-52f7-47a7-eb6b-20090d5e6e1d"
      },
      "source": [
        "s + other_s"
      ],
      "execution_count": 97,
      "outputs": [
        {
          "output_type": "execute_result",
          "data": {
            "text/plain": [
              "a    11.0\n",
              "b     NaN\n",
              "c    23.0\n",
              "d    34.0\n",
              "e     NaN\n",
              "z     NaN\n",
              "dtype: float64"
            ]
          },
          "metadata": {},
          "execution_count": 97
        }
      ]
    },
    {
      "cell_type": "code",
      "metadata": {
        "colab": {
          "base_uri": "https://localhost:8080/"
        },
        "id": "ED0fw8H_cctu",
        "outputId": "2db50c34-dfca-41d4-ff7d-88cb87209fbc"
      },
      "source": [
        "# We can fill in missing values with fillna().\n",
        "(s + other_s).fillna(0.0)"
      ],
      "execution_count": 113,
      "outputs": [
        {
          "output_type": "execute_result",
          "data": {
            "text/plain": [
              "a    11.0\n",
              "c     0.0\n",
              "d     0.0\n",
              "e     0.0\n",
              "i     0.0\n",
              "n     0.0\n",
              "v     0.0\n",
              "z     0.0\n",
              "dtype: float64"
            ]
          },
          "metadata": {},
          "execution_count": 113
        }
      ]
    },
    {
      "cell_type": "code",
      "metadata": {
        "id": "QCfEKTTcISeR",
        "colab": {
          "base_uri": "https://localhost:8080/",
          "height": 235
        },
        "outputId": "c58278d8-2ab5-4ab9-8039-acf690879421"
      },
      "source": [
        "import pandas as pd\n",
        "\n",
        "TSLA = pd.read_csv('EPD.csv', parse_dates=['Date'], index_col= 'Date')\n",
        "TSLA.head()"
      ],
      "execution_count": null,
      "outputs": [
        {
          "output_type": "execute_result",
          "data": {
            "text/html": [
              "<div>\n",
              "<style scoped>\n",
              "    .dataframe tbody tr th:only-of-type {\n",
              "        vertical-align: middle;\n",
              "    }\n",
              "\n",
              "    .dataframe tbody tr th {\n",
              "        vertical-align: top;\n",
              "    }\n",
              "\n",
              "    .dataframe thead th {\n",
              "        text-align: right;\n",
              "    }\n",
              "</style>\n",
              "<table border=\"1\" class=\"dataframe\">\n",
              "  <thead>\n",
              "    <tr style=\"text-align: right;\">\n",
              "      <th></th>\n",
              "      <th>Open</th>\n",
              "      <th>High</th>\n",
              "      <th>Low</th>\n",
              "      <th>Close</th>\n",
              "      <th>Adj Close</th>\n",
              "      <th>Volume</th>\n",
              "    </tr>\n",
              "    <tr>\n",
              "      <th>Date</th>\n",
              "      <th></th>\n",
              "      <th></th>\n",
              "      <th></th>\n",
              "      <th></th>\n",
              "      <th></th>\n",
              "      <th></th>\n",
              "    </tr>\n",
              "  </thead>\n",
              "  <tbody>\n",
              "    <tr>\n",
              "      <th>2010-06-29</th>\n",
              "      <td>19.000000</td>\n",
              "      <td>25.00</td>\n",
              "      <td>17.540001</td>\n",
              "      <td>23.889999</td>\n",
              "      <td>23.889999</td>\n",
              "      <td>18766300</td>\n",
              "    </tr>\n",
              "    <tr>\n",
              "      <th>2010-06-30</th>\n",
              "      <td>25.790001</td>\n",
              "      <td>30.42</td>\n",
              "      <td>23.299999</td>\n",
              "      <td>23.830000</td>\n",
              "      <td>23.830000</td>\n",
              "      <td>17187100</td>\n",
              "    </tr>\n",
              "    <tr>\n",
              "      <th>2010-07-01</th>\n",
              "      <td>25.000000</td>\n",
              "      <td>25.92</td>\n",
              "      <td>20.270000</td>\n",
              "      <td>21.959999</td>\n",
              "      <td>21.959999</td>\n",
              "      <td>8218800</td>\n",
              "    </tr>\n",
              "    <tr>\n",
              "      <th>2010-07-02</th>\n",
              "      <td>23.000000</td>\n",
              "      <td>23.10</td>\n",
              "      <td>18.709999</td>\n",
              "      <td>19.200001</td>\n",
              "      <td>19.200001</td>\n",
              "      <td>5139800</td>\n",
              "    </tr>\n",
              "    <tr>\n",
              "      <th>2010-07-06</th>\n",
              "      <td>20.000000</td>\n",
              "      <td>20.00</td>\n",
              "      <td>15.830000</td>\n",
              "      <td>16.110001</td>\n",
              "      <td>16.110001</td>\n",
              "      <td>6866900</td>\n",
              "    </tr>\n",
              "  </tbody>\n",
              "</table>\n",
              "</div>"
            ],
            "text/plain": [
              "                 Open   High        Low      Close  Adj Close    Volume\n",
              "Date                                                                   \n",
              "2010-06-29  19.000000  25.00  17.540001  23.889999  23.889999  18766300\n",
              "2010-06-30  25.790001  30.42  23.299999  23.830000  23.830000  17187100\n",
              "2010-07-01  25.000000  25.92  20.270000  21.959999  21.959999   8218800\n",
              "2010-07-02  23.000000  23.10  18.709999  19.200001  19.200001   5139800\n",
              "2010-07-06  20.000000  20.00  15.830000  16.110001  16.110001   6866900"
            ]
          },
          "metadata": {
            "tags": []
          },
          "execution_count": 81
        }
      ]
    },
    {
      "cell_type": "code",
      "metadata": {
        "id": "FCF_2ImXcaTT",
        "colab": {
          "base_uri": "https://localhost:8080/",
          "height": 173
        },
        "outputId": "60728283-dc45-4fca-8e6e-57c4b65cb1f4"
      },
      "source": [
        "EDP.iloc[:3,:3]"
      ],
      "execution_count": null,
      "outputs": [
        {
          "output_type": "execute_result",
          "data": {
            "text/html": [
              "<div>\n",
              "<style scoped>\n",
              "    .dataframe tbody tr th:only-of-type {\n",
              "        vertical-align: middle;\n",
              "    }\n",
              "\n",
              "    .dataframe tbody tr th {\n",
              "        vertical-align: top;\n",
              "    }\n",
              "\n",
              "    .dataframe thead th {\n",
              "        text-align: right;\n",
              "    }\n",
              "</style>\n",
              "<table border=\"1\" class=\"dataframe\">\n",
              "  <thead>\n",
              "    <tr style=\"text-align: right;\">\n",
              "      <th></th>\n",
              "      <th>Open</th>\n",
              "      <th>High</th>\n",
              "      <th>Low</th>\n",
              "    </tr>\n",
              "    <tr>\n",
              "      <th>Date</th>\n",
              "      <th></th>\n",
              "      <th></th>\n",
              "      <th></th>\n",
              "    </tr>\n",
              "  </thead>\n",
              "  <tbody>\n",
              "    <tr>\n",
              "      <th>2010-06-29</th>\n",
              "      <td>19.000000</td>\n",
              "      <td>25.00</td>\n",
              "      <td>17.540001</td>\n",
              "    </tr>\n",
              "    <tr>\n",
              "      <th>2010-06-30</th>\n",
              "      <td>25.790001</td>\n",
              "      <td>30.42</td>\n",
              "      <td>23.299999</td>\n",
              "    </tr>\n",
              "    <tr>\n",
              "      <th>2010-07-01</th>\n",
              "      <td>25.000000</td>\n",
              "      <td>25.92</td>\n",
              "      <td>20.270000</td>\n",
              "    </tr>\n",
              "  </tbody>\n",
              "</table>\n",
              "</div>"
            ],
            "text/plain": [
              "                 Open   High        Low\n",
              "Date                                   \n",
              "2010-06-29  19.000000  25.00  17.540001\n",
              "2010-06-30  25.790001  30.42  23.299999\n",
              "2010-07-01  25.000000  25.92  20.270000"
            ]
          },
          "metadata": {
            "tags": []
          },
          "execution_count": 82
        }
      ]
    },
    {
      "cell_type": "code",
      "metadata": {
        "id": "0EiODxRscg8M",
        "colab": {
          "base_uri": "https://localhost:8080/",
          "height": 450
        },
        "outputId": "c33c615c-f2fe-4aed-fd4b-d3a55c69157c"
      },
      "source": [
        "EPD.loc[pd.Timestamp('2011-09-01'):pd.Timestamp('2012-09-01')]"
      ],
      "execution_count": null,
      "outputs": [
        {
          "output_type": "execute_result",
          "data": {
            "text/html": [
              "<div>\n",
              "<style scoped>\n",
              "    .dataframe tbody tr th:only-of-type {\n",
              "        vertical-align: middle;\n",
              "    }\n",
              "\n",
              "    .dataframe tbody tr th {\n",
              "        vertical-align: top;\n",
              "    }\n",
              "\n",
              "    .dataframe thead th {\n",
              "        text-align: right;\n",
              "    }\n",
              "</style>\n",
              "<table border=\"1\" class=\"dataframe\">\n",
              "  <thead>\n",
              "    <tr style=\"text-align: right;\">\n",
              "      <th></th>\n",
              "      <th>Open</th>\n",
              "      <th>High</th>\n",
              "      <th>Low</th>\n",
              "      <th>Close</th>\n",
              "      <th>Adj Close</th>\n",
              "      <th>Volume</th>\n",
              "    </tr>\n",
              "    <tr>\n",
              "      <th>Date</th>\n",
              "      <th></th>\n",
              "      <th></th>\n",
              "      <th></th>\n",
              "      <th></th>\n",
              "      <th></th>\n",
              "      <th></th>\n",
              "    </tr>\n",
              "  </thead>\n",
              "  <tbody>\n",
              "    <tr>\n",
              "      <th>2011-09-01</th>\n",
              "      <td>24.660000</td>\n",
              "      <td>24.870001</td>\n",
              "      <td>23.840000</td>\n",
              "      <td>24.000000</td>\n",
              "      <td>24.000000</td>\n",
              "      <td>848100</td>\n",
              "    </tr>\n",
              "    <tr>\n",
              "      <th>2011-09-02</th>\n",
              "      <td>23.660000</td>\n",
              "      <td>23.990000</td>\n",
              "      <td>22.680000</td>\n",
              "      <td>23.070000</td>\n",
              "      <td>23.070000</td>\n",
              "      <td>769900</td>\n",
              "    </tr>\n",
              "    <tr>\n",
              "      <th>2011-09-06</th>\n",
              "      <td>22.500000</td>\n",
              "      <td>23.200001</td>\n",
              "      <td>22.290001</td>\n",
              "      <td>22.940001</td>\n",
              "      <td>22.940001</td>\n",
              "      <td>809800</td>\n",
              "    </tr>\n",
              "    <tr>\n",
              "      <th>2011-09-07</th>\n",
              "      <td>23.389999</td>\n",
              "      <td>24.000000</td>\n",
              "      <td>23.280001</td>\n",
              "      <td>23.840000</td>\n",
              "      <td>23.840000</td>\n",
              "      <td>459200</td>\n",
              "    </tr>\n",
              "    <tr>\n",
              "      <th>2011-09-08</th>\n",
              "      <td>23.580000</td>\n",
              "      <td>24.030001</td>\n",
              "      <td>23.280001</td>\n",
              "      <td>23.610001</td>\n",
              "      <td>23.610001</td>\n",
              "      <td>505700</td>\n",
              "    </tr>\n",
              "    <tr>\n",
              "      <th>...</th>\n",
              "      <td>...</td>\n",
              "      <td>...</td>\n",
              "      <td>...</td>\n",
              "      <td>...</td>\n",
              "      <td>...</td>\n",
              "      <td>...</td>\n",
              "    </tr>\n",
              "    <tr>\n",
              "      <th>2012-08-27</th>\n",
              "      <td>29.570000</td>\n",
              "      <td>29.700001</td>\n",
              "      <td>28.170000</td>\n",
              "      <td>28.320000</td>\n",
              "      <td>28.320000</td>\n",
              "      <td>1350400</td>\n",
              "    </tr>\n",
              "    <tr>\n",
              "      <th>2012-08-28</th>\n",
              "      <td>28.400000</td>\n",
              "      <td>29.379999</td>\n",
              "      <td>28.000000</td>\n",
              "      <td>28.690001</td>\n",
              "      <td>28.690001</td>\n",
              "      <td>1402700</td>\n",
              "    </tr>\n",
              "    <tr>\n",
              "      <th>2012-08-29</th>\n",
              "      <td>28.490000</td>\n",
              "      <td>28.639999</td>\n",
              "      <td>28.020000</td>\n",
              "      <td>28.410000</td>\n",
              "      <td>28.410000</td>\n",
              "      <td>838900</td>\n",
              "    </tr>\n",
              "    <tr>\n",
              "      <th>2012-08-30</th>\n",
              "      <td>28.600000</td>\n",
              "      <td>28.740000</td>\n",
              "      <td>28.100000</td>\n",
              "      <td>28.410000</td>\n",
              "      <td>28.410000</td>\n",
              "      <td>656400</td>\n",
              "    </tr>\n",
              "    <tr>\n",
              "      <th>2012-08-31</th>\n",
              "      <td>28.610001</td>\n",
              "      <td>28.840000</td>\n",
              "      <td>28.200001</td>\n",
              "      <td>28.520000</td>\n",
              "      <td>28.520000</td>\n",
              "      <td>539800</td>\n",
              "    </tr>\n",
              "  </tbody>\n",
              "</table>\n",
              "<p>253 rows × 6 columns</p>\n",
              "</div>"
            ],
            "text/plain": [
              "                 Open       High        Low      Close  Adj Close   Volume\n",
              "Date                                                                      \n",
              "2011-09-01  24.660000  24.870001  23.840000  24.000000  24.000000   848100\n",
              "2011-09-02  23.660000  23.990000  22.680000  23.070000  23.070000   769900\n",
              "2011-09-06  22.500000  23.200001  22.290001  22.940001  22.940001   809800\n",
              "2011-09-07  23.389999  24.000000  23.280001  23.840000  23.840000   459200\n",
              "2011-09-08  23.580000  24.030001  23.280001  23.610001  23.610001   505700\n",
              "...               ...        ...        ...        ...        ...      ...\n",
              "2012-08-27  29.570000  29.700001  28.170000  28.320000  28.320000  1350400\n",
              "2012-08-28  28.400000  29.379999  28.000000  28.690001  28.690001  1402700\n",
              "2012-08-29  28.490000  28.639999  28.020000  28.410000  28.410000   838900\n",
              "2012-08-30  28.600000  28.740000  28.100000  28.410000  28.410000   656400\n",
              "2012-08-31  28.610001  28.840000  28.200001  28.520000  28.520000   539800\n",
              "\n",
              "[253 rows x 6 columns]"
            ]
          },
          "metadata": {
            "tags": []
          },
          "execution_count": 83
        }
      ]
    },
    {
      "cell_type": "code",
      "metadata": {
        "id": "p9lI0Jb2c8Y_",
        "colab": {
          "base_uri": "https://localhost:8080/"
        },
        "outputId": "00508940-1b70-49b3-8287-38737a7a743f"
      },
      "source": [
        "EPD.rolling(3)[['Close', 'Adj Close']].mean()"
      ],
      "execution_count": null,
      "outputs": [
        {
          "output_type": "execute_result",
          "data": {
            "text/html": [
              "<div>\n",
              "<style scoped>\n",
              "    .dataframe tbody tr th:only-of-type {\n",
              "        vertical-align: middle;\n",
              "    }\n",
              "\n",
              "    .dataframe tbody tr th {\n",
              "        vertical-align: top;\n",
              "    }\n",
              "\n",
              "    .dataframe thead th {\n",
              "        text-align: right;\n",
              "    }\n",
              "</style>\n",
              "<table border=\"1\" class=\"dataframe\">\n",
              "  <thead>\n",
              "    <tr style=\"text-align: right;\">\n",
              "      <th></th>\n",
              "      <th>Close</th>\n",
              "      <th>Adj Close</th>\n",
              "    </tr>\n",
              "    <tr>\n",
              "      <th>Date</th>\n",
              "      <th></th>\n",
              "      <th></th>\n",
              "    </tr>\n",
              "  </thead>\n",
              "  <tbody>\n",
              "    <tr>\n",
              "      <th>2010-06-29</th>\n",
              "      <td>NaN</td>\n",
              "      <td>NaN</td>\n",
              "    </tr>\n",
              "    <tr>\n",
              "      <th>2010-06-30</th>\n",
              "      <td>NaN</td>\n",
              "      <td>NaN</td>\n",
              "    </tr>\n",
              "    <tr>\n",
              "      <th>2010-07-01</th>\n",
              "      <td>23.226666</td>\n",
              "      <td>23.226666</td>\n",
              "    </tr>\n",
              "    <tr>\n",
              "      <th>2010-07-02</th>\n",
              "      <td>21.663333</td>\n",
              "      <td>21.663333</td>\n",
              "    </tr>\n",
              "    <tr>\n",
              "      <th>2010-07-06</th>\n",
              "      <td>19.090000</td>\n",
              "      <td>19.090000</td>\n",
              "    </tr>\n",
              "    <tr>\n",
              "      <th>...</th>\n",
              "      <td>...</td>\n",
              "      <td>...</td>\n",
              "    </tr>\n",
              "    <tr>\n",
              "      <th>2020-04-03</th>\n",
              "      <td>472.013336</td>\n",
              "      <td>472.013336</td>\n",
              "    </tr>\n",
              "    <tr>\n",
              "      <th>2020-04-06</th>\n",
              "      <td>483.573334</td>\n",
              "      <td>483.573334</td>\n",
              "    </tr>\n",
              "    <tr>\n",
              "      <th>2020-04-07</th>\n",
              "      <td>513.900004</td>\n",
              "      <td>513.900004</td>\n",
              "    </tr>\n",
              "    <tr>\n",
              "      <th>2020-04-08</th>\n",
              "      <td>536.843343</td>\n",
              "      <td>536.843343</td>\n",
              "    </tr>\n",
              "    <tr>\n",
              "      <th>2020-04-09</th>\n",
              "      <td>555.763346</td>\n",
              "      <td>555.763346</td>\n",
              "    </tr>\n",
              "  </tbody>\n",
              "</table>\n",
              "<p>2463 rows × 2 columns</p>\n",
              "</div>"
            ],
            "text/plain": [
              "                 Close   Adj Close\n",
              "Date                              \n",
              "2010-06-29         NaN         NaN\n",
              "2010-06-30         NaN         NaN\n",
              "2010-07-01   23.226666   23.226666\n",
              "2010-07-02   21.663333   21.663333\n",
              "2010-07-06   19.090000   19.090000\n",
              "...                ...         ...\n",
              "2020-04-03  472.013336  472.013336\n",
              "2020-04-06  483.573334  483.573334\n",
              "2020-04-07  513.900004  513.900004\n",
              "2020-04-08  536.843343  536.843343\n",
              "2020-04-09  555.763346  555.763346\n",
              "\n",
              "[2463 rows x 2 columns]"
            ]
          },
          "metadata": {
            "tags": []
          },
          "execution_count": 84
        }
      ]
    },
    {
      "cell_type": "code",
      "metadata": {
        "id": "cph8mhZRdTr6",
        "colab": {
          "base_uri": "https://localhost:8080/",
          "height": 34
        },
        "outputId": "27676cc6-bf22-45a6-d616-b740fed5569f"
      },
      "source": [
        "EPD.rolling(3)"
      ],
      "execution_count": null,
      "outputs": [
        {
          "output_type": "execute_result",
          "data": {
            "text/plain": [
              "Rolling [window=3,center=False,axis=0]"
            ]
          },
          "metadata": {
            "tags": []
          },
          "execution_count": 85
        }
      ]
    },
    {
      "cell_type": "code",
      "metadata": {
        "id": "16egEGmAdpBZ",
        "colab": {
          "base_uri": "https://localhost:8080/",
          "height": 286
        },
        "outputId": "e55b64d0-54aa-4b68-98eb-3a02194d784c"
      },
      "source": [
        "EPD.rolling(3)[['Close', 'Adj Close']].mean().plot()"
      ],
      "execution_count": null,
      "outputs": [
        {
          "output_type": "execute_result",
          "data": {
            "text/plain": [
              "<matplotlib.axes._subplots.AxesSubplot at 0x7f5a19bce5f8>"
            ]
          },
          "metadata": {
            "tags": []
          },
          "execution_count": 86
        },
        {
          "output_type": "display_data",
          "data": {
            "image/png": "[encoded data removed]",
            "text/plain": [
              "<Figure size 432x288 with 1 Axes>"
            ]
          },
          "metadata": {
            "tags": [],
            "needs_background": "light"
          }
        }
      ]
    },
    {
      "cell_type": "code",
      "metadata": {
        "id": "oEtOXkRXdxi2",
        "colab": {
          "base_uri": "https://localhost:8080/",
          "height": 450
        },
        "outputId": "f7853c54-ab74-4012-9bb9-2cc2da6834c5"
      },
      "source": [
        "EPD.drop('Volume', axis=1).resample('2W').mean()"
      ],
      "execution_count": null,
      "outputs": [
        {
          "output_type": "execute_result",
          "data": {
            "text/html": [
              "<div>\n",
              "<style scoped>\n",
              "    .dataframe tbody tr th:only-of-type {\n",
              "        vertical-align: middle;\n",
              "    }\n",
              "\n",
              "    .dataframe tbody tr th {\n",
              "        vertical-align: top;\n",
              "    }\n",
              "\n",
              "    .dataframe thead th {\n",
              "        text-align: right;\n",
              "    }\n",
              "</style>\n",
              "<table border=\"1\" class=\"dataframe\">\n",
              "  <thead>\n",
              "    <tr style=\"text-align: right;\">\n",
              "      <th></th>\n",
              "      <th>Open</th>\n",
              "      <th>High</th>\n",
              "      <th>Low</th>\n",
              "      <th>Close</th>\n",
              "      <th>Adj Close</th>\n",
              "    </tr>\n",
              "    <tr>\n",
              "      <th>Date</th>\n",
              "      <th></th>\n",
              "      <th></th>\n",
              "      <th></th>\n",
              "      <th></th>\n",
              "      <th></th>\n",
              "    </tr>\n",
              "  </thead>\n",
              "  <tbody>\n",
              "    <tr>\n",
              "      <th>2010-07-04</th>\n",
              "      <td>23.197500</td>\n",
              "      <td>26.110000</td>\n",
              "      <td>19.955000</td>\n",
              "      <td>22.220000</td>\n",
              "      <td>22.220000</td>\n",
              "    </tr>\n",
              "    <tr>\n",
              "      <th>2010-07-18</th>\n",
              "      <td>18.226667</td>\n",
              "      <td>19.078889</td>\n",
              "      <td>17.071111</td>\n",
              "      <td>18.036666</td>\n",
              "      <td>18.036666</td>\n",
              "    </tr>\n",
              "    <tr>\n",
              "      <th>2010-08-01</th>\n",
              "      <td>20.950000</td>\n",
              "      <td>21.271000</td>\n",
              "      <td>20.252000</td>\n",
              "      <td>20.723000</td>\n",
              "      <td>20.723000</td>\n",
              "    </tr>\n",
              "    <tr>\n",
              "      <th>2010-08-15</th>\n",
              "      <td>19.931000</td>\n",
              "      <td>20.167000</td>\n",
              "      <td>19.274000</td>\n",
              "      <td>19.662000</td>\n",
              "      <td>19.662000</td>\n",
              "    </tr>\n",
              "    <tr>\n",
              "      <th>2010-08-29</th>\n",
              "      <td>19.133000</td>\n",
              "      <td>19.637000</td>\n",
              "      <td>18.809000</td>\n",
              "      <td>19.327000</td>\n",
              "      <td>19.327000</td>\n",
              "    </tr>\n",
              "    <tr>\n",
              "      <th>...</th>\n",
              "      <td>...</td>\n",
              "      <td>...</td>\n",
              "      <td>...</td>\n",
              "      <td>...</td>\n",
              "      <td>...</td>\n",
              "    </tr>\n",
              "    <tr>\n",
              "      <th>2020-02-16</th>\n",
              "      <td>768.609998</td>\n",
              "      <td>819.090997</td>\n",
              "      <td>742.278003</td>\n",
              "      <td>781.577008</td>\n",
              "      <td>781.577008</td>\n",
              "    </tr>\n",
              "    <tr>\n",
              "      <th>2020-03-01</th>\n",
              "      <td>823.803331</td>\n",
              "      <td>843.726671</td>\n",
              "      <td>793.288893</td>\n",
              "      <td>815.079990</td>\n",
              "      <td>815.079990</td>\n",
              "    </tr>\n",
              "    <tr>\n",
              "      <th>2020-03-15</th>\n",
              "      <td>677.490009</td>\n",
              "      <td>695.659003</td>\n",
              "      <td>640.409998</td>\n",
              "      <td>666.137994</td>\n",
              "      <td>666.137994</td>\n",
              "    </tr>\n",
              "    <tr>\n",
              "      <th>2020-03-29</th>\n",
              "      <td>461.995004</td>\n",
              "      <td>489.906998</td>\n",
              "      <td>437.482001</td>\n",
              "      <td>461.272000</td>\n",
              "      <td>461.272000</td>\n",
              "    </tr>\n",
              "    <tr>\n",
              "      <th>2020-04-12</th>\n",
              "      <td>519.836673</td>\n",
              "      <td>533.522230</td>\n",
              "      <td>499.873338</td>\n",
              "      <td>513.966671</td>\n",
              "      <td>513.966671</td>\n",
              "    </tr>\n",
              "  </tbody>\n",
              "</table>\n",
              "<p>256 rows × 5 columns</p>\n",
              "</div>"
            ],
            "text/plain": [
              "                  Open        High         Low       Close   Adj Close\n",
              "Date                                                                  \n",
              "2010-07-04   23.197500   26.110000   19.955000   22.220000   22.220000\n",
              "2010-07-18   18.226667   19.078889   17.071111   18.036666   18.036666\n",
              "2010-08-01   20.950000   21.271000   20.252000   20.723000   20.723000\n",
              "2010-08-15   19.931000   20.167000   19.274000   19.662000   19.662000\n",
              "2010-08-29   19.133000   19.637000   18.809000   19.327000   19.327000\n",
              "...                ...         ...         ...         ...         ...\n",
              "2020-02-16  768.609998  819.090997  742.278003  781.577008  781.577008\n",
              "2020-03-01  823.803331  843.726671  793.288893  815.079990  815.079990\n",
              "2020-03-15  677.490009  695.659003  640.409998  666.137994  666.137994\n",
              "2020-03-29  461.995004  489.906998  437.482001  461.272000  461.272000\n",
              "2020-04-12  519.836673  533.522230  499.873338  513.966671  513.966671\n",
              "\n",
              "[256 rows x 5 columns]"
            ]
          },
          "metadata": {
            "tags": []
          },
          "execution_count": 87
        }
      ]
    },
    {
      "cell_type": "code",
      "metadata": {
        "id": "OJhNCIsLe-iM",
        "colab": {
          "base_uri": "https://localhost:8080/",
          "height": 296
        },
        "outputId": "c82a210d-108c-46dc-a8f7-c3ffdce969b9"
      },
      "source": [
        "EPD.drop('Volume', axis=1).resample('1W').mean().plot()"
      ],
      "execution_count": null,
      "outputs": [
        {
          "output_type": "execute_result",
          "data": {
            "text/plain": [
              "<matplotlib.axes._subplots.AxesSubplot at 0x7f5a17aec5f8>"
            ]
          },
          "metadata": {
            "tags": []
          },
          "execution_count": 88
        },
        {
          "output_type": "display_data",
          "data": {
            "image/png": "[encoded data removed]",
            "text/plain": [
              "<Figure size 432x288 with 1 Axes>"
            ]
          },
          "metadata": {
            "tags": [],
            "needs_background": "light"
          }
        }
      ]
    },
    {
      "cell_type": "code",
      "metadata": {
        "id": "V7ZDWAFcfFsQ",
        "colab": {
          "base_uri": "https://localhost:8080/",
          "height": 296
        },
        "outputId": "e977ff75-c176-44ae-a888-110195594ba9"
      },
      "source": [
        "EPD.drop('Volume', axis=1).resample('1A').mean().plot()"
      ],
      "execution_count": null,
      "outputs": [
        {
          "output_type": "execute_result",
          "data": {
            "text/plain": [
              "<matplotlib.axes._subplots.AxesSubplot at 0x7f5a175da470>"
            ]
          },
          "metadata": {
            "tags": []
          },
          "execution_count": 89
        },
        {
          "output_type": "display_data",
          "data": {
            "image/png": "[encoded data removed]",
            "text/plain": [
              "<Figure size 432x288 with 1 Axes>"
            ]
          },
          "metadata": {
            "tags": [],
            "needs_background": "light"
          }
        }
      ]
    },
    {
      "cell_type": "code",
      "metadata": {
        "id": "uFk9qzoDfOIN",
        "colab": {
          "base_uri": "https://localhost:8080/",
          "height": 297
        },
        "outputId": "24cf9ff7-bc6b-40f7-a1c6-a81348df46f8"
      },
      "source": [
        "TSLA.drop('Volume', axis=1).resample('1A').max().plot()"
      ],
      "execution_count": null,
      "outputs": [
        {
          "output_type": "execute_result",
          "data": {
            "text/plain": [
              "<matplotlib.axes._subplots.AxesSubplot at 0x7f5a1746e1d0>"
            ]
          },
          "metadata": {
            "tags": []
          },
          "execution_count": 90
        },
        {
          "output_type": "display_data",
          "data": {
            "image/png": "[encoded data removed]",
            "text/plain": [
              "<Figure size 432x288 with 1 Axes>"
            ]
          },
          "metadata": {
            "tags": [],
            "needs_background": "light"
          }
        }
      ]
    },
    {
      "cell_type": "code",
      "metadata": {
        "id": "ZcpJYtvtfQ36",
        "colab": {
          "base_uri": "https://localhost:8080/",
          "height": 238
        },
        "outputId": "27103a0b-09ee-4c0a-d435-8b7bb8853cb4"
      },
      "source": [
        "EPD['Close'].pct_change().ewm(span=30).std()"
      ],
      "execution_count": null,
      "outputs": [
        {
          "output_type": "execute_result",
          "data": {
            "text/plain": [
              "Date\n",
              "2010-06-29         NaN\n",
              "2010-06-30         NaN\n",
              "2010-07-01    0.053713\n",
              "2010-07-02    0.061803\n",
              "2010-07-06    0.067734\n",
              "                ...   \n",
              "2020-04-03    0.082234\n",
              "2020-04-06    0.082024\n",
              "2020-04-07    0.080566\n",
              "2020-04-08    0.077925\n",
              "2020-04-09    0.076024\n",
              "Name: Close, Length: 2463, dtype: float64"
            ]
          },
          "metadata": {
            "tags": []
          },
          "execution_count": 91
        }
      ]
    },
    {
      "cell_type": "code",
      "metadata": {
        "id": "_EPlXpGWfvj8",
        "colab": {
          "base_uri": "https://localhost:8080/",
          "height": 286
        },
        "outputId": "da54f1fd-0bdd-4454-db6e-f5f955776a4f"
      },
      "source": [
        "EPD['Close'].pct_change().ewm(span=30).std().plot()"
      ],
      "execution_count": null,
      "outputs": [
        {
          "output_type": "execute_result",
          "data": {
            "text/plain": [
              "<matplotlib.axes._subplots.AxesSubplot at 0x7f5a1745d2e8>"
            ]
          },
          "metadata": {
            "tags": []
          },
          "execution_count": 92
        },
        {
          "output_type": "display_data",
          "data": {
            "image/png": "[encoded data removed]",
            "text/plain": [
              "<Figure size 432x288 with 1 Axes>"
            ]
          },
          "metadata": {
            "tags": [],
            "needs_background": "light"
          }
        }
      ]
    }
  ]
}